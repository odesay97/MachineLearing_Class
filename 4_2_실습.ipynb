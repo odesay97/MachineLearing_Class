{
  "nbformat": 4,
  "nbformat_minor": 0,
  "metadata": {
    "colab": {
      "provenance": [],
      "toc_visible": true,
      "authorship_tag": "ABX9TyPE7MgqfQjsVCSSDF6DCC7W",
      "include_colab_link": true
    },
    "kernelspec": {
      "name": "python3",
      "display_name": "Python 3"
    },
    "language_info": {
      "name": "python"
    }
  },
  "cells": [
    {
      "cell_type": "markdown",
      "metadata": {
        "id": "view-in-github",
        "colab_type": "text"
      },
      "source": [
        "<a href=\"https://colab.research.google.com/github/odesay97/MachineLearing_Class/blob/main/4_2_%EC%8B%A4%EC%8A%B5.ipynb\" target=\"_parent\"><img src=\"https://colab.research.google.com/assets/colab-badge.svg\" alt=\"Open In Colab\"/></a>"
      ]
    },
    {
      "cell_type": "code",
      "execution_count": 22,
      "metadata": {
        "colab": {
          "base_uri": "https://localhost:8080/"
        },
        "id": "3kluD9ZexTUL",
        "outputId": "6ea9a0c1-8977-4f06-8e8c-ee1fead59ff3"
      },
      "outputs": [
        {
          "output_type": "stream",
          "name": "stdout",
          "text": [
            "     Sepal.Length  Sepal.Width  Petal.Length  Petal.Width    Species\n",
            "0             5.1          3.5           1.4          0.2     setosa\n",
            "1             4.9          3.0           1.4          0.2     setosa\n",
            "2             4.7          3.2           1.3          0.2     setosa\n",
            "3             4.6          3.1           1.5          0.2     setosa\n",
            "4             5.0          3.6           1.4          0.2     setosa\n",
            "..            ...          ...           ...          ...        ...\n",
            "145           6.7          3.0           5.2          2.3  virginica\n",
            "146           6.3          2.5           5.0          1.9  virginica\n",
            "147           6.5          3.0           5.2          2.0  virginica\n",
            "148           6.2          3.4           5.4          2.3  virginica\n",
            "149           5.9          3.0           5.1          1.8  virginica\n",
            "\n",
            "[150 rows x 5 columns]\n",
            "[[5.1 3.5 1.4 0.2]\n",
            " [4.9 3.  1.4 0.2]\n",
            " [4.7 3.2 1.3 0.2]\n",
            " [4.6 3.1 1.5 0.2]\n",
            " [5.  3.6 1.4 0.2]]\n",
            "['setosa' 'setosa' 'setosa' 'setosa' 'setosa']\n",
            "['setosa' 'versicolor' 'virginica']\n",
            "0.9642857142857143\n",
            "0.9210526315789473\n",
            "['setosa' 'versicolor' 'versicolor' 'versicolor' 'setosa']\n",
            "[[1.         0.         0.        ]\n",
            " [0.         0.66666667 0.33333333]\n",
            " [0.         1.         0.        ]\n",
            " [0.         1.         0.        ]\n",
            " [1.         0.         0.        ]]\n",
            "0.9642857142857143\n",
            "0.9473684210526315\n",
            "0.9553571428571429\n",
            "0.9210526315789473\n"
          ]
        }
      ],
      "source": [
        "# 1. 데이터 준비\n",
        "# 2. 클래스 추출\n",
        "# 3. 입력데이터와 정답데이터를 생성햊보자\n",
        "# 4. 훈련세트와 테스트세트로 나누자\n",
        "# 5. 데이터 표준화\n",
        "# 6. k최근접 이웃 알고지즘을 이용하여 훈련하고 훈련세트와 테스트세트에 대해 평가\n",
        "# 7. 테스트세트의 5개의 데이터에 대해서 예측과 확률을 알아보자\n",
        "# 8. 최적화해보자\n",
        "\n",
        "# k 최근접\n",
        "import pandas as pd\n",
        "import numpy as np\n",
        "\n",
        "data = pd.read_csv(\"https://raw.githubusercontent.com/jmnote/zdata/master/R/iris.csv\")\n",
        "print(data)\n",
        "\n",
        "iris_train = data[['Sepal.Length','Sepal.Width','Petal.Length','Petal.Width']].to_numpy()\n",
        "print(iris_train[:5])\n",
        "\n",
        "iris_target = data['Species'].to_numpy()\n",
        "print(iris_target[:5])\n",
        "\n",
        "# 클래스 추출\n",
        "print(np.unique(iris_target))\n",
        "\n",
        "# 훈련세트 테스트세트 나누기 -> stratify 필수 ! -> 클래스 데이터를 기준으로 편향을 없애므로 아래와 같이\n",
        "\n",
        "from sklearn.model_selection import train_test_split\n",
        "\n",
        "train_input, test_input, train_target,test_target = train_test_split(iris_train, iris_target, stratify=iris_target, random_state=42)\n",
        "\n",
        "# 정규화\n",
        "from sklearn.preprocessing import StandardScaler\n",
        "\n",
        "ss = StandardScaler()\n",
        "ss.fit(train_input)\n",
        "train_scaled = ss.transform(train_input)\n",
        "test_scaled = ss.transform(test_input)\n",
        "\n",
        "# k 최근접으로 훈련\n",
        "\n",
        "from sklearn.neighbors import KNeighborsClassifier\n",
        "\n",
        "kn = KNeighborsClassifier(n_neighbors = 3)\n",
        "kn.fit(train_scaled,train_target)\n",
        "\n",
        "# 평가\n",
        "print(kn.score(train_scaled, train_target))\n",
        "print(kn.score(test_scaled, test_target))\n",
        "\n",
        "#  앞에 5개 예측\n",
        "print(kn.predict(test_scaled[:5]))\n",
        "\n",
        "# 확률\n",
        "proba = kn.predict_proba(test_scaled[:5])\n",
        "print(proba)\n",
        "\n",
        "\n",
        "#-------------------------------------------------------\n",
        "\n",
        "# 확률적 경사하강법\n",
        "\n",
        "# 데이터 가져오기, 훈련세트 테스트세트 나누기, 정규화까지는 동일\n",
        "\n",
        "# 확률적 경사하강법 훈련 ( 규제 로그로스 사용 )\n",
        "\n",
        "from sklearn.linear_model import SGDClassifier\n",
        "\n",
        "sgd = SGDClassifier(loss= 'log_loss',max_iter=100,tol = None, random_state=42)\n",
        "sgd.fit(train_scaled,train_target)\n",
        "\n",
        "print(sgd.score(train_scaled,train_target))\n",
        "print(sgd.score(test_scaled,test_target))\n",
        "\n",
        "from sklearn.linear_model import SGDClassifier\n",
        "\n",
        "sgd = SGDClassifier(loss= 'hinge',max_iter=100,tol = None, random_state=42)\n",
        "sgd.fit(train_scaled,train_target)\n",
        "\n",
        "print(sgd.score(train_scaled,train_target))\n",
        "print(sgd.score(test_scaled,test_target))"
      ]
    }
  ]
}