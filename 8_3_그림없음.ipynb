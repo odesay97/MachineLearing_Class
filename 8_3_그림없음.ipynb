{
  "nbformat": 4,
  "nbformat_minor": 0,
  "metadata": {
    "colab": {
      "provenance": [],
      "gpuType": "T4",
      "authorship_tag": "ABX9TyPix3DPaQxcvRCqnRs+coQO",
      "include_colab_link": true
    },
    "kernelspec": {
      "name": "python3",
      "display_name": "Python 3"
    },
    "language_info": {
      "name": "python"
    },
    "accelerator": "GPU"
  },
  "cells": [
    {
      "cell_type": "markdown",
      "metadata": {
        "id": "view-in-github",
        "colab_type": "text"
      },
      "source": [
        "<a href=\"https://colab.research.google.com/github/odesay97/MachineLearing_Class/blob/main/8_3_%EA%B7%B8%EB%A6%BC%EC%97%86%EC%9D%8C.ipynb\" target=\"_parent\"><img src=\"https://colab.research.google.com/assets/colab-badge.svg\" alt=\"Open In Colab\"/></a>"
      ]
    },
    {
      "cell_type": "markdown",
      "source": [
        "## 합성곱 신경망의 시각화\n",
        "\n",
        "합성곱 층이 이미지에서 어떤 것을 학습했는지 알아보기 위해 합성곱 층의 가중치와 특성 맵을 그림으로 시각화 해보자\n",
        "\n",
        "합성곱 신경망의 동작 원리에 대한 통찰력을 높일 수 있음\n",
        "\n",
        "이전 절 (8-2)에서 훈련했던 모델 파라미터가 필요"
      ],
      "metadata": {
        "id": "6ZVIsHTrXssY"
      }
    },
    {
      "cell_type": "markdown",
      "source": [
        "그림"
      ],
      "metadata": {
        "id": "s73T1AfxX9aN"
      }
    },
    {
      "cell_type": "markdown",
      "source": [
        "### 가중치 시각화\n",
        "\n",
        "합성곱 층은 여러개의 필터를 사용해 이미지에서 특징을 학습함\n",
        "\n",
        "각 필터는 커널이라 부르는 가중치와 절편을 보유\n",
        "\n",
        "일반적으로 절편은 시각적으로 의미가 없음\n",
        "\n",
        "가중치는 입력 이미지의 2차원 영역에 적용되어 어떤 특징을 크게 두드러지게 표현하는 역할을 함\n",
        "\n",
        "예를 들어 둥근 모서리가 있는 영역을 크게 활성화하고 그렇지 않은 영역은 낮은 값을 만듬\n",
        "\n",
        "즉, 이 필터는 곡선 부분의 가중치 값이 높고 그 외 부분은 가중치 값이 낮을 것임 그래야만 둥근 모서리가 있는 입력과 곱해져서 큰 출력을 만들기 때문\n"
      ],
      "metadata": {
        "id": "_FC6mw0aaMnl"
      }
    },
    {
      "cell_type": "code",
      "source": [
        "# 실행마다 동일한 결과를 얻기 위해 케라스에 랜덤 시드를 사용하고 텐서플로 연산을 결정적으로 만듭니다.\n",
        "import tensorflow as tf\n",
        "\n",
        "tf.keras.utils.set_random_seed(42)\n",
        "tf.config.experimental.enable_op_determinism()"
      ],
      "metadata": {
        "id": "T5BrqkM0b0Vm"
      },
      "execution_count": 4,
      "outputs": []
    },
    {
      "cell_type": "markdown",
      "source": [
        "### 체크 포인트 파일 불러오기\n",
        "\n",
        "8-2 에서 했던 모델 불러옴 -> 그래서 없다 그러면 휘발된거니까 다시 실행시키고 오셈"
      ],
      "metadata": {
        "id": "nUUhQsAObZaP"
      }
    },
    {
      "cell_type": "code",
      "source": [
        "# 그냥 저장하면 휘발되므로 내 구글드라이브에 영구저장하기 위해서 내 구글드라이브 마운트 (연결)\n",
        "from google.colab import drive\n",
        "drive.mount('/content/driver/')"
      ],
      "metadata": {
        "colab": {
          "base_uri": "https://localhost:8080/"
        },
        "id": "jXIRyu8Ac8Rm",
        "outputId": "760ff5cf-447b-4156-b5dd-bc3d36523607"
      },
      "execution_count": 5,
      "outputs": [
        {
          "output_type": "stream",
          "name": "stdout",
          "text": [
            "Drive already mounted at /content/driver/; to attempt to forcibly remount, call drive.mount(\"/content/driver/\", force_remount=True).\n"
          ]
        }
      ]
    },
    {
      "cell_type": "code",
      "execution_count": 6,
      "metadata": {
        "id": "EwA6TE6SXqVH"
      },
      "outputs": [],
      "source": [
        "from tensorflow import keras\n",
        "model = keras.models.load_model('/content/driver/MyDrive/best-cnn-model.h5')"
      ]
    },
    {
      "cell_type": "markdown",
      "source": [
        "케라스 모델에 추가한 층은 layers 속성이 저장되어 있음"
      ],
      "metadata": {
        "id": "WP2ThyWoeuXP"
      }
    },
    {
      "cell_type": "code",
      "source": [
        "model.layers"
      ],
      "metadata": {
        "colab": {
          "base_uri": "https://localhost:8080/"
        },
        "id": "ym2mVA8jfLNY",
        "outputId": "da2c8d4e-5c00-4f07-c386-70138aec3eaf"
      },
      "execution_count": 7,
      "outputs": [
        {
          "output_type": "execute_result",
          "data": {
            "text/plain": [
              "[<keras.src.layers.convolutional.conv2d.Conv2D at 0x7a6aa954e0e0>,\n",
              " <keras.src.layers.pooling.max_pooling2d.MaxPooling2D at 0x7a6aa954f340>,\n",
              " <keras.src.layers.convolutional.conv2d.Conv2D at 0x7a6aa954f310>,\n",
              " <keras.src.layers.pooling.max_pooling2d.MaxPooling2D at 0x7a6aa954ef80>,\n",
              " <keras.src.layers.reshaping.flatten.Flatten at 0x7a6a9c090490>,\n",
              " <keras.src.layers.core.dense.Dense at 0x7a6a9c090dc0>,\n",
              " <keras.src.layers.regularization.dropout.Dropout at 0x7a6a9c090cd0>,\n",
              " <keras.src.layers.core.dense.Dense at 0x7a6a9c091960>]"
            ]
          },
          "metadata": {},
          "execution_count": 7
        }
      ]
    },
    {
      "cell_type": "code",
      "source": [
        "# 첫번쨰 합성곱 층의 가중치 조사 -> 위에서 Conv2D 층\n",
        "\n",
        "conv = model.layers[0]\n",
        "\n",
        "print(conv.weights[0].shape, conv.weights[1].shape)"
      ],
      "metadata": {
        "colab": {
          "base_uri": "https://localhost:8080/"
        },
        "id": "UjqN7WAvfQG-",
        "outputId": "33ea84fe-0a54-41a3-b32c-45a027617950"
      },
      "execution_count": 8,
      "outputs": [
        {
          "output_type": "stream",
          "name": "stdout",
          "text": [
            "(3, 3, 1, 32) (32,)\n"
          ]
        }
      ]
    },
    {
      "cell_type": "markdown",
      "source": [
        "커널의 크기가 (3,3)이고, 합성곱 층에 전달되는 입력의 깊이가 1이므로 실제 커널 크기는 (3,3,1)임\n",
        "\n",
        "필터 개수가 32개 이므로 weights의 첫번쨰 원소인 가중치의 크기는 (3,3,1,32)\n",
        "\n",
        "weights의 두번쨰 원소는 절편의 개수를 나타내며 각 필터마다 1개의 절편이 있으므로 (32,)"
      ],
      "metadata": {
        "id": "y7377NipfXVt"
      }
    },
    {
      "cell_type": "code",
      "source": [
        "# 두번쨰 합성곱 층의 가중치 조사 -> 위에서 두번쨰 Conv2D층\n",
        "conv = model.layers[2]\n",
        "\n",
        "print(conv.weights[0].shape, conv.weights[1].shape)"
      ],
      "metadata": {
        "colab": {
          "base_uri": "https://localhost:8080/"
        },
        "id": "4tGTCkz-faYu",
        "outputId": "8cb09965-4b19-4a71-cc3d-1cbdfe48382d"
      },
      "execution_count": 10,
      "outputs": [
        {
          "output_type": "stream",
          "name": "stdout",
          "text": [
            "(3, 3, 32, 64) (64,)\n"
          ]
        }
      ]
    },
    {
      "cell_type": "markdown",
      "source": [
        "### 가중치 히스토그램\n",
        "\n",
        "weights 속성은 텐서플로의 다차원 배열은 Tensor 클래스의 객체임\n",
        "\n",
        "다루기 쉽도록 넘파이 배열로 변환\n",
        "\n",
        "먼저 가중치 배열의 평균과 표준편차를 계산하고 히스토그램으로 값을 확인하자"
      ],
      "metadata": {
        "id": "kXoT_pKHfmme"
      }
    },
    {
      "cell_type": "code",
      "source": [
        "conv_weights = conv.weights[0].numpy()\n",
        "\n",
        "print(conv_weights.mean(), conv_weights.std(), conv_weights.max(), conv_weights.min())"
      ],
      "metadata": {
        "colab": {
          "base_uri": "https://localhost:8080/"
        },
        "id": "U0R2-2j-f0nG",
        "outputId": "55b7b103-c7d5-4b04-9540-514160cd50bb"
      },
      "execution_count": 11,
      "outputs": [
        {
          "output_type": "stream",
          "name": "stdout",
          "text": [
            "-0.035053056 0.1455589 0.50660676 -0.8471269\n"
          ]
        }
      ]
    },
    {
      "cell_type": "markdown",
      "source": [
        "### 가중치의 분포를 히스토그램으로 그려 직관적으로 이해해보자\n",
        "\n"
      ],
      "metadata": {
        "id": "o_aDUmuwf_3G"
      }
    },
    {
      "cell_type": "code",
      "source": [
        "import matplotlib.pyplot as plt\n",
        "\n",
        "plt.hist(conv_weights.reshape(-1, 1))\n",
        "plt.xlabel('weight')\n",
        "plt.ylabel('count')\n",
        "plt.show()"
      ],
      "metadata": {
        "colab": {
          "base_uri": "https://localhost:8080/",
          "height": 449
        },
        "id": "Wr_lA72CgCjf",
        "outputId": "0447d8f4-2329-42cf-cb96-3fbfa6ef9d29"
      },
      "execution_count": 12,
      "outputs": [
        {
          "output_type": "display_data",
          "data": {
            "text/plain": [
              "<Figure size 640x480 with 1 Axes>"
            ],
            "image/png": "[encoded data removed]"
          },
          "metadata": {}
        }
      ]
    },
    {
      "cell_type": "markdown",
      "source": [
        "히스토그램을 보면 0을 중심으로 종 모양 분포를 띠고 있음\n",
        "\n",
        "이 가중치는 무엇인가 의미를 학습한 것인가?"
      ],
      "metadata": {
        "id": "DCzEasmAgIdW"
      }
    },
    {
      "cell_type": "code",
      "source": [
        "# 32개의 필터를 16개씩 두 줄에 출력\n",
        "fig, axs = plt.subplots(2, 16, figsize=(15,2)) # figsize는 각 subplots의 크기가 아닌 전체 그림의 크기\n",
        "\n",
        "for i in range(2):\n",
        "    for j in range(16):\n",
        "        axs[i, j].imshow(conv_weights[:,:,0,i*16 + j], vmin=-0.5, vmax=0.5) # vmin, vmax : 색상의 최소값과 최대값을 조정\n",
        "        axs[i, j].axis('off')\n",
        "# plt.savefig('aaa.png') # 그림 저장\n",
        "\n",
        "plt.show()"
      ],
      "metadata": {
        "colab": {
          "base_uri": "https://localhost:8080/",
          "height": 132
        },
        "id": "9Wr7p_ywgOA2",
        "outputId": "19bdf540-4d93-4c2c-b9d2-4ef31ec8f705"
      },
      "execution_count": 15,
      "outputs": [
        {
          "output_type": "display_data",
          "data": {
            "text/plain": [
              "<Figure size 1500x200 with 32 Axes>"
            ],
            "image/png": "[encoded data removed]"
          },
          "metadata": {}
        }
      ]
    },
    {
      "cell_type": "markdown",
      "source": [
        "결과 그래프를 보면 가중치 값이 무작위로 나열된 것이 아닌 어떤 패턴을 볼 수 있음\n",
        "\n",
        "참고로 밝은 부분의 값이 높음\n",
        "\n",
        "첫번쨰 줄의 11번째 필터에서 위쪽의 3픽셀의 값이 높음\n",
        "\n",
        "즉, 이 가중치는 직선을 만나면 크게 활성화될 것임"
      ],
      "metadata": {
        "id": "RUzhWzg4gnh8"
      }
    },
    {
      "cell_type": "markdown",
      "source": [
        "## 신경망의 가중치는 어떻게 선택될까?"
      ],
      "metadata": {
        "id": "fAYXfSNJg20N"
      }
    },
    {
      "cell_type": "code",
      "source": [
        "# 훈련하지 않은 빈 합성곱 신경망을 만들고 분석해보자\n",
        "no_training_model = keras.Sequential()\n",
        "\n",
        "no_training_model.add(keras.layers.Conv2D(32, kernel_size=3, activation='relu',\n",
        "                                          padding='same', input_shape=(28,28,1)))\n",
        "\n",
        "no_training_conv = no_training_model.layers[0] # 첫번쨰 층의 가중치를 변수에 저장\n",
        "\n",
        "print(no_training_conv.weights[0].shape)"
      ],
      "metadata": {
        "colab": {
          "base_uri": "https://localhost:8080/"
        },
        "id": "gioPMRjDgnDk",
        "outputId": "e01adf81-e0d3-448a-8f6b-0a2330006294"
      },
      "execution_count": 16,
      "outputs": [
        {
          "output_type": "stream",
          "name": "stdout",
          "text": [
            "(3, 3, 1, 32)\n"
          ]
        }
      ]
    },
    {
      "cell_type": "code",
      "source": [
        "no_training_weights = no_training_conv.weights[0].numpy()\n",
        "\n",
        "print(no_training_weights.mean(), no_training_weights.std())"
      ],
      "metadata": {
        "colab": {
          "base_uri": "https://localhost:8080/"
        },
        "id": "MMheToM_hTGX",
        "outputId": "5ea3ed52-788e-4e30-8c47-674d99579d24"
      },
      "execution_count": 17,
      "outputs": [
        {
          "output_type": "stream",
          "name": "stdout",
          "text": [
            "0.0053191613 0.08463709\n"
          ]
        }
      ]
    },
    {
      "cell_type": "markdown",
      "source": [
        "평균은 이전과 동일하게 0에 가깝지만 표준편차는 이전과 달리 매우 작음\n",
        "\n",
        "또한 최대값과 최소값의 차이도 작음"
      ],
      "metadata": {
        "id": "Q9IFr-IOhT4a"
      }
    },
    {
      "cell_type": "code",
      "source": [
        "plt.hist(no_training_weights.reshape(-1, 1))\n",
        "plt.xlabel('weight')\n",
        "plt.ylabel('count')\n",
        "plt.show()"
      ],
      "metadata": {
        "colab": {
          "base_uri": "https://localhost:8080/",
          "height": 449
        },
        "id": "92laQxsMhYvy",
        "outputId": "147c59ac-cf51-456f-86bc-ac477ea49996"
      },
      "execution_count": 18,
      "outputs": [
        {
          "output_type": "display_data",
          "data": {
            "text/plain": [
              "<Figure size 640x480 with 1 Axes>"
            ],
            "image/png": "[encoded data removed]"
          },
          "metadata": {}
        }
      ]
    },
    {
      "cell_type": "markdown",
      "source": [
        "대부분의 가중치가 -0.15~0.15 사이에 존재하며 비교적 고른 분포를 보임\n",
        "\n",
        "텐서플로가 신경망의 가중치를 처음 초기화할 때 균등 분포에서 랜덤하게 값을 선택하기 때문"
      ],
      "metadata": {
        "id": "FMRnIhaBhq2p"
      }
    },
    {
      "cell_type": "code",
      "source": [
        "fig, axs = plt.subplots(2, 16, figsize=(15,2))\n",
        "\n",
        "for i in range(2):\n",
        "    for j in range(16):\n",
        "        axs[i, j].imshow(no_training_weights[:,:,0,i*16 + j], vmin=-0.5, vmax=0.5)\n",
        "        axs[i, j].axis('off')\n",
        "\n",
        "plt.show()"
      ],
      "metadata": {
        "colab": {
          "base_uri": "https://localhost:8080/",
          "height": 202
        },
        "id": "rN7_bZjFhvRx",
        "outputId": "b0f6894f-3d7c-42fc-96d2-e9e0a9ce912b"
      },
      "execution_count": 19,
      "outputs": [
        {
          "output_type": "display_data",
          "data": {
            "text/plain": [
              "<Figure size 1500x200 with 32 Axes>"
            ],
            "image/png": "[encoded data removed]"
          },
          "metadata": {}
        }
      ]
    },
    {
      "cell_type": "markdown",
      "source": [
        "전체적으로 가중치가 밋밋하게 초기화 되어 있음\n",
        "\n",
        "훈련이 끝난 이전 가중치와 비교하면 합성곱 신경망이 패션 MNIST 데이터셋의 분류 정확도를 높이기 이해 유용한 패턴을 학습했다는 것을 알 수 있음"
      ],
      "metadata": {
        "id": "kD8OcLBZhxsx"
      }
    },
    {
      "cell_type": "markdown",
      "source": [
        "## 합성곱 신경망의 학습을 시각화하는 두번쨰 방법"
      ],
      "metadata": {
        "id": "7P3ryZZoh6Ep"
      }
    },
    {
      "cell_type": "markdown",
      "source": [
        "### 함수형 API( Application Programming Interface)\n",
        "\n",
        "케라스 Sequential 클래스 : 층을 차례대로 쌓은 모델\n",
        "\n",
        "딥러닝에서는 좀 더 복잡한 모델이 존재\n",
        "\n",
        "입력이 2개일 수도 있고 출력이 2개일 수도 있음\n",
        "\n",
        "이러한 경우에 함수형 API(functional API)를 사용함\n",
        "\n",
        "-----------\n",
        "\n",
        "함수형 API는 케라스의 Model 클래스를 사용하여 모델을 만듬\n",
        "\n",
        "예를 들어, 7장에서 만들었던 Dense 층 2개로 이루어진 완전ㄴ 연결 신경망을 함수형 API로 구현하면 다음과 같음"
      ],
      "metadata": {
        "id": "7vx5xZUhh_0Q"
      }
    },
    {
      "cell_type": "code",
      "source": [
        "dense1 = keras.layers.Dense(100,activation='sigmoid')\n",
        "dense2 = keras.layers.Dense(10,activation='softmax')"
      ],
      "metadata": {
        "id": "IqHR1Bn1iI9B"
      },
      "execution_count": null,
      "outputs": []
    },
    {
      "cell_type": "markdown",
      "source": [
        "이 두 코드는 7장과 거의 동일\n",
        "\n",
        "이 객체를 Seequential 클래스 객체의 .add() 메소드에 전달할 수 있으나 다음과 같이 함수처럼 호출할 수 있음"
      ],
      "metadata": {
        "id": "m4DANNMIiVqh"
      }
    },
    {
      "cell_type": "code",
      "source": [
        "hidden = dense1(inputs)"
      ],
      "metadata": {
        "id": "N4SqpxWAifga"
      },
      "execution_count": null,
      "outputs": []
    },
    {
      "cell_type": "markdown",
      "source": [
        "파이썬의 모든 객체는 호출이 가능함\n",
        "\n",
        "케라스의 층은 객체를 함수처럼 호출했을 때 적절히 동작할 수 있도록 미리 준비해놓음\n",
        "\n",
        "위 코드는 입력값 inputs를 Dense 층에 통과시킨 후 출력값 hidden을 만들어줌\n",
        "\n",
        "이런 특성이 함수형 API라고 부르게 함\n",
        "\n",
        "두번쨰 층은 다음과 같이 호출함. 이때 첫번째 층의 출력을 입력으로 사용함"
      ],
      "metadata": {
        "id": "rmHw9JSZihTY"
      }
    },
    {
      "cell_type": "code",
      "source": [
        "outputs = dense2(hidden)"
      ],
      "metadata": {
        "id": "syZ4HSTlCPYa"
      },
      "execution_count": null,
      "outputs": []
    },
    {
      "cell_type": "markdown",
      "source": [
        "그다음 inputs와 outputs를 Model 클래스로 연결"
      ],
      "metadata": {
        "id": "dRDlEOBKCTpx"
      }
    },
    {
      "cell_type": "code",
      "source": [
        "model = keras.Model(inputs,outputs)"
      ],
      "metadata": {
        "id": "3xiJWeZdiwY_"
      },
      "execution_count": null,
      "outputs": []
    },
    {
      "cell_type": "markdown",
      "source": [
        "입력에서 출력까지 층을 호출한 결과를 계속 이어주고 Model 클래스에 입력과 최종 출력을 지정"
      ],
      "metadata": {
        "id": "uSMSg6yPi1YH"
      }
    },
    {
      "cell_type": "markdown",
      "source": [
        "그림"
      ],
      "metadata": {
        "id": "IsdjV1QrkJoN"
      }
    },
    {
      "cell_type": "markdown",
      "source": [
        "#### inputs이란?\n",
        "\n",
        "(지금까지는 생략되었음 -> 케라스모델에서 input층(입력층)을 자동으로 설정해주기도 했고, 지금까지의 입력층은 입력을 받는 역할만을 했기 때문이다.)\n",
        "\n",
        "8-2에서 ploy_model() 함수로 모델의 층을 도식화했을 때 InputLayer 클래스가 처음에 나왔음\n",
        "\n",
        "Sequential 클래스는 InputLayer 클래스를 자동으로 추가하고 호출함\n",
        "\n",
        "그러나 <b>Model 클래스에서는 수동으로 만들어서 호출해야함</b>\n",
        "\n",
        "이 inputs가 InputLayer 클래스의 출력값이 되어야함\n",
        "\n",
        "------------\n",
        "\n",
        "#### Sequential 클래스에서 InputLayer의 객체는 어디에 저장되는가?\n",
        "\n",
        "케라스 모델은 layers 속성 외에 InputLater 객체를 포함한 _self_tracked_trackables 리스트 속성을 가지고 있음\n",
        "\n",
        "Sequential클래스 객체의 _self_tracked_trackables 속성의 첫번째 항목이 InputLayer 클래스의 객체임\n",
        "\n",
        "InputLayer 클래스는 신경망의 입력층 역할을 함\n",
        "\n",
        "즉, 모델의 입력을 첫번쨰 은닉층에 전달하는 역할을 수행\n",
        "\n",
        "따라서 InputLayer 객체의 입력과 출력은 동일함\n",
        "\n",
        "\n",
        "---------------\n",
        "\n",
        "inputs을 지정하기 위해 input() 함수를 입력의 크기를 지정하는 shape 매개변수와 함께 사용\n",
        "\n",
        "```python\n",
        "inputs = keras.Input(shape=(784,))\n",
        "```\n",
        "\n",
        "마치 체인처럼 입력에서 출력까지 연결하고 마지막에 Model 클래스에 입력과 출력을 지정하여 모델을 만듬\n",
        "\n",
        "이렇게 모델을 만들면 중간에 다양한 형채로 층을 연결할 수 있음"
      ],
      "metadata": {
        "id": "DZykfqe7jCtP"
      }
    },
    {
      "cell_type": "markdown",
      "source": [
        "그림"
      ],
      "metadata": {
        "id": "XR7yE3JCiuVX"
      }
    },
    {
      "cell_type": "markdown",
      "source": [
        "### 특성 맵 시각화를 만드는데 함수형 API가 필요한 이유?\n",
        "\n",
        "8-2에서 정의한 model 객체의 층을 순서대로 나열하면 다음과 같음\n",
        "\n",
        "InputLayer -> Conv2D -> MaxPooling2D -> Conv2D -> MaxPooling2D -> Flatten -> Dense -> Dropout-> Dense\n",
        "\n",
        "첫번째 Conv2D의 출력을 알고 싶다면, model 객체의 입력과 Conv2D의 출력을 이용해 새로운 모델을 만들고 이를 이용\n",
        "\n",
        "\n",
        "```python\n",
        "conv_acti = keras.Model(model.input, model.layers[0].output)\n",
        "\n",
        "```"
      ],
      "metadata": {
        "id": "o_bo9yuVkavL"
      }
    },
    {
      "cell_type": "markdown",
      "source": [
        "그림"
      ],
      "metadata": {
        "id": "nJFGp6wkktS8"
      }
    },
    {
      "cell_type": "markdown",
      "source": [
        "model 객체의 predict() 메소드를 호출하면 입력부터 마지막 층까지 모든 계산을 수행한 후 최종 출력을 반환함\n",
        "\n",
        "그러나 필요한 것은 첫번째 Conv2D 층이 출력한 특성맵\n",
        "\n",
        "첫번쨰 층의 출력은 Conv2D객체의 output속성에서 얻을 수 있음\n",
        "\n",
        "이것은 model.layers[0].output처럼 참조 가능\n",
        "\n",
        "model 객체인 입력은 input속성으로 알 수 있음 ( 케라스 모델은 input 속성으로 입력을 참조할 수 있음 )\n",
        "\n",
        "model.input을 사용하면 됨"
      ],
      "metadata": {
        "id": "-_aFLwokkuFM"
      }
    },
    {
      "cell_type": "code",
      "source": [
        "print(model.input)"
      ],
      "metadata": {
        "colab": {
          "base_uri": "https://localhost:8080/"
        },
        "id": "idmFQXURk7fb",
        "outputId": "58287626-4e26-4fa9-f63a-b9851798ce71"
      },
      "execution_count": 20,
      "outputs": [
        {
          "output_type": "stream",
          "name": "stdout",
          "text": [
            "KerasTensor(type_spec=TensorSpec(shape=(None, 28, 28, 1), dtype=tf.float32, name='conv2d_7_input'), name='conv2d_7_input', description=\"created by layer 'conv2d_7_input'\")\n"
          ]
        }
      ]
    },
    {
      "cell_type": "markdown",
      "source": [
        "model.input과 model.layers[0].output을 연결하는 새로운 conv_acti 모델을 다음과 같이 생성"
      ],
      "metadata": {
        "id": "6-tLsl3gk9lD"
      }
    },
    {
      "cell_type": "code",
      "source": [
        "conv_acti = keras.Model(model.input, model.layers[0].output)"
      ],
      "metadata": {
        "id": "xMwTDV9llDfm"
      },
      "execution_count": 21,
      "outputs": []
    },
    {
      "cell_type": "markdown",
      "source": [
        "model 객체의 predict() 메소드를 호출하면 최종 출력층의 확률을 반환\n",
        "\n",
        "conv_acti의 predict() 메소드를 호출하면 첫번쨰 Conv2D의 출력을 반환"
      ],
      "metadata": {
        "id": "T9l6G5RzlFEj"
      }
    },
    {
      "cell_type": "markdown",
      "source": [
        "### 특성 맵 시각화\n",
        "\n",
        "패션 MNIST 데이터셋의 훈련 세트에 있는 첫번째 샘플 그려보기"
      ],
      "metadata": {
        "id": "svVXwZgTFbIB"
      }
    },
    {
      "cell_type": "code",
      "source": [
        "(train_input, train_target), (test_input, test_target) = keras.datasets.fashion_mnist.load_data()"
      ],
      "metadata": {
        "colab": {
          "base_uri": "https://localhost:8080/"
        },
        "id": "RfFhBoM0lN5c",
        "outputId": "28a3c42b-5d4e-4497-c5c0-fd46c24b3dec"
      },
      "execution_count": 22,
      "outputs": [
        {
          "output_type": "stream",
          "name": "stdout",
          "text": [
            "Downloading data from https://storage.googleapis.com/tensorflow/tf-keras-datasets/train-labels-idx1-ubyte.gz\n",
            "29515/29515 [==============================] - 0s 0us/step\n",
            "Downloading data from https://storage.googleapis.com/tensorflow/tf-keras-datasets/train-images-idx3-ubyte.gz\n",
            "26421880/26421880 [==============================] - 0s 0us/step\n",
            "Downloading data from https://storage.googleapis.com/tensorflow/tf-keras-datasets/t10k-labels-idx1-ubyte.gz\n",
            "5148/5148 [==============================] - 0s 0us/step\n",
            "Downloading data from https://storage.googleapis.com/tensorflow/tf-keras-datasets/t10k-images-idx3-ubyte.gz\n",
            "4422102/4422102 [==============================] - 0s 0us/step\n"
          ]
        }
      ]
    },
    {
      "cell_type": "code",
      "source": [
        "plt.imshow(train_input[0], cmap='gray_r')\n",
        "plt.show()"
      ],
      "metadata": {
        "colab": {
          "base_uri": "https://localhost:8080/",
          "height": 430
        },
        "id": "BMCzcib1lQ7C",
        "outputId": "03a0b5e1-0796-4a88-f130-7ed970f0bdb5"
      },
      "execution_count": 23,
      "outputs": [
        {
          "output_type": "display_data",
          "data": {
            "text/plain": [
              "<Figure size 640x480 with 1 Axes>"
            ],
            "image/png": "[encoded data removed]"
          },
          "metadata": {}
        }
      ]
    },
    {
      "cell_type": "markdown",
      "source": [
        "앵클 부츠\n",
        "\n",
        "이 샘플을 conv_acti 모델에 주입하여 Conv2D 층이 만드는 특성 맵을 출력해보자"
      ],
      "metadata": {
        "id": "1HraKWq_lR4i"
      }
    },
    {
      "cell_type": "code",
      "source": [
        "inputs = train_input[0:1].reshape(-1, 28, 28, 1)/255.0\n",
        "\n",
        "feature_maps = conv_acti.predict(inputs)"
      ],
      "metadata": {
        "colab": {
          "base_uri": "https://localhost:8080/"
        },
        "id": "yiG6I_nklZVi",
        "outputId": "9abfb48c-fa37-4f44-87fc-f9df519303f1"
      },
      "execution_count": 24,
      "outputs": [
        {
          "output_type": "stream",
          "name": "stdout",
          "text": [
            "1/1 [==============================] - 7s 7s/step\n"
          ]
        }
      ]
    },
    {
      "cell_type": "markdown",
      "source": [
        "세임 패딩과 32개의 필터를 사용한 합성곱 층의 출력이므로 (28,28,32) 크기를 가진다.\n",
        "\n",
        "첫번쨰 차원은 배치크기를 나타내는 배치 차원이며, 샘플 하나를 입력했기 떄문에 1이다.\n",
        "\n",
        "배치 차원 데이터를 미니배치(mini-batch)단위로 나누어 처리할 떄 사용되는 차원"
      ],
      "metadata": {
        "id": "QBl6qtjOlfGj"
      }
    },
    {
      "cell_type": "code",
      "source": [
        "fig, axs = plt.subplots(4, 8, figsize=(15,8))\n",
        "\n",
        "for i in range(4):\n",
        "    for j in range(8):\n",
        "        axs[i, j].imshow(feature_maps[0,:,:,i*8 + j])\n",
        "        axs[i, j].axis('off')\n",
        "\n",
        "plt.show()"
      ],
      "metadata": {
        "colab": {
          "base_uri": "https://localhost:8080/",
          "height": 662
        },
        "id": "3aTY2MexlhIC",
        "outputId": "5f2f761a-4f37-4eab-ef39-8b65e99bb122"
      },
      "execution_count": 25,
      "outputs": [
        {
          "output_type": "display_data",
          "data": {
            "text/plain": [
              "<Figure size 1500x800 with 32 Axes>"
            ],
            "image/png": "[encoded data removed]"
          },
          "metadata": {}
        }
      ]
    },
    {
      "cell_type": "markdown",
      "source": [
        "32개의 필터로 인해 입력 이미지에서 강하게 활성화된 부분을 보여주며, 비교를 위해 필터를 다시 출력함\n",
        "\n",
        "첫번째 줄의 7번쨰 그리고 네번째 줄의 4번쨰 필터들은 전체적으로 밝은 색이므로 전면이 모두 칠해진 영역을 감지함\n",
        "\n",
        "반대로 두번째 줄의 6번쨰 필터는 전체적으로 낮은 음수값이며, 이 필터와 큰 양수가 곱해지면 더 큰 음수가 되고 배경처럼 0에 가까운 값과 곱해지면 작은 음수가 됨\n",
        "\n",
        "즉 부츠의 배경이 상대적으로 크게 활성화 될 수 있음\n",
        "\n",
        "첫번쨰 줄의 8번쨰 필터는 오른쪽의 수직선을 감지하므로 이 필터가 감지한 수직선이 강하게 활성화 되어 있음\n",
        "\n",
        "두번쨰 합성곱 층의 특성 맵 확인\n",
        "\n",
        "입력층부터 시작하여 첫번쨰 합성곱 층, 첫번쨰 맥스풀링층, 두번쨰 합성곱 층을 통과함"
      ],
      "metadata": {
        "id": "M68n3dUJmQ7K"
      }
    },
    {
      "cell_type": "code",
      "source": [
        "conv2_acti = keras.Model(model.input, model.layers[2].output)"
      ],
      "metadata": {
        "id": "gsq9A-3ZmWl5"
      },
      "execution_count": 28,
      "outputs": []
    },
    {
      "cell_type": "code",
      "source": [
        "feature_maps = conv2_acti.predict(train_input[0:1].reshape(-1, 28, 28, 1)/255.0)"
      ],
      "metadata": {
        "colab": {
          "base_uri": "https://localhost:8080/"
        },
        "id": "usPxW8_zmZmw",
        "outputId": "badab1b6-117e-4fb8-febb-4eefd304114c"
      },
      "execution_count": 29,
      "outputs": [
        {
          "output_type": "stream",
          "name": "stdout",
          "text": [
            "1/1 [==============================] - 0s 128ms/step\n"
          ]
        }
      ]
    },
    {
      "cell_type": "code",
      "source": [
        "print(feature_maps.shape)"
      ],
      "metadata": {
        "colab": {
          "base_uri": "https://localhost:8080/"
        },
        "id": "POWn7S5KmanA",
        "outputId": "30f3125c-9ca1-462a-abf5-5d94e2e2d5f4"
      },
      "execution_count": 30,
      "outputs": [
        {
          "output_type": "stream",
          "name": "stdout",
          "text": [
            "(1, 14, 14, 64)\n"
          ]
        }
      ]
    },
    {
      "cell_type": "code",
      "source": [
        "fig, axs = plt.subplots(8, 8, figsize=(12,12))\n",
        "\n",
        "for i in range(8):\n",
        "    for j in range(8):\n",
        "        axs[i, j].imshow(feature_maps[0,:,:,i*8 + j])\n",
        "        axs[i, j].axis('off')\n",
        "\n",
        "plt.show()"
      ],
      "metadata": {
        "colab": {
          "base_uri": "https://localhost:8080/",
          "height": 835
        },
        "id": "g7ggNms7mbm3",
        "outputId": "17abf5c5-e90a-4d56-e003-22c37ea84bb2"
      },
      "execution_count": 31,
      "outputs": [
        {
          "output_type": "display_data",
          "data": {
            "text/plain": [
              "<Figure size 1200x1200 with 64 Axes>"
            ],
            "image/png": "[encoded data removed]"
          },
          "metadata": {}
        }
      ]
    },
    {
      "cell_type": "markdown",
      "source": [
        "시각적으로 이해하기 힘듬\n",
        "\n",
        "두번째 합성곱 층의 필터 크기는 (3,3,32)\n",
        "\n",
        "두번쨰 합성곱 층의 첫번째 필터가 앞서 출력한 32개의 특성맵과 곱해져 두번쨰 합성곱 층의 첫번쨰 특성맵이됨\n",
        "\n",
        "이렇게 계산된 출력은 (14,14,32)특성맵에서 어떤 부위를 감지하는지 직관적으로 이해하기 어려움\n",
        "\n",
        "이러한 현상은 합성곱 층을 많이 쌓을수록 심해짐\n",
        "\n",
        "이를 바꾸어 생각하면 합성곱 신경망의 앞부분에 있는 합성곱 층은 이미지의 시각적인 정보를 감지하고 뒤쪽에 있는 합성곱 층은 앞쪽에서 감지한 시각적인 정보를 바탕으로 추상적인 정보를 학습한다고 볼 수 있음\n",
        "\n",
        "이것이 합성곱 신경망이 패션 MNIST 이미지를 인식하여 10개의 클래스를 찾아낼 수 있는 이유임"
      ],
      "metadata": {
        "id": "dnIZQbzSmcrz"
      }
    }
  ]
}