{
  "cells": [
    {
      "cell_type": "markdown",
      "metadata": {
        "id": "view-in-github",
        "colab_type": "text"
      },
      "source": [
        "<a href=\"https://colab.research.google.com/github/odesay97/MachineLearing_Class/blob/main/5%EC%9E%A5_%EC%8B%A4%EC%8A%B5.ipynb\" target=\"_parent\"><img src=\"https://colab.research.google.com/assets/colab-badge.svg\" alt=\"Open In Colab\"/></a>"
      ]
    },
    {
      "cell_type": "code",
      "execution_count": 4,
      "metadata": {
        "id": "ilqwBCN2XRuA"
      },
      "outputs": [],
      "source": [
        "# 데이터 불러오기 및 전처리\n",
        "\n",
        "import pandas as pd\n",
        "\n",
        "dataset = pd.read_csv(\"https://bit.ly/wine_csv_data\")\n",
        "\n",
        "# dataset.head()\n",
        "# dataset.info()\n",
        "# dataset.describe()\n",
        "\n",
        "import numpy as np\n",
        "\n",
        "train_data = dataset[['alcohol','sugar','pH']]\n",
        "target_data = dataset['class']\n",
        "\n",
        "from sklearn.model_selection import train_test_split, GridSearchCV\n",
        "\n",
        "train_input, test_input, train_target, test_target = train_test_split(train_data,target_data,stratify=target_data,random_state=46,test_size=0.2)\n",
        "\n",
        "from sklearn.preprocessing import StandardScaler\n",
        "\n",
        "ss = StandardScaler()\n",
        "ss.fit(train_input)\n",
        "\n",
        "train_scaled = ss.transform(train_input)\n",
        "test_scaled = ss.transform(test_input)\n",
        "\n",
        "\n",
        "\n",
        "\n"
      ]
    },
    {
      "cell_type": "markdown",
      "metadata": {
        "id": "TcWu0rC1uGhk"
      },
      "source": [
        "결정트리"
      ]
    },
    {
      "cell_type": "code",
      "execution_count": null,
      "metadata": {
        "colab": {
          "base_uri": "https://localhost:8080/"
        },
        "id": "tHfcDfQIX1fC",
        "outputId": "919c3232-9db6-4d03-f986-2a8555274867"
      },
      "outputs": [
        {
          "name": "stdout",
          "output_type": "stream",
          "text": [
            "{'max_depth': 13, 'min_impurity_decrease': 0.00030000000000000003, 'min_samples_split': 8}\n",
            "0.9084564860426929\n",
            "0.8738461538461538\n"
          ]
        }
      ],
      "source": [
        "# 결정트리 최적화\n",
        "from sklearn.tree import DecisionTreeClassifier\n",
        "\n",
        "params = { 'max_depth': np.arange(3,20,1),\n",
        "          'min_impurity_decrease': np.arange(0.0001,0.001,0.0001),\n",
        "          'min_samples_split': np.arange(2,40,3),\n",
        "}\n",
        "\n",
        "gs1 = GridSearchCV(DecisionTreeClassifier(random_state=42),params,n_jobs=1)\n",
        "\n",
        "gs1.fit(train_input,train_target)\n",
        "\n",
        "dt = gs1.best_estimator_\n",
        "\n",
        "print(gs1.best_params_)\n",
        "print(dt.score(train_input,train_target))\n",
        "print(dt.score(test_input,test_target))\n"
      ]
    },
    {
      "cell_type": "code",
      "execution_count": null,
      "metadata": {
        "colab": {
          "base_uri": "https://localhost:8080/"
        },
        "id": "ZqER4euGwKV5",
        "outputId": "29b554e1-a816-41f3-c1fe-2d0f0b73fd68"
      },
      "outputs": [
        {
          "name": "stdout",
          "output_type": "stream",
          "text": [
            "0.8399014778325123\n",
            "0.8283076923076923\n",
            "{'max_depth': 5, 'min_impurity_decrease': 0.0001, 'min_samples_split': 2}\n"
          ]
        }
      ],
      "source": [
        "# 가장 높은 중요성을 가진 sugar특성만을 가지고, 특성 공학을 사용하여 나타내보기\n",
        "\n",
        "from sklearn.model_selection import train_test_split\n",
        "\n",
        "import numpy as np\n",
        "\n",
        "train_data_A = dataset[[\"sugar\"]].to_numpy()\n",
        "target_data_A = dataset[\"class\"].to_numpy()\n",
        "\n",
        "from sklearn.model_selection import train_test_split\n",
        "\n",
        "train_input_A, test_input_A, train_target_A, test_target_A = train_test_split(train_data_A,target_data_A,random_state=55)\n",
        "\n",
        "\n",
        "from sklearn.preprocessing import PolynomialFeatures, StandardScaler\n",
        "\n",
        "\n",
        "pf = PolynomialFeatures(degree=3)\n",
        "pf.fit(train_input_A)\n",
        "train_poly = pf.transform(train_input_A)\n",
        "test_poly = pf.transform(test_input_A)\n",
        "\n",
        "ss = StandardScaler()\n",
        "ss.fit(train_poly)\n",
        "\n",
        "train_poly_scaled = ss.transform(train_poly)\n",
        "test_poly_scaled = ss.transform(test_poly)\n",
        "\n",
        "############\n",
        "from sklearn.tree import DecisionTreeClassifier\n",
        "\n",
        "params = { 'max_depth': np.arange(3,20,1),\n",
        "          'min_impurity_decrease': np.arange(0.0001,0.001,0.0001),\n",
        "          'min_samples_split': np.arange(2,40,3),\n",
        "}\n",
        "\n",
        "gs1 = GridSearchCV(DecisionTreeClassifier(random_state=42),params,n_jobs=1)\n",
        "gs1.fit(train_poly_scaled,train_target_A)\n",
        "\n",
        "print(gs1.score(train_poly_scaled,train_target_A))\n",
        "print(gs1.score(test_poly_scaled,test_target_A))\n",
        "print(gs1.best_params_)\n",
        "\n",
        "# 위의 방식보다 격차는 줄었지만 성능이 떨어졌음 -> 좋지 않은 시도로 보임"
      ]
    },
    {
      "cell_type": "code",
      "execution_count": null,
      "metadata": {
        "colab": {
          "base_uri": "https://localhost:8080/"
        },
        "id": "CpjRvnqun8pf",
        "outputId": "fcd15a33-264b-4856-cab0-10038e0460b0"
      },
      "outputs": [
        {
          "name": "stdout",
          "output_type": "stream",
          "text": [
            "0.8840311986863711\n",
            "0.8707692307692307\n",
            "{'max_depth': 9, 'min_impurity_decrease': 0.0009000000000000001, 'min_samples_split': 2}\n"
          ]
        }
      ],
      "source": [
        "# 엔트로피 불순도를 사용하여 최적화\n",
        "from sklearn.tree import DecisionTreeClassifier\n",
        "\n",
        "params = { 'max_depth': np.arange(3,20,1),\n",
        "          'min_impurity_decrease': np.arange(0.0001,0.001,0.0001),\n",
        "          'min_samples_split': np.arange(2,40,3)\n",
        "}\n",
        "\n",
        "gs1 = GridSearchCV(DecisionTreeClassifier(random_state=42, criterion='entropy'),params,n_jobs=1)\n",
        "gs1.fit(train_input,train_target)\n",
        "\n",
        "dt = gs1.best_estimator_\n",
        "\n",
        "print(dt.score(train_input,train_target))\n",
        "print(dt.score(test_input,test_target))\n",
        "print(gs1.best_params_)\n",
        "\n",
        "# 과대적합이 조금 더 해결됨"
      ]
    },
    {
      "cell_type": "markdown",
      "metadata": {
        "id": "8DLkWRW0yGVa"
      },
      "source": [
        "랜덤 포레스트"
      ]
    },
    {
      "cell_type": "code",
      "execution_count": null,
      "metadata": {
        "colab": {
          "base_uri": "https://localhost:8080/"
        },
        "id": "X09dhxlgXcuc",
        "outputId": "e5c664ad-0cd4-441f-b52e-0aec4b06e269"
      },
      "outputs": [
        {
          "name": "stdout",
          "output_type": "stream",
          "text": [
            "{'fit_time': array([1.4081924 , 1.30694771, 1.2198329 , 1.11660886, 0.85328317]), 'score_time': array([0.12243986, 0.10814619, 0.07639885, 0.10161257, 0.0811007 ]), 'test_score': array([0.87788462, 0.9       , 0.88354187, 0.88065448, 0.89316651]), 'train_score': array([0.99759442, 0.99663219, 0.9968735 , 0.998557  , 0.9978355 ])}\n",
            "0.9974985197982551 0.8870494928555563\n"
          ]
        }
      ],
      "source": [
        "# 랜덤 포레스트\n",
        "\n",
        "from sklearn.model_selection import cross_validate\n",
        "from sklearn.ensemble import RandomForestClassifier\n",
        "\n",
        "rf = RandomForestClassifier(n_jobs=-1,random_state=49,oob_score=True)\n",
        "scores = cross_validate(rf,train_input,train_target,return_train_score=True,n_jobs=-1)\n",
        "\n",
        "import numpy as np\n",
        "print(scores)\n",
        "print(np.mean(scores['train_score']), np.mean(scores['test_score']))\n",
        "\n",
        "# 과대적합 상태\n"
      ]
    },
    {
      "cell_type": "code",
      "execution_count": null,
      "metadata": {
        "colab": {
          "base_uri": "https://localhost:8080/"
        },
        "id": "caP8D2NTtEwF",
        "outputId": "0f3c7613-2e82-4018-93e5-208466b54016"
      },
      "outputs": [
        {
          "name": "stdout",
          "output_type": "stream",
          "text": [
            "0.9101404656532615\n",
            "0.8807692307692307\n",
            "{'max_depth': 10, 'min_impurity_decrease': 0.0001, 'min_samples_split': 8}\n"
          ]
        }
      ],
      "source": [
        "# 그리드 서치를 통해 하이퍼파라미터 튜닝 후 학습\n",
        "\n",
        "from sklearn.ensemble import RandomForestClassifier\n",
        "from sklearn.model_selection import GridSearchCV\n",
        "import numpy as np\n",
        "\n",
        "params = {\n",
        "    'max_depth': np.arange(2,11,1),\n",
        "    'min_impurity_decrease':np.arange(0.0001,0.001,0.0001),\n",
        "    'min_samples_split' : np.arange(2,20,2)\n",
        "}\n",
        "\n",
        "gs1 = GridSearchCV(RandomForestClassifier(n_jobs=-1,random_state=42),params,n_jobs=-1)\n",
        "gs1.fit(train_input,train_target)\n",
        "rf = gs1.best_estimator_\n",
        "\n",
        "print(rf.score(train_input,train_target))\n",
        "print(rf.score(test_input,test_target))\n",
        "print(gs1.best_params_)\n",
        "\n",
        "# 과대적합이 많이 개선됨\n"
      ]
    },
    {
      "cell_type": "code",
      "execution_count": null,
      "metadata": {
        "colab": {
          "base_uri": "https://localhost:8080/"
        },
        "id": "DTeJyzNVxbMV",
        "outputId": "07c6a945-791a-490d-d22a-8e51a245a696"
      },
      "outputs": [
        {
          "name": "stdout",
          "output_type": "stream",
          "text": [
            "0.9097556282470656\n",
            "0.8823076923076923\n",
            "{'max_depth': 10, 'min_impurity_decrease': 0.0002, 'min_samples_split': 6}\n"
          ]
        }
      ],
      "source": [
        "# 그리드 서치를 통해 하이퍼파라미터 튜닝 후 학습 (엔트로피)\n",
        "\n",
        "from sklearn.ensemble import RandomForestClassifier\n",
        "from sklearn.model_selection import GridSearchCV\n",
        "import numpy as np\n",
        "\n",
        "params = {\n",
        "    'max_depth': np.arange(2,11,1),\n",
        "    'min_impurity_decrease':np.arange(0.0001,0.001,0.0001),\n",
        "    'min_samples_split' : np.arange(2,20,2)\n",
        "}\n",
        "\n",
        "gs1 = GridSearchCV(RandomForestClassifier(n_jobs=-1,random_state=42, criterion='entropy'),params,n_jobs=-1)\n",
        "gs1.fit(train_input,train_target)\n",
        "rf = gs1.best_estimator_\n",
        "\n",
        "print(rf.score(train_input,train_target))\n",
        "print(rf.score(test_input,test_target))\n",
        "print(gs1.best_params_)\n",
        "\n",
        "# 성능의 미묘한 향상이 있음 -> 크게 유의미하진 않음"
      ]
    },
    {
      "cell_type": "markdown",
      "metadata": {
        "id": "TGYs0ODzyIpg"
      },
      "source": [
        "엑스트라 트리"
      ]
    },
    {
      "cell_type": "code",
      "execution_count": null,
      "metadata": {
        "colab": {
          "base_uri": "https://localhost:8080/"
        },
        "id": "oJrG1snIXc34",
        "outputId": "989bd741-afdf-4477-cee5-89e9acb6ddda"
      },
      "outputs": [
        {
          "name": "stdout",
          "output_type": "stream",
          "text": [
            "{'fit_time': array([1.99889278, 1.82196903, 1.07520819, 1.05768371, 0.62895656]), 'score_time': array([0.19113159, 0.13419414, 0.14211059, 0.08343887, 0.09547377]), 'test_score': array([0.86826923, 0.88653846, 0.89124158, 0.87391723, 0.88546679]), 'train_score': array([0.99759442, 0.99663219, 0.9968735 , 0.998557  , 0.9978355 ])}\n",
            "0.9974985197982551 0.881086658769527\n"
          ]
        }
      ],
      "source": [
        "# 엑스트라 트리\n",
        "from sklearn.model_selection import cross_validate\n",
        "from sklearn.ensemble import ExtraTreesClassifier\n",
        "\n",
        "et = ExtraTreesClassifier(n_jobs=-1,random_state=49)\n",
        "scores = cross_validate(et,train_input,train_target,return_train_score=True,n_jobs=-1)\n",
        "\n",
        "import numpy as np\n",
        "print(scores)\n",
        "print(np.mean(scores['train_score']), np.mean(scores['test_score']))\n",
        "\n",
        "# 과대적합 상태\n"
      ]
    },
    {
      "cell_type": "code",
      "execution_count": null,
      "metadata": {
        "colab": {
          "background_save": true
        },
        "id": "KnbrMKMhFxoO",
        "outputId": "2ac49dde-03be-4af1-d0ea-d3283f095643"
      },
      "outputs": [
        {
          "name": "stdout",
          "output_type": "stream",
          "text": [
            "0.7538964787377334\n",
            "0.7538461538461538\n",
            "{'max_depth': 16, 'min_impurity_decrease': 0.0001, 'min_samples_split': 10}\n"
          ]
        }
      ],
      "source": [
        "# 그리드 서치를 통해 하이퍼파라미터 튜닝 후 학습\n",
        "\n",
        "from sklearn.ensemble import ExtraTreesClassifier\n",
        "from sklearn.model_selection import GridSearchCV\n",
        "import numpy as np\n",
        "\n",
        "params = {\n",
        "    'max_depth': np.arange(10,100,1),\n",
        "    'min_impurity_decrease':np.arange(0.0001,0.001,0.0001),\n",
        "    'min_samples_split' : np.arange(2,13,2)\n",
        "}\n",
        "\n",
        "gs2 = GridSearchCV(ExtraTreesClassifier(n_jobs=-1,random_state=42),params,n_jobs=-1)\n",
        "gs2.fit(train_input,train_target)\n",
        "et = gs2.best_estimator_\n",
        "\n",
        "print(et.score(train_input,train_target))\n",
        "print(et.score(test_input,test_target))\n",
        "print(gs2.best_params_)\n",
        "\n",
        "# 과대적합이 개선되었지만 성능이 많이 떨어짐"
      ]
    },
    {
      "cell_type": "code",
      "source": [
        "# 랜덤 서치를 통해 하이퍼파라미터 튜닝 후 학습\n",
        "\n",
        "from sklearn.ensemble import ExtraTreesClassifier\n",
        "from sklearn.model_selection import RandomizedSearchCV\n",
        "import numpy as np\n",
        "from scipy.stats import randint, uniform\n",
        "\n",
        "params = {\n",
        "    'max_depth': randint(10,50),\n",
        "    'min_impurity_decrease': uniform(0.0001,0.001),\n",
        "    'min_samples_split' : randint(2,25),\n",
        "    'min_samples_leaf': randint(1,25)\n",
        "}\n",
        "\n",
        "rs = RandomizedSearchCV(ExtraTreesClassifier(n_jobs=-1,random_state=42),params,n_jobs=-1, random_state =42, n_iter=100)\n",
        "rs.fit(train_input,train_target)\n",
        "et = rs.best_estimator_\n",
        "\n",
        "print(et.score(train_input,train_target))\n",
        "print(et.score(test_input,test_target))\n",
        "print(rs.best_params_)\n",
        "\n",
        "# 과대적합이 개선되었지만 성능이 많이 떨어짐"
      ],
      "metadata": {
        "colab": {
          "base_uri": "https://localhost:8080/"
        },
        "id": "eRMyu6DHl8nE",
        "outputId": "7b4ff579-83d7-447c-9999-a7ec27280167"
      },
      "execution_count": null,
      "outputs": [
        {
          "output_type": "stream",
          "name": "stdout",
          "text": [
            "0.7538964787377334\n",
            "0.7538461538461538\n",
            "{'max_depth': 48, 'min_impurity_decrease': 0.0008965429868602329, 'min_samples_leaf': 15, 'min_samples_split': 12}\n"
          ]
        }
      ]
    },
    {
      "cell_type": "markdown",
      "metadata": {
        "id": "HD-BqpKOyKVQ"
      },
      "source": [
        "그레디언트 부스팅"
      ]
    },
    {
      "cell_type": "code",
      "source": [
        "# 그레디언트 부스팅\n",
        "\n",
        "from sklearn.ensemble import GradientBoostingClassifier\n",
        "from sklearn.model_selection import cross_validate\n",
        "import numpy as np\n",
        "\n",
        "gb = GradientBoostingClassifier(random_state=42,n_estimators=300, learning_rate=0.1,)\n",
        "scores = cross_validate(gb,train_input,train_target,return_train_score=True,n_jobs=-1)\n",
        "\n",
        "print(np.mean(scores[\"train_score\"]), np.mean(scores[\"test_score\"]))\n",
        "\n",
        "# 나쁘지 않은 성능"
      ],
      "metadata": {
        "colab": {
          "base_uri": "https://localhost:8080/"
        },
        "id": "19tlSgS9Opdv",
        "outputId": "aa1e038d-bb32-47ce-97f3-581d62d98bca"
      },
      "execution_count": 12,
      "outputs": [
        {
          "output_type": "stream",
          "name": "stdout",
          "text": [
            "0.9030210232038474 0.8693484859702376\n"
          ]
        }
      ]
    },
    {
      "cell_type": "code",
      "source": [
        "# 그리드 서치를 사용하여 그레디언트 부스팅에 대해 하이퍼파라미터 튜닝\n",
        "\n",
        "from sklearn.ensemble import GradientBoostingClassifier\n",
        "from sklearn.model_selection import GridSearchCV\n",
        "import numpy as np\n",
        "\n",
        "params = {\n",
        "    \"n_estimators\": np.arange(200,500,10),\n",
        "    \"learning_rate\": np.arange(0.05,0.31,0.05),\n",
        "    \"subsample\":  np.arange(0.2,1,0.2)\n",
        "}\n",
        "\n",
        "gb = GradientBoostingClassifier(random_state=42)\n",
        "gs = GridSearchCV(gb,params,n_jobs=-1)\n",
        "gs.fit(train_input,train_target)\n",
        "\n",
        "f_gb = gs.best_estimator_\n",
        "print(f_gb.score(train_input,train_target))\n",
        "print(f_gb.score(test_input,test_target))\n",
        "print(gs.best_params_)\n",
        "\n",
        "# 성능이 약간 향상됨"
      ],
      "metadata": {
        "colab": {
          "base_uri": "https://localhost:8080/"
        },
        "id": "D4DYO0fwP0DZ",
        "outputId": "1350db4b-fac6-4562-d8ce-dbc74830d8a8"
      },
      "execution_count": 5,
      "outputs": [
        {
          "output_type": "stream",
          "name": "stdout",
          "text": [
            "0.9289974985568598\n",
            "0.8846153846153846\n",
            "{'learning_rate': 0.2, 'n_estimators': 420, 'subsample': 0.8}\n"
          ]
        }
      ]
    },
    {
      "cell_type": "markdown",
      "metadata": {
        "id": "h3XJaUmzyMjg"
      },
      "source": [
        "히스토그램기반 그레디언트 부스팅"
      ]
    },
    {
      "cell_type": "code",
      "execution_count": 7,
      "metadata": {
        "id": "B-1kpR3QXdK9",
        "colab": {
          "base_uri": "https://localhost:8080/"
        },
        "outputId": "4540fb6f-e0b0-4c79-b200-bca6eaaa5382"
      },
      "outputs": [
        {
          "output_type": "stream",
          "name": "stdout",
          "text": [
            "0.9275063544248052 0.8776210483453024\n"
          ]
        }
      ],
      "source": [
        "# 히스토그램기반 그래디언트 부스팅\n",
        "\n",
        "from sklearn.ensemble import HistGradientBoostingClassifier\n",
        "from sklearn.model_selection import cross_validate\n",
        "import numpy as np\n",
        "\n",
        "hgb = HistGradientBoostingClassifier(random_state = 42)\n",
        "scores = cross_validate(hgb,train_input,train_target,return_train_score=True,n_jobs=-1)\n",
        "\n",
        "print(np.mean(scores[\"train_score\"]),np.mean(scores[\"test_score\"]))\n",
        "\n",
        "# 나쁘지 않은 성능임"
      ]
    },
    {
      "cell_type": "code",
      "source": [
        "# 그리드 서치를 사용하여 히스토그램기반 그레디언트 부스팅에 대해 하이퍼파라미터 튜닝\n",
        "\n",
        "from sklearn.model_selection import GridSearchCV\n",
        "from sklearn.ensemble import HistGradientBoostingClassifier\n",
        "import numpy as np\n",
        "\n",
        "params = {\n",
        "    \"learning_rate\": np.arange(0.02,0.21,0.02),\n",
        "    \"max_iter\": np.arange(80,300,10),\n",
        "    \"max_bins\": np.arange(155,256,10)\n",
        "}\n",
        "\n",
        "hgb = HistGradientBoostingClassifier(random_state=42)\n",
        "gs = GridSearchCV(hgb,params,n_jobs=-1)\n",
        "\n",
        "gs.fit(train_input,train_target)\n",
        "\n",
        "f_hgb = gs.best_estimator_\n",
        "\n",
        "print(f_hgb.score(train_input,train_target))\n",
        "print(f_hgb.score(test_input,test_target))\n",
        "print(gs.best_params_)"
      ],
      "metadata": {
        "colab": {
          "base_uri": "https://localhost:8080/"
        },
        "id": "S332upr_tAYq",
        "outputId": "f1e36dac-417a-4437-80f6-12241cce45b8"
      },
      "execution_count": 8,
      "outputs": [
        {
          "output_type": "stream",
          "name": "stdout",
          "text": [
            "0.9578603040215509\n",
            "0.8946153846153846\n",
            "{'learning_rate': 0.16, 'max_bins': 165, 'max_iter': 160}\n"
          ]
        }
      ]
    }
  ],
  "metadata": {
    "colab": {
      "provenance": [],
      "authorship_tag": "ABX9TyMDB0O5Kqtz1axxJuB7z8ZG",
      "include_colab_link": true
    },
    "kernelspec": {
      "display_name": "Python 3",
      "name": "python3"
    },
    "language_info": {
      "name": "python"
    }
  },
  "nbformat": 4,
  "nbformat_minor": 0
}