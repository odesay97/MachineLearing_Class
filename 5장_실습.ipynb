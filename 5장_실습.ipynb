{
  "nbformat": 4,
  "nbformat_minor": 0,
  "metadata": {
    "colab": {
      "provenance": [],
      "toc_visible": true,
      "authorship_tag": "ABX9TyMxhMs/Gnj7qlC6a9NoUoi4",
      "include_colab_link": true
    },
    "kernelspec": {
      "name": "python3",
      "display_name": "Python 3"
    },
    "language_info": {
      "name": "python"
    }
  },
  "cells": [
    {
      "cell_type": "markdown",
      "metadata": {
        "id": "view-in-github",
        "colab_type": "text"
      },
      "source": [
        "<a href=\"https://colab.research.google.com/github/odesay97/MachineLearing_Class/blob/main/5%EC%9E%A5_%EC%8B%A4%EC%8A%B5.ipynb\" target=\"_parent\"><img src=\"https://colab.research.google.com/assets/colab-badge.svg\" alt=\"Open In Colab\"/></a>"
      ]
    },
    {
      "cell_type": "code",
      "execution_count": 1,
      "metadata": {
        "id": "ilqwBCN2XRuA"
      },
      "outputs": [],
      "source": [
        "# 데이터 불러오기 및 전처리\n",
        "\n",
        "import pandas as pd\n",
        "\n",
        "dataset = pd.read_csv(\"https://bit.ly/wine_csv_data\")\n",
        "\n",
        "# dataset.head()\n",
        "# dataset.info()\n",
        "# dataset.describe()\n",
        "\n",
        "import numpy as np\n",
        "\n",
        "train_data = dataset[['alcohol','sugar','pH']]\n",
        "target_data = dataset['class']\n",
        "\n",
        "from sklearn.model_selection import train_test_split, GridSearchCV\n",
        "\n",
        "train_input, test_input, train_target, test_target = train_test_split(train_data,target_data,stratify=target_data,random_state=46)\n",
        "\n",
        "from sklearn.preprocessing import StandardScaler\n",
        "\n",
        "ss = StandardScaler()\n",
        "ss.fit(train_input)\n",
        "\n",
        "train_scaled = ss.transform(train_input)\n",
        "test_scaled = ss.transform(test_input)\n",
        "\n",
        "\n",
        "\n",
        "\n"
      ]
    },
    {
      "cell_type": "markdown",
      "source": [
        "결정트리"
      ],
      "metadata": {
        "id": "TcWu0rC1uGhk"
      }
    },
    {
      "cell_type": "code",
      "source": [
        "# 결정트리 최적화\n",
        "from sklearn.tree import DecisionTreeClassifier\n",
        "\n",
        "params = { 'max_depth': np.arange(3,20,1),\n",
        "          'min_impurity_decrease': np.arange(0.0001,0.001,0.0001),\n",
        "          'min_samples_split': np.arange(2,40,3),\n",
        "}\n",
        "\n",
        "gs1 = GridSearchCV(DecisionTreeClassifier(random_state=42),params,n_jobs=1)\n",
        "gs1.fit(train_input,train_target)\n",
        "\n",
        "print(gs1.score(train_input,train_target))\n",
        "print(gs1.score(test_input,test_target))\n",
        "print(gs1.best_params_)\n",
        "\n"
      ],
      "metadata": {
        "colab": {
          "base_uri": "https://localhost:8080/"
        },
        "id": "tHfcDfQIX1fC",
        "outputId": "010f2e9a-3cb9-4c43-919e-fb54713c9783"
      },
      "execution_count": null,
      "outputs": [
        {
          "output_type": "stream",
          "name": "stdout",
          "text": [
            "0.9084564860426929\n",
            "0.8738461538461538\n",
            "{'max_depth': 13, 'min_impurity_decrease': 0.00030000000000000003, 'min_samples_split': 8}\n"
          ]
        }
      ]
    },
    {
      "cell_type": "code",
      "source": [
        "# 결정트리 만들고 평가\n",
        "from sklearn.tree import DecisionTreeClassifier\n",
        "\n",
        "dc = DecisionTreeClassifier(random_state=42,max_depth=13,min_impurity_decrease=0.0003,min_samples_split=8)\n",
        "dc.fit(train_input,train_target)\n",
        "\n",
        "print(dc.score(train_input,train_target))\n",
        "print(dc.score(test_input,test_target))\n",
        "print(dc.feature_importances_)"
      ],
      "metadata": {
        "colab": {
          "base_uri": "https://localhost:8080/"
        },
        "id": "wuSR0qCht-mw",
        "outputId": "3d903155-346b-4082-b35f-8fd9181a03b7"
      },
      "execution_count": null,
      "outputs": [
        {
          "output_type": "stream",
          "name": "stdout",
          "text": [
            "0.9084564860426929\n",
            "0.8738461538461538\n",
            "[0.19857273 0.62668604 0.17474123]\n"
          ]
        }
      ]
    },
    {
      "cell_type": "code",
      "source": [
        "# 가장 높은 중요성을 가진 sugar특성만을 가지고, 특성 공학을 사용하여 나타내보기\n",
        "\n",
        "from sklearn.model_selection import train_test_split\n",
        "\n",
        "import numpy as np\n",
        "\n",
        "train_data_A = dataset[[\"sugar\"]].to_numpy()\n",
        "target_data_A = dataset[\"class\"].to_numpy()\n",
        "\n",
        "from sklearn.model_selection import train_test_split\n",
        "\n",
        "train_input_A, test_input_A, train_target_A, test_target_A = train_test_split(train_data_A,target_data_A,random_state=55)\n",
        "\n",
        "\n",
        "from sklearn.preprocessing import PolynomialFeatures, StandardScaler\n",
        "\n",
        "\n",
        "pf = PolynomialFeatures(degree=3)\n",
        "pf.fit(train_input_A)\n",
        "train_poly = pf.transform(train_input_A)\n",
        "test_poly = pf.transform(test_input_A)\n",
        "\n",
        "ss = StandardScaler()\n",
        "ss.fit(train_poly)\n",
        "\n",
        "train_poly_scaled = ss.transform(train_poly)\n",
        "test_poly_scaled = ss.transform(test_poly)\n",
        "\n",
        "############\n",
        "from sklearn.tree import DecisionTreeClassifier\n",
        "\n",
        "params = { 'max_depth': np.arange(3,20,1),\n",
        "          'min_impurity_decrease': np.arange(0.0001,0.001,0.0001),\n",
        "          'min_samples_split': np.arange(2,40,3),\n",
        "}\n",
        "\n",
        "gs1 = GridSearchCV(DecisionTreeClassifier(random_state=42),params,n_jobs=1)\n",
        "gs1.fit(train_poly_scaled,train_target_A)\n",
        "\n",
        "print(gs1.score(train_poly_scaled,train_target_A))\n",
        "print(gs1.score(test_poly_scaled,test_target_A))\n",
        "print(gs1.best_params_)\n",
        "\n",
        "# 위의 방식보다 격차는 줄었지만 성능이 떨어졌음 -> 좋지 않은 시도로 보임"
      ],
      "metadata": {
        "colab": {
          "base_uri": "https://localhost:8080/"
        },
        "id": "ZqER4euGwKV5",
        "outputId": "29b554e1-a816-41f3-c1fe-2d0f0b73fd68"
      },
      "execution_count": null,
      "outputs": [
        {
          "output_type": "stream",
          "name": "stdout",
          "text": [
            "0.8399014778325123\n",
            "0.8283076923076923\n",
            "{'max_depth': 5, 'min_impurity_decrease': 0.0001, 'min_samples_split': 2}\n"
          ]
        }
      ]
    },
    {
      "cell_type": "code",
      "source": [
        "# 엔트로피 불순도를 사용하여 최적화\n",
        "from sklearn.tree import DecisionTreeClassifier\n",
        "\n",
        "params = { 'max_depth': np.arange(3,20,1),\n",
        "          'min_impurity_decrease': np.arange(0.0001,0.001,0.0001),\n",
        "          'min_samples_split': np.arange(2,40,3),\n",
        "}\n",
        "\n",
        "gs1 = GridSearchCV(DecisionTreeClassifier(random_state=42, criterion='entropy'),params,n_jobs=1)\n",
        "gs1.fit(train_input,train_target)\n",
        "\n",
        "print(gs1.score(train_input,train_target))\n",
        "print(gs1.score(test_input,test_target))\n",
        "print(gs1.best_params_)\n",
        "\n",
        "# 과대적합이 조금 더 해결됨"
      ],
      "metadata": {
        "colab": {
          "base_uri": "https://localhost:8080/"
        },
        "id": "CpjRvnqun8pf",
        "outputId": "867a8721-def0-4527-e76a-4252afa52ece"
      },
      "execution_count": 7,
      "outputs": [
        {
          "output_type": "stream",
          "name": "stdout",
          "text": [
            "0.8840311986863711\n",
            "0.8707692307692307\n",
            "{'max_depth': 9, 'min_impurity_decrease': 0.0009000000000000001, 'min_samples_split': 2}\n"
          ]
        }
      ]
    },
    {
      "cell_type": "markdown",
      "source": [
        "랜덤 포레스트"
      ],
      "metadata": {
        "id": "8DLkWRW0yGVa"
      }
    },
    {
      "cell_type": "code",
      "source": [
        "# 랜덤 포레스트\n",
        "\n",
        "from sklearn.model_selection import cross_validate\n",
        "from sklearn.ensemble import RandomForestClassifier\n",
        "\n",
        "rf = RandomForestClassifier(n_jobs=-1,random_state=49)\n",
        "scores = cross_validate(rf,train_input,train_target,return_train_score=True,n_jobs=-1)\n",
        "\n",
        "import numpy as np\n",
        "print(scores)\n",
        "print(np.mean(scores['train_score']), np.mean(scores['test_score']))"
      ],
      "metadata": {
        "id": "X09dhxlgXcuc",
        "colab": {
          "base_uri": "https://localhost:8080/"
        },
        "outputId": "9285c737-ded1-43f7-fd0f-aec11203b41f"
      },
      "execution_count": 6,
      "outputs": [
        {
          "output_type": "stream",
          "name": "stdout",
          "text": [
            "{'fit_time': array([0.89922118, 0.9088223 , 0.56870699, 0.64589262, 0.62485957]), 'score_time': array([0.07216811, 0.09093714, 0.09571671, 0.06928182, 0.04748988]), 'test_score': array([0.89128205, 0.88615385, 0.88193018, 0.87268994, 0.87679671]), 'train_score': array([0.99717732, 0.99743392, 0.99794767, 0.99769112, 0.99717804])}\n",
            "0.997485613711617 0.8817705470436475\n"
          ]
        }
      ]
    },
    {
      "cell_type": "code",
      "source": [
        "\n"
      ],
      "metadata": {
        "id": "caP8D2NTtEwF"
      },
      "execution_count": null,
      "outputs": []
    },
    {
      "cell_type": "markdown",
      "source": [
        "엑스트라 트리"
      ],
      "metadata": {
        "id": "TGYs0ODzyIpg"
      }
    },
    {
      "cell_type": "code",
      "source": [
        "# 엑스트라 트리"
      ],
      "metadata": {
        "id": "oJrG1snIXc34"
      },
      "execution_count": null,
      "outputs": []
    },
    {
      "cell_type": "markdown",
      "source": [
        "그레디언트 부스팅"
      ],
      "metadata": {
        "id": "HD-BqpKOyKVQ"
      }
    },
    {
      "cell_type": "code",
      "source": [
        "# 그레디언트 부스팅"
      ],
      "metadata": {
        "id": "8V_CPRqfXc_z"
      },
      "execution_count": null,
      "outputs": []
    },
    {
      "cell_type": "markdown",
      "source": [
        "히스토그램기반 그레디언트 부스팅"
      ],
      "metadata": {
        "id": "h3XJaUmzyMjg"
      }
    },
    {
      "cell_type": "code",
      "source": [
        "# 히스토그램기반 그래디언트 부스팅"
      ],
      "metadata": {
        "id": "B-1kpR3QXdK9"
      },
      "execution_count": null,
      "outputs": []
    }
  ]
}