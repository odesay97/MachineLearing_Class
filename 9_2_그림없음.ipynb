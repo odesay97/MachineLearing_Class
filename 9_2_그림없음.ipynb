{
  "nbformat": 4,
  "nbformat_minor": 0,
  "metadata": {
    "colab": {
      "provenance": [],
      "authorship_tag": "ABX9TyO30mUwamGKTV1voxDPSfUU",
      "include_colab_link": true
    },
    "kernelspec": {
      "name": "python3",
      "display_name": "Python 3"
    },
    "language_info": {
      "name": "python"
    }
  },
  "cells": [
    {
      "cell_type": "markdown",
      "metadata": {
        "id": "view-in-github",
        "colab_type": "text"
      },
      "source": [
        "<a href=\"https://colab.research.google.com/github/odesay97/MachineLearing_Class/blob/main/9_2_%EA%B7%B8%EB%A6%BC%EC%97%86%EC%9D%8C.ipynb\" target=\"_parent\"><img src=\"https://colab.research.google.com/assets/colab-badge.svg\" alt=\"Open In Colab\"/></a>"
      ]
    },
    {
      "cell_type": "markdown",
      "source": [
        "**순환 신경망으로 IMDB 리뷰 분류하기**\n",
        "\n",
        "IMDB 리뷰 데이터 세트\n",
        "\n",
        "순환 신경망을 위한 대표적인 데이터 세트\n",
        "\n",
        "인터넷 영화 데이터베이스인 (imdb.com)에서 수집한 리뷰를 감상평에 따라 긍정과 부정으로 분류한 데이터 셋\n",
        "\n",
        "50000개의 샘플로 이루어짐 ( 훈련과 데스트 데이터는 각각 25000)"
      ],
      "metadata": {
        "id": "lrgmGuc6DFTF"
      }
    },
    {
      "cell_type": "markdown",
      "source": [
        "그림\n"
      ],
      "metadata": {
        "id": "AMoidpkG93lE"
      }
    },
    {
      "cell_type": "markdown",
      "source": [
        "**자연어 처리(natural language processing, NLP)**\n",
        "\n",
        "컴퓨터를 사용해 인간의 언어를 처리하는 분야\n",
        "\n",
        "음성 인식, 기계 번역, 감성 분석 등\n",
        "\n",
        "IMDB 리뷰를 감성평에 따라 분류하는 작업은 감성 분석에 해당"
      ],
      "metadata": {
        "id": "za0DEX0M9_xQ"
      }
    },
    {
      "cell_type": "markdown",
      "source": [
        "### 말뭉치 (corpus)\n",
        "\n",
        "자연어 처리 분야에서 훈련 데이터를 뜻하는 용어\n",
        "\n",
        "IMDB 리뷰 데이터셋이 하나의 말뭉치임"
      ],
      "metadata": {
        "id": "8AmOZPauDb7h"
      }
    },
    {
      "cell_type": "markdown",
      "source": [
        "텍스트 자체가 신경망에 전달되는 것은 아님\n",
        "\n",
        "컴퓨터에서 처리하는 모든 것은 어떤 숫자 데이터\n",
        "\n",
        "이미지는 정수 픽셀 값으로 이루어지므로 변환을 하지 않음\n",
        "\n",
        "텍스트 데이터의 경우 단어를 숫자 데이터로 바꿔야 함\n",
        "\n",
        "단어를 숫자 데이터로 바꾸는 일반적인 방법은 데이터에 등장하는 단어마다 고유한 정수를 부여\n",
        "\n",
        "토큰에 할당하는 정수 중에 몇개는 특정한 용도로 예약되어 있는 경우가 있음\n",
        "\n",
        "예를 들어 0은 패딩, 1은 문장의 시작, 2는 어휘사전에 없는 토큰을 의미\n",
        "\n",
        "----------------------\n",
        "\n",
        "**어휘 사전**: 훈련 세트에서 고유한 단어를 뽑아 만든 목록\n",
        "\n",
        "---------\n",
        "\n",
        "일반적으로 영어 문장은 모두 소문자로 바꾸고 구둣점을 삭제한 다음 공백을 기준으로 분리\n",
        "\n",
        "이렇게 분리된 단어를 토큰(token)이라 함\n",
        "\n",
        "하나의 샘플은 여러개의 토큰으로 이루어져 있고 1개의 토큰이 하나의 타임스텝에 해당함"
      ],
      "metadata": {
        "id": "T9m1LeU3DjGI"
      }
    },
    {
      "cell_type": "markdown",
      "source": [
        "그림"
      ],
      "metadata": {
        "id": "HXFIZOBkwT0r"
      }
    },
    {
      "cell_type": "markdown",
      "source": [
        "한글은 조사가 발달되어 있기 때문에 공백으로 나누는 것만으로는 부족\n",
        "\n",
        "일반적으로 한글은 형태소 분석을 통해 토큰을 만듬\n",
        "\n",
        "관심 있다면 찾아볼 것\n",
        "\n",
        "-------------\n",
        "\n",
        "IMDB 리뷰 데이터 셋은 영어로 된 문장이지만 텐서플로에는 이미 정수로 바꾼 데이터가 포함되어 있음\n",
        "\n",
        "IMDB 리뷰 데이터셋은 tensorflow.keras.datasets 패키지 아래 imdb모듈을 임포트하여 얻음"
      ],
      "metadata": {
        "id": "wMYrHR5DwVmf"
      }
    },
    {
      "cell_type": "code",
      "source": [
        "# 실행마다 동일한 결과를 얻기 위해 케라스에 랜덤 시드를 사용하고 텐서플로 연산을 결정적으로 만듭니다.\n",
        "import tensorflow as tf\n",
        "\n",
        "tf.keras.utils.set_random_seed(42)\n",
        "tf.config.experimental.enable_op_determinism()"
      ],
      "metadata": {
        "id": "phxl6G7xEUNW"
      },
      "execution_count": 1,
      "outputs": []
    },
    {
      "cell_type": "code",
      "source": [
        "from tensorflow.keras.datasets import imdb\n",
        "\n",
        "(train_input, train_target), (test_input, test_target) = imdb.load_data(\n",
        "    num_words=300)\n",
        "#import tensorflow as tf\n",
        "#(train_input, train_target), (test_input, test_target) = tf.keras.datasets.imdb.load_data(num_words=300)"
      ],
      "metadata": {
        "colab": {
          "base_uri": "https://localhost:8080/"
        },
        "id": "gkktWBFuEWqe",
        "outputId": "1e1dd9c9-5b9b-46fa-bbfe-269cd413460c"
      },
      "execution_count": 2,
      "outputs": [
        {
          "output_type": "stream",
          "name": "stdout",
          "text": [
            "Downloading data from https://storage.googleapis.com/tensorflow/tf-keras-datasets/imdb.npz\n",
            "17464789/17464789 [==============================] - 0s 0us/step\n"
          ]
        }
      ]
    },
    {
      "cell_type": "markdown",
      "source": [
        "num_words=300\n",
        "\n",
        "이 함수는 전체 어휘 사전에 있는 단어를 등장 횟수 순서대로 나열한 다음 가장 많이 등장한 300개의 단어를 선택"
      ],
      "metadata": {
        "id": "1a15jpfox3hx"
      }
    },
    {
      "cell_type": "code",
      "source": [
        "print(train_input.shape, test_input.shape)"
      ],
      "metadata": {
        "colab": {
          "base_uri": "https://localhost:8080/"
        },
        "id": "Xsv3XdhEEh-z",
        "outputId": "a80bfffc-1a4f-4436-db17-f30b5804caf8"
      },
      "execution_count": 4,
      "outputs": [
        {
          "output_type": "stream",
          "name": "stdout",
          "text": [
            "(20000,) (25000,)\n"
          ]
        }
      ]
    },
    {
      "cell_type": "markdown",
      "source": [
        "\n",
        "데이터셋이 1차원 배열인 이유:\n",
        "\n",
        " IMDB 리뷰 텍스트의 길이는 제각각이므로 고정 크기의 2차원 배열보다는 리뷰마다 별도의 파이썬 리스트로 담아야 효율적으로 메모리 사용이 가능함\n",
        "\n",
        " 즉, 이 데이터는 **개별 리뷰를 담은 파이썬 리스트 객체**로 이루어진 넘파이 배열\n",
        "\n",
        " 넘파이 배열은 정수나 실수 외에도 파이썬 객체를 담을 수 있음\n",
        "\n",
        " > 즉, 리뷰의 길이가 다 다르기 때문에 일괄적으로 몇개라고 말하기 힘듬, 그래서 일단 파이썬 리스트 객체에 담아서 보관하는것\n",
        "\n",
        " > 이후에 전처리를 통해 리뷰의 길이를 통일하면 그때부턴 2차원으로 표현할 수 있음\n"
      ],
      "metadata": {
        "id": "4FOnhkKoxtoP"
      }
    },
    {
      "cell_type": "markdown",
      "source": [
        "그림"
      ],
      "metadata": {
        "id": "w_NvMwSvy4w_"
      }
    },
    {
      "cell_type": "markdown",
      "source": [
        "첫번쨰와 두번쨰 리뷰의 길이 출력"
      ],
      "metadata": {
        "id": "mFFn-boSyQm4"
      }
    },
    {
      "cell_type": "markdown",
      "source": [
        "\n",
        "\n",
        "첫번째 리뷰는 259개의 토큰으로 이루어져있음"
      ],
      "metadata": {
        "id": "Ofk3wPP_FYpV"
      }
    },
    {
      "cell_type": "code",
      "source": [
        "print(len(train_input[0]))"
      ],
      "metadata": {
        "colab": {
          "base_uri": "https://localhost:8080/"
        },
        "id": "xZBEVSbFEjBt",
        "outputId": "4d78ef68-1b72-46f8-cc18-f143eb0fc2ad"
      },
      "execution_count": 5,
      "outputs": [
        {
          "output_type": "stream",
          "name": "stdout",
          "text": [
            "259\n"
          ]
        }
      ]
    },
    {
      "cell_type": "markdown",
      "source": [
        "두번째 리뷰는 520개의 토큰으로 이루어져있음"
      ],
      "metadata": {
        "id": "1cgCPgEOFcJM"
      }
    },
    {
      "cell_type": "code",
      "source": [
        "print(len(train_input[1]))"
      ],
      "metadata": {
        "colab": {
          "base_uri": "https://localhost:8080/"
        },
        "id": "deRqMImpElQE",
        "outputId": "614a79a0-853a-43d8-8d43-b1fab9dc66bc"
      },
      "execution_count": 6,
      "outputs": [
        {
          "output_type": "stream",
          "name": "stdout",
          "text": [
            "520\n"
          ]
        }
      ]
    },
    {
      "cell_type": "markdown",
      "source": [
        "첫번쨰 리뷰( 파이썬 리스트 객체 )의 내용을 보니, 리뷰의 각 단어가 정수에 맵핑되어 표현되어 있는것을 볼 수있음"
      ],
      "metadata": {
        "id": "vv5gbK65zQYo"
      }
    },
    {
      "cell_type": "code",
      "source": [
        "print(train_input[0])"
      ],
      "metadata": {
        "colab": {
          "base_uri": "https://localhost:8080/"
        },
        "id": "8muTxadlEngI",
        "outputId": "f4cb8195-a9ad-429a-e36f-2205acfca0d3"
      },
      "execution_count": 7,
      "outputs": [
        {
          "output_type": "stream",
          "name": "stdout",
          "text": [
            "[1, 73, 89, 81, 25, 60, 2, 6, 20, 141, 17, 14, 31, 127, 12, 60, 28, 2, 2, 66, 45, 6, 20, 15, 2, 8, 79, 17, 2, 8, 112, 6, 2, 20, 17, 2, 2, 4, 2, 20, 9, 2, 6, 2, 7, 2, 2, 6, 185, 250, 24, 55, 2, 5, 23, 2, 7, 15, 82, 24, 15, 2, 66, 10, 10, 45, 2, 15, 4, 20, 2, 8, 30, 17, 2, 5, 2, 17, 2, 190, 4, 20, 9, 43, 32, 99, 2, 18, 15, 8, 157, 46, 17, 2, 4, 2, 5, 2, 9, 32, 2, 5, 2, 267, 17, 73, 17, 2, 36, 26, 2, 43, 2, 83, 4, 2, 247, 74, 83, 4, 250, 2, 82, 4, 96, 4, 250, 2, 8, 32, 4, 2, 9, 184, 2, 13, 2, 48, 14, 16, 147, 2, 59, 62, 69, 2, 12, 46, 50, 9, 53, 2, 74, 2, 11, 14, 31, 151, 10, 10, 4, 20, 9, 2, 2, 2, 5, 45, 6, 2, 2, 33, 269, 8, 2, 142, 2, 5, 2, 17, 73, 17, 204, 5, 2, 19, 55, 2, 2, 92, 66, 104, 14, 20, 93, 76, 2, 151, 33, 4, 58, 12, 188, 2, 151, 12, 215, 69, 224, 142, 73, 237, 6, 2, 7, 2, 2, 188, 2, 103, 14, 31, 10, 10, 2, 7, 2, 5, 2, 80, 91, 2, 30, 2, 34, 14, 20, 151, 50, 26, 131, 49, 2, 84, 46, 50, 37, 80, 79, 6, 2, 46, 7, 14, 20, 10, 10, 2, 158]\n"
          ]
        }
      ]
    },
    {
      "cell_type": "code",
      "source": [
        "print(train_input[0].count(2))"
      ],
      "metadata": {
        "colab": {
          "base_uri": "https://localhost:8080/"
        },
        "id": "8IHfLufPz88h",
        "outputId": "1f48c441-85ca-4273-c7df-450aea717ad9"
      },
      "execution_count": 35,
      "outputs": [
        {
          "output_type": "stream",
          "name": "stdout",
          "text": [
            "65\n"
          ]
        }
      ]
    },
    {
      "cell_type": "markdown",
      "source": [
        "IMDB 리뷰 데이터 셋은 영어로 된 문장이지만 텐서플로에는 이미 정수로 바꾼 데이터가 포함되어 있음\n",
        "\n",
        "2가 많이 보이는 이유는 num_words=300으로 지정했기 때문에 어휘사전에는 300개의 단어만 들어가 있고, 어휘사전에 없는 단어는 모두 2로 표시되기 때문\n",
        "\n",
        "즉, 첫번째 리뷰 데이터를 구성하는 259개의 단어중에 65개는 어휘사전( 상위\n",
        " 300개 단어 )에 없는 단어인 것이다.\n",
        "\n",
        " ( 당연하겠지만, 259개에서는 중복되는 단어도 있을거다. -> it is a pen, isn`t it?  ==> 여기서 \"it\"이 2번 반복되는 것처럼 말이다. )"
      ],
      "metadata": {
        "id": "7iRIM2tbzgWB"
      }
    },
    {
      "cell_type": "code",
      "source": [
        "print(train_target[:20])"
      ],
      "metadata": {
        "colab": {
          "base_uri": "https://localhost:8080/"
        },
        "id": "qrcESicLEp22",
        "outputId": "ef0cfc20-1751-43fd-d69d-4e98dfddf6d4"
      },
      "execution_count": 8,
      "outputs": [
        {
          "output_type": "stream",
          "name": "stdout",
          "text": [
            "[0 0 0 0 1 0 0 0 0 0 1 0 0 0 0 0 1 1 0 1]\n"
          ]
        }
      ]
    },
    {
      "cell_type": "markdown",
      "source": [
        "이제 라벨을 보자\n",
        "\n",
        "해결한 문제는 리뷰가 긍정인지 부정인지를 판단하는 것\n",
        "\n",
        "따라서 이진 분류 문제이며 0(부정)과 1(긍정)으로 나뉘어져있다."
      ],
      "metadata": {
        "id": "X9KGodC91A4E"
      }
    },
    {
      "cell_type": "code",
      "source": [
        "from sklearn.model_selection import train_test_split\n",
        "\n",
        "train_input, val_input, train_target, val_target = train_test_split(\n",
        "    train_input, train_target, test_size=0.2, random_state=42)"
      ],
      "metadata": {
        "id": "dQo8VQ9VEaBQ"
      },
      "execution_count": 3,
      "outputs": []
    },
    {
      "cell_type": "code",
      "source": [
        "print(train_input.shape,val_input.shape)"
      ],
      "metadata": {
        "colab": {
          "base_uri": "https://localhost:8080/"
        },
        "id": "uZUDpH221O31",
        "outputId": "d34abc49-31bf-42e2-e108-6b85569bebf6"
      },
      "execution_count": 36,
      "outputs": [
        {
          "output_type": "stream",
          "name": "stdout",
          "text": [
            "(20000,) (5000,)\n"
          ]
        }
      ]
    },
    {
      "cell_type": "markdown",
      "source": [
        "평균적인 리뷰의 길이와 가장 짧고 긴 리뷰의 길이 확인을 위해, 각 리뷰의 길이를 계산해 넘파이 배열에 담음"
      ],
      "metadata": {
        "id": "KKUgcfBn1Sk_"
      }
    },
    {
      "cell_type": "code",
      "source": [
        "import numpy as np\n",
        "\n",
        "lengths = np.array([len(x) for x in train_input])\n"
      ],
      "metadata": {
        "id": "-Y73uq55EzXf"
      },
      "execution_count": 9,
      "outputs": []
    },
    {
      "cell_type": "code",
      "source": [
        "print(np.mean(lengths), np.median(lengths))"
      ],
      "metadata": {
        "colab": {
          "base_uri": "https://localhost:8080/"
        },
        "id": "S8LPX-onE3Tm",
        "outputId": "0a0bef84-ece6-47fb-95c4-1e80c27e2ecf"
      },
      "execution_count": 10,
      "outputs": [
        {
          "output_type": "stream",
          "name": "stdout",
          "text": [
            "239.00925 178.0\n"
          ]
        }
      ]
    },
    {
      "cell_type": "markdown",
      "source": [
        "리뷰의 평균 길이가 239이고 중간값이 178\n",
        "\n",
        "이 데이터셋의 리뷰의 길이는 한쪽으로 치우친 분포를 보일 확률이 높음"
      ],
      "metadata": {
        "id": "AJC0pX0B1pUo"
      }
    },
    {
      "cell_type": "code",
      "source": [
        "import matplotlib.pyplot as plt\n",
        "\n",
        "plt.hist(lengths)\n",
        "plt.xlabel('length')\n",
        "plt.ylabel('frequency')\n",
        "plt.show()"
      ],
      "metadata": {
        "colab": {
          "base_uri": "https://localhost:8080/",
          "height": 449
        },
        "id": "O4gaOcaxE4a-",
        "outputId": "568aa5d6-1231-4424-9e5d-e8865de79219"
      },
      "execution_count": 11,
      "outputs": [
        {
          "output_type": "display_data",
          "data": {
            "text/plain": [
              "<Figure size 640x480 with 1 Axes>"
            ],
            "image/png": "[encoded data removed]"
          },
          "metadata": {}
        }
      ]
    },
    {
      "cell_type": "markdown",
      "source": [
        "한쪽으로 치우쳐져 있으며 대부분의 리뷰 길이는 300 미만임\n",
        "\n",
        "* 평균이 중간값보다 높은 이유는 오른쪽 끝에 아주 큰 데이터가 존재하기 떄문\n",
        "\n",
        "리뷰가 대부분 짧으므로 100개의 단어만 사용해봄\n",
        "\n",
        "여전히 100개의 단어보다 작은 리뷰가 있으므로 길이를 100에 맞추기 위해 패딩을 사용\n",
        "\n",
        "보통 패딩을 나타내는 토큰으로 0을 사용\n",
        "\n",
        "수동으로 훈련 세트에 있는 20000개의 리뷰를 길이가 100이 되도록 잘라내거나 패딩을 넣을 수 있음\n",
        "\n",
        "그러나 자주 하게되는 번거로운 작업에는 편리한 도구들이 이미 준비되어 있음\n",
        "\n",
        "케라스는 시퀀스 데이터의 길이를 맞추는 pad_sequences() 함수를 제공"
      ],
      "metadata": {
        "id": "PoupSDaRGsJ2"
      }
    },
    {
      "cell_type": "code",
      "source": [
        "from tensorflow.keras.preprocessing.sequence import pad_sequences\n",
        "\n",
        "train_seq = pad_sequences(train_input, maxlen=100)"
      ],
      "metadata": {
        "id": "Ngrpl3UlHAM5"
      },
      "execution_count": 13,
      "outputs": []
    },
    {
      "cell_type": "code",
      "source": [
        "print(train_seq.shape)\n",
        "print(train_seq[0])"
      ],
      "metadata": {
        "colab": {
          "base_uri": "https://localhost:8080/"
        },
        "id": "2PLq0fYXHGNg",
        "outputId": "eb104d6f-38c1-4d15-f39e-3bb9f2595cf4"
      },
      "execution_count": 37,
      "outputs": [
        {
          "output_type": "stream",
          "name": "stdout",
          "text": [
            "(20000, 100)\n",
            "[ 10   4  20   9   2   2   2   5  45   6   2   2  33 269   8   2 142   2\n",
            "   5   2  17  73  17 204   5   2  19  55   2   2  92  66 104  14  20  93\n",
            "  76   2 151  33   4  58  12 188   2 151  12 215  69 224 142  73 237   6\n",
            "   2   7   2   2 188   2 103  14  31  10  10   2   7   2   5   2  80  91\n",
            "   2  30   2  34  14  20 151  50  26 131  49   2  84  46  50  37  80  79\n",
            "   6   2  46   7  14  20  10  10   2 158]\n"
          ]
        }
      ]
    },
    {
      "cell_type": "markdown",
      "source": [
        "> 리뷰의 길이가 통일되었으므로 2차원 배열로 온전히 표현됨"
      ],
      "metadata": {
        "id": "I3MPkmK43EQQ"
      }
    },
    {
      "cell_type": "markdown",
      "source": [
        "그림"
      ],
      "metadata": {
        "id": "F-fZ-7zpHn4b"
      }
    },
    {
      "cell_type": "markdown",
      "source": [
        "파이썬 리스트의 배열은 train_input을 (20000,100) 크기의 2차원 배열인 train_seq로 변환\n",
        "\n",
        "첫번째 샘플의 앞뒤에 패딩값 0이 없으므로 train_seq[0] 샘플은 100보다 길었음\n",
        "\n",
        "( 짧았다면 100으로 맞추기 위해 0이 들어있었을 것 )\n",
        "\n",
        "샘플의 앞과 뒤 중에서 어느 부분이 잘렸을지 확인해보자"
      ],
      "metadata": {
        "id": "ncMbGDVeHox7"
      }
    },
    {
      "cell_type": "code",
      "source": [
        "print(train_input[0][-10:])"
      ],
      "metadata": {
        "colab": {
          "base_uri": "https://localhost:8080/"
        },
        "id": "l2ONfaqNHJKH",
        "outputId": "b5701b6e-7f55-4754-bcbc-d6d890ac22f9"
      },
      "execution_count": 16,
      "outputs": [
        {
          "output_type": "stream",
          "name": "stdout",
          "text": [
            "[6, 2, 46, 7, 14, 20, 10, 10, 2, 158]\n"
          ]
        }
      ]
    },
    {
      "cell_type": "markdown",
      "source": [
        "음수 인덱스와 슬라이싱을 사용해 train_input[0]의 마지막 10개의 토큰을 출력\n",
        "\n",
        "train_seq[0]의 마지막 10개의 토큰과 동일한 것으로 보아, 샘플의 앞부분이 잘렸음을 알 수 있음\n",
        "\n",
        "pad_sequences() 함수는 기본적으로 maxlan보다 긴 시퀀스의 앞부분을 자름\n",
        "\n",
        "일반적으로 시퀀스의 뒷부분의 정보가 더 유용하리라 기대하기 때문\n",
        "\n",
        "영화 리뷰 데이터를 생각하면 리뷰 끝에 뭔가 결정적인 소감을 말할 가능성이 높다고 볼 수 있음\n",
        "\n",
        "뒷부분을 자르고 싶다면 truncating 매개변수를 기본값인 pre에서 post로 바꾸면 됨"
      ],
      "metadata": {
        "id": "HF1y5Nm8HxlP"
      }
    },
    {
      "cell_type": "code",
      "source": [
        "print(train_seq[5])"
      ],
      "metadata": {
        "colab": {
          "base_uri": "https://localhost:8080/"
        },
        "id": "FbLzbb1QHKx_",
        "outputId": "1c8da009-e0df-43ff-f93b-194411cf0531"
      },
      "execution_count": 17,
      "outputs": [
        {
          "output_type": "stream",
          "name": "stdout",
          "text": [
            "[  0   0   0   0   1   2 195  19  49   2   2 190   4   2   2   2 183  10\n",
            "  10  13  82  79   4   2  36  71 269   8   2  25  19  49   7   4   2   2\n",
            "   2   2   2  10  10  48  25  40   2  11   2   2  40   2   2   5   4   2\n",
            "   2  95  14 238  56 129   2  10  10  21   2  94   2   2   2   2  11 190\n",
            "  24   2   2   7  94 205   2  10  10  87   2  34  49   2   7   2   2   2\n",
            "   2   2 290   2  46  48  64  18   4   2]\n"
          ]
        }
      ]
    },
    {
      "cell_type": "markdown",
      "source": [
        "앞부분에 0이 있는 것으로 보아 이 샘플의 길이는 100이 안되어서 패팅 토큰이 추가됬음을 알 수 있음\n",
        "\n",
        "위와 동일한 이유로 패딩 토큰은 시퀀스 뒷부분이 아니라 앞부분에 추가됨\n",
        "\n",
        "시퀀스의 마지막에 있는 단어가 셀의 은닉 상태에 가장 큰영향을 미치게 되므로 마지막에 패딩을 추가하는 것은 일반적으로 선호하지 않음\n",
        "\n",
        "그러나 뒷부분에 추가하고 싶다면 padding 매개변수를 기본값인 pre에서 post로 바꾸면됨"
      ],
      "metadata": {
        "id": "wch5fshFILko"
      }
    },
    {
      "cell_type": "code",
      "source": [
        "val_seq = pad_sequences(val_input, maxlen=100)"
      ],
      "metadata": {
        "id": "54Tg8pANHNJZ"
      },
      "execution_count": 18,
      "outputs": []
    },
    {
      "cell_type": "markdown",
      "source": [
        "훈련 및 검증 세트 준비가 완료"
      ],
      "metadata": {
        "id": "yHWrdDp5IiZW"
      }
    },
    {
      "cell_type": "markdown",
      "source": [
        "## 순환 신경망 만들기"
      ],
      "metadata": {
        "id": "KlETlB4YIiew"
      }
    },
    {
      "cell_type": "markdown",
      "source": [
        "SimpleRNN:케라스에서 제공하는 여러 종류의 순환층 클래스 중 가장 간단한 클래스\n",
        "\n",
        "첫번째 매개변수에서 사용할 뉴런의 개수를 지정\n",
        "\n",
        "input_shape에서 입력 차원을 지정\n",
        "\n",
        "기본 활성화 함수는 tanh로서 하이퍼볼릭 탄젠트 함수를 사용함\n",
        "\n",
        "IMDB 리뷰 분류 문제는 이진 문제이므로 마지막 출력층은 1개의 뉴런을 가지며 시그모이드 활성화 함수를 사용해야함"
      ],
      "metadata": {
        "id": "24RXBcJBIqbm"
      }
    },
    {
      "cell_type": "code",
      "source": [
        "from tensorflow import keras\n",
        "\n",
        "model = keras.Sequential()\n",
        "\n",
        "model.add(keras.layers.SimpleRNN(8, input_shape=(100, 300)))\n",
        "model.add(keras.layers.Dense(1, activation='sigmoid'))"
      ],
      "metadata": {
        "id": "0_HGRs09ImST"
      },
      "execution_count": 20,
      "outputs": []
    },
    {
      "cell_type": "markdown",
      "source": [
        "** input_shape의 크기를 (100,300)으로 설정한 이유 **\n",
        "\n",
        "input_shape에서 100은 샘플의 길이가 100이기 때문임\n",
        "\n",
        "300은???\n",
        "\n",
        "train_seq와 val_seq에는 문제가 한가지 있음\n",
        "\n",
        "토큰을 정수로 변환한 이 데이터를 신경망에 입력하면 큰 정수가 큰 활성화 출력을 만들어냄\n",
        "\n",
        "가중치가 동일한 경우, 정수가 크면 출력값도 커지기 때문\n",
        "\n",
        "하지만, 여기서 값의 크기는 큰 의미가 없으므로 큰 값의 정수를 작은 값의 정수보다 더 중요시할 필요가 없음\n",
        "\n",
        "따라서 신경망에 입력할 값을 변화시킬 방법을 찾아야함\n",
        "\n",
        "정수값에 있는 크기 속성을 없애고 각 정수를 고유하게 표현하기 위해 원-핫 인코딩 방법을 사용"
      ],
      "metadata": {
        "id": "m_y_x2YBJEDr"
      }
    },
    {
      "cell_type": "markdown",
      "source": [
        "그림"
      ],
      "metadata": {
        "id": "QjKk9nyr610d"
      }
    },
    {
      "cell_type": "markdown",
      "source": [
        "예를 들어 10을 원-핫 인코딩으로 바꾸면 위와 같음\n",
        "\n",
        "정수값을 배열에서 해당 정수 위치의 원소만 1이고 나머지는 모두 0으로 변환\n",
        "\n",
        "이 배열의 길이는 300임\n",
        "\n",
        "load_data() 함수에서 300개의 단어만 사용하도록 지정했기 때문에 고유한 단어는 모두 300개이므로 훈련 데이터에 포함될 수 있는 정수값의 범위는 0(패딩 토큰)에서 299까지\n",
        "\n",
        "즉, 이 범위를 원-핫 인코딩으로 표현하려면 배열의 길이가 300이어야함\n",
        "\n",
        "참고: 300개의 단어에는 패딩(0), 문장의 시작(1), 어휘사전에 없는 토큰(2)을 의미하는 정수가 기본적으로 포함됨\n"
      ],
      "metadata": {
        "id": "bLnm2Uh863uD"
      }
    },
    {
      "cell_type": "markdown",
      "source": [
        "원-핫 인코딩을 위한 유틸리티를 사용"
      ],
      "metadata": {
        "id": "F_WpjhEjCfDQ"
      }
    },
    {
      "cell_type": "code",
      "source": [
        "train_oh = keras.utils.to_categorical(train_seq)\n",
        "print(train_oh.shape)"
      ],
      "metadata": {
        "colab": {
          "base_uri": "https://localhost:8080/"
        },
        "id": "kSol-SWyKAR9",
        "outputId": "644038ae-8c1f-4fd9-e2d5-690f35d1a61d"
      },
      "execution_count": 23,
      "outputs": [
        {
          "output_type": "stream",
          "name": "stdout",
          "text": [
            "(20000, 100, 300)\n"
          ]
        }
      ]
    },
    {
      "cell_type": "markdown",
      "source": [
        "원핫 인코딩 함수: tensorflow.keras.utils.to_cateforical()\n",
        "\n",
        "샘플 데이터의 크기가 1차원 정수 배열 (100,)에서 2차원 배열 (100,300)으로 바꿔야 하므로 input_shape=(100,300)으로 지정함"
      ],
      "metadata": {
        "id": "8kHwafOEMel-"
      }
    },
    {
      "cell_type": "code",
      "source": [
        "print(train_oh[0][0][:12])\n"
      ],
      "metadata": {
        "colab": {
          "base_uri": "https://localhost:8080/"
        },
        "id": "ugWTry3hMhmo",
        "outputId": "218c7257-0857-472a-8520-5907475bd90e"
      },
      "execution_count": 24,
      "outputs": [
        {
          "output_type": "stream",
          "name": "stdout",
          "text": [
            "[0. 0. 0. 0. 0. 0. 0. 0. 0. 0. 1. 0.]\n"
          ]
        }
      ]
    },
    {
      "cell_type": "code",
      "source": [
        "print(train_seq[0][0])\n",
        "print(train_oh[0][0])\n",
        "print(np.sum(train_oh[0][0]))"
      ],
      "metadata": {
        "colab": {
          "base_uri": "https://localhost:8080/"
        },
        "id": "7yqpka1lMqsk",
        "outputId": "e6b2df2f-0a54-4a65-dd65-f2cc25a7cf6a"
      },
      "execution_count": 25,
      "outputs": [
        {
          "output_type": "stream",
          "name": "stdout",
          "text": [
            "10\n",
            "[0. 0. 0. 0. 0. 0. 0. 0. 0. 0. 1. 0. 0. 0. 0. 0. 0. 0. 0. 0. 0. 0. 0. 0.\n",
            " 0. 0. 0. 0. 0. 0. 0. 0. 0. 0. 0. 0. 0. 0. 0. 0. 0. 0. 0. 0. 0. 0. 0. 0.\n",
            " 0. 0. 0. 0. 0. 0. 0. 0. 0. 0. 0. 0. 0. 0. 0. 0. 0. 0. 0. 0. 0. 0. 0. 0.\n",
            " 0. 0. 0. 0. 0. 0. 0. 0. 0. 0. 0. 0. 0. 0. 0. 0. 0. 0. 0. 0. 0. 0. 0. 0.\n",
            " 0. 0. 0. 0. 0. 0. 0. 0. 0. 0. 0. 0. 0. 0. 0. 0. 0. 0. 0. 0. 0. 0. 0. 0.\n",
            " 0. 0. 0. 0. 0. 0. 0. 0. 0. 0. 0. 0. 0. 0. 0. 0. 0. 0. 0. 0. 0. 0. 0. 0.\n",
            " 0. 0. 0. 0. 0. 0. 0. 0. 0. 0. 0. 0. 0. 0. 0. 0. 0. 0. 0. 0. 0. 0. 0. 0.\n",
            " 0. 0. 0. 0. 0. 0. 0. 0. 0. 0. 0. 0. 0. 0. 0. 0. 0. 0. 0. 0. 0. 0. 0. 0.\n",
            " 0. 0. 0. 0. 0. 0. 0. 0. 0. 0. 0. 0. 0. 0. 0. 0. 0. 0. 0. 0. 0. 0. 0. 0.\n",
            " 0. 0. 0. 0. 0. 0. 0. 0. 0. 0. 0. 0. 0. 0. 0. 0. 0. 0. 0. 0. 0. 0. 0. 0.\n",
            " 0. 0. 0. 0. 0. 0. 0. 0. 0. 0. 0. 0. 0. 0. 0. 0. 0. 0. 0. 0. 0. 0. 0. 0.\n",
            " 0. 0. 0. 0. 0. 0. 0. 0. 0. 0. 0. 0. 0. 0. 0. 0. 0. 0. 0. 0. 0. 0. 0. 0.\n",
            " 0. 0. 0. 0. 0. 0. 0. 0. 0. 0. 0. 0.]\n",
            "1.0\n"
          ]
        }
      ]
    },
    {
      "cell_type": "markdown",
      "source": [
        "검증 세트도 원핫 인코딩"
      ],
      "metadata": {
        "id": "bNOMGgHzM4Pq"
      }
    },
    {
      "cell_type": "code",
      "source": [
        "val_oh = keras.utils.to_categorical(val_seq)"
      ],
      "metadata": {
        "id": "LNp7W6ovM2F4"
      },
      "execution_count": 26,
      "outputs": []
    },
    {
      "cell_type": "code",
      "source": [
        "model.summary()"
      ],
      "metadata": {
        "colab": {
          "base_uri": "https://localhost:8080/"
        },
        "id": "yfBs6fu-M8kG",
        "outputId": "e6893e09-2e6b-430d-a278-8222c17931f6"
      },
      "execution_count": 27,
      "outputs": [
        {
          "output_type": "stream",
          "name": "stdout",
          "text": [
            "Model: \"sequential\"\n",
            "_________________________________________________________________\n",
            " Layer (type)                Output Shape              Param #   \n",
            "=================================================================\n",
            " simple_rnn (SimpleRNN)      (None, 8)                 2472      \n",
            "                                                                 \n",
            " dense (Dense)               (None, 1)                 9         \n",
            "                                                                 \n",
            "=================================================================\n",
            "Total params: 2481 (9.69 KB)\n",
            "Trainable params: 2481 (9.69 KB)\n",
            "Non-trainable params: 0 (0.00 Byte)\n",
            "_________________________________________________________________\n"
          ]
        }
      ]
    },
    {
      "cell_type": "markdown",
      "source": [
        "SimpleRNN에 전달될 샘플의 크기는 (100,300)이지만 이 순환층은 마지막 타임스텝의 은닉 상태만 출력하기 떄문에 출력 크기가 순환층의 뉴런 개수와 동일한 8\n",
        "\n",
        "입력 토큰은 300차원의 원-핫 인코딩 배열이고 순환층의 뉴런 8개와 완전히 연결되기 떄문에 총 300*8=2400개의 가중치가 있음\n",
        "\n",
        "순환층의 은닉 상태는 다시 다음 타임스텝에 사용되기 위해 또 다른 가중치와 곱해짐\n",
        "\n",
        "이 은닉 상태도 순환층의 뉴런과 완전히 연결되기 때문에 8(은닉상태크기) * 8(뉴런개수) = 64개의 가중치가 필요함\n",
        "\n",
        "뉴런마다 하나의 절편이 존재하므로 모두 2400 + 64 + 8 = 2472개의 모델 파라미터가 존재함"
      ],
      "metadata": {
        "id": "op6P3mReKsL2"
      }
    },
    {
      "cell_type": "markdown",
      "source": [
        "\n",
        "## 순환 신경망 훈련\n"
      ],
      "metadata": {
        "id": "NeoGO3jiKuhh"
      }
    },
    {
      "cell_type": "markdown",
      "source": [
        "RMSprop: 순환 신경망(Recurrent Neural Network)에서 자주 사용하는 옵티마이저\n",
        "\n",
        "기본 학습률은 0.001이며 learning_rate 매개변수를 통해 조정가능\n",
        "\n"
      ],
      "metadata": {
        "id": "qfVD8-_JK1fm"
      }
    },
    {
      "cell_type": "code",
      "source": [
        "rmsprop = keras.optimizers.RMSprop(learning_rate=1e-4)\n",
        "model.compile(optimizer=rmsprop, loss='binary_crossentropy',\n",
        "              metrics=['accuracy'])\n",
        "\n",
        "checkpoint_cb = keras.callbacks.ModelCheckpoint('best-simplernn-model.h5',\n",
        "                                                save_best_only=True)\n",
        "early_stopping_cb = keras.callbacks.EarlyStopping(patience=3,\n",
        "                                                  restore_best_weights=True)\n",
        "\n",
        "history = model.fit(train_oh, train_target, epochs=100, batch_size=64,\n",
        "                    validation_data=(val_oh, val_target),\n",
        "                    callbacks=[checkpoint_cb, early_stopping_cb])"
      ],
      "metadata": {
        "colab": {
          "base_uri": "https://localhost:8080/"
        },
        "id": "o0igAgSkMQ3Y",
        "outputId": "d9f91b34-9b68-406d-f86f-ba43376b3f4d"
      },
      "execution_count": 28,
      "outputs": [
        {
          "output_type": "stream",
          "name": "stdout",
          "text": [
            "Epoch 1/100\n",
            "313/313 [==============================] - 17s 47ms/step - loss: 0.7003 - accuracy: 0.5002 - val_loss: 0.6970 - val_accuracy: 0.5058\n",
            "Epoch 2/100\n",
            "  2/313 [..............................] - ETA: 22s - loss: 0.7103 - accuracy: 0.5078"
          ]
        },
        {
          "output_type": "stream",
          "name": "stderr",
          "text": [
            "/usr/local/lib/python3.10/dist-packages/keras/src/engine/training.py:3079: UserWarning: You are saving your model as an HDF5 file via `model.save()`. This file format is considered legacy. We recommend using instead the native Keras format, e.g. `model.save('my_model.keras')`.\n",
            "  saving_api.save_model(\n"
          ]
        },
        {
          "output_type": "stream",
          "name": "stdout",
          "text": [
            "313/313 [==============================] - 11s 36ms/step - loss: 0.6956 - accuracy: 0.5123 - val_loss: 0.6946 - val_accuracy: 0.5124\n",
            "Epoch 3/100\n",
            "313/313 [==============================] - 10s 33ms/step - loss: 0.6917 - accuracy: 0.5282 - val_loss: 0.6909 - val_accuracy: 0.5318\n",
            "Epoch 4/100\n",
            "313/313 [==============================] - 12s 38ms/step - loss: 0.6844 - accuracy: 0.5549 - val_loss: 0.6833 - val_accuracy: 0.5690\n",
            "Epoch 5/100\n",
            "313/313 [==============================] - 15s 48ms/step - loss: 0.6784 - accuracy: 0.5778 - val_loss: 0.6797 - val_accuracy: 0.5770\n",
            "Epoch 6/100\n",
            "313/313 [==============================] - 14s 43ms/step - loss: 0.6733 - accuracy: 0.5891 - val_loss: 0.6753 - val_accuracy: 0.5862\n",
            "Epoch 7/100\n",
            "313/313 [==============================] - 14s 44ms/step - loss: 0.6679 - accuracy: 0.6057 - val_loss: 0.6695 - val_accuracy: 0.5970\n",
            "Epoch 8/100\n",
            "313/313 [==============================] - 10s 33ms/step - loss: 0.6614 - accuracy: 0.6197 - val_loss: 0.6636 - val_accuracy: 0.6098\n",
            "Epoch 9/100\n",
            "313/313 [==============================] - 12s 38ms/step - loss: 0.6539 - accuracy: 0.6334 - val_loss: 0.6562 - val_accuracy: 0.6244\n",
            "Epoch 10/100\n",
            "313/313 [==============================] - 14s 45ms/step - loss: 0.6463 - accuracy: 0.6458 - val_loss: 0.6485 - val_accuracy: 0.6362\n",
            "Epoch 11/100\n",
            "313/313 [==============================] - 15s 49ms/step - loss: 0.6373 - accuracy: 0.6569 - val_loss: 0.6401 - val_accuracy: 0.6526\n",
            "Epoch 12/100\n",
            "313/313 [==============================] - 18s 57ms/step - loss: 0.6280 - accuracy: 0.6689 - val_loss: 0.6296 - val_accuracy: 0.6638\n",
            "Epoch 13/100\n",
            "313/313 [==============================] - 14s 46ms/step - loss: 0.6188 - accuracy: 0.6794 - val_loss: 0.6201 - val_accuracy: 0.6734\n",
            "Epoch 14/100\n",
            "313/313 [==============================] - 12s 39ms/step - loss: 0.6086 - accuracy: 0.6901 - val_loss: 0.6111 - val_accuracy: 0.6834\n",
            "Epoch 15/100\n",
            "313/313 [==============================] - 11s 37ms/step - loss: 0.5992 - accuracy: 0.6985 - val_loss: 0.6029 - val_accuracy: 0.6906\n",
            "Epoch 16/100\n",
            "313/313 [==============================] - 12s 37ms/step - loss: 0.5897 - accuracy: 0.7060 - val_loss: 0.5919 - val_accuracy: 0.6998\n",
            "Epoch 17/100\n",
            "313/313 [==============================] - 8s 26ms/step - loss: 0.5811 - accuracy: 0.7142 - val_loss: 0.5838 - val_accuracy: 0.7054\n",
            "Epoch 18/100\n",
            "313/313 [==============================] - 12s 40ms/step - loss: 0.5728 - accuracy: 0.7207 - val_loss: 0.5768 - val_accuracy: 0.7118\n",
            "Epoch 19/100\n",
            "313/313 [==============================] - 11s 36ms/step - loss: 0.5643 - accuracy: 0.7259 - val_loss: 0.5683 - val_accuracy: 0.7158\n",
            "Epoch 20/100\n",
            "313/313 [==============================] - 10s 32ms/step - loss: 0.5567 - accuracy: 0.7308 - val_loss: 0.5620 - val_accuracy: 0.7210\n",
            "Epoch 21/100\n",
            "313/313 [==============================] - 9s 28ms/step - loss: 0.5500 - accuracy: 0.7354 - val_loss: 0.5553 - val_accuracy: 0.7238\n",
            "Epoch 22/100\n",
            "313/313 [==============================] - 11s 35ms/step - loss: 0.5442 - accuracy: 0.7399 - val_loss: 0.5511 - val_accuracy: 0.7288\n",
            "Epoch 23/100\n",
            "313/313 [==============================] - 11s 35ms/step - loss: 0.5380 - accuracy: 0.7429 - val_loss: 0.5460 - val_accuracy: 0.7324\n",
            "Epoch 24/100\n",
            "313/313 [==============================] - 8s 27ms/step - loss: 0.5333 - accuracy: 0.7462 - val_loss: 0.5417 - val_accuracy: 0.7350\n",
            "Epoch 25/100\n",
            "313/313 [==============================] - 11s 34ms/step - loss: 0.5293 - accuracy: 0.7480 - val_loss: 0.5380 - val_accuracy: 0.7352\n",
            "Epoch 26/100\n",
            "313/313 [==============================] - 10s 33ms/step - loss: 0.5255 - accuracy: 0.7513 - val_loss: 0.5364 - val_accuracy: 0.7354\n",
            "Epoch 27/100\n",
            "313/313 [==============================] - 9s 28ms/step - loss: 0.5223 - accuracy: 0.7527 - val_loss: 0.5324 - val_accuracy: 0.7406\n",
            "Epoch 28/100\n",
            "313/313 [==============================] - 10s 33ms/step - loss: 0.5191 - accuracy: 0.7551 - val_loss: 0.5324 - val_accuracy: 0.7366\n",
            "Epoch 29/100\n",
            "313/313 [==============================] - 10s 32ms/step - loss: 0.5158 - accuracy: 0.7570 - val_loss: 0.5451 - val_accuracy: 0.7282\n",
            "Epoch 30/100\n",
            "313/313 [==============================] - 8s 27ms/step - loss: 0.5136 - accuracy: 0.7580 - val_loss: 0.5261 - val_accuracy: 0.7436\n",
            "Epoch 31/100\n",
            "313/313 [==============================] - 10s 33ms/step - loss: 0.5112 - accuracy: 0.7592 - val_loss: 0.5249 - val_accuracy: 0.7440\n",
            "Epoch 32/100\n",
            "313/313 [==============================] - 11s 35ms/step - loss: 0.5091 - accuracy: 0.7607 - val_loss: 0.5248 - val_accuracy: 0.7434\n",
            "Epoch 33/100\n",
            "313/313 [==============================] - 8s 27ms/step - loss: 0.5070 - accuracy: 0.7617 - val_loss: 0.5240 - val_accuracy: 0.7410\n",
            "Epoch 34/100\n",
            "313/313 [==============================] - 10s 33ms/step - loss: 0.5046 - accuracy: 0.7623 - val_loss: 0.5249 - val_accuracy: 0.7432\n",
            "Epoch 35/100\n",
            "313/313 [==============================] - 10s 32ms/step - loss: 0.5041 - accuracy: 0.7635 - val_loss: 0.5217 - val_accuracy: 0.7466\n",
            "Epoch 36/100\n",
            "313/313 [==============================] - 9s 28ms/step - loss: 0.5024 - accuracy: 0.7646 - val_loss: 0.5196 - val_accuracy: 0.7466\n",
            "Epoch 37/100\n",
            "313/313 [==============================] - 11s 34ms/step - loss: 0.5010 - accuracy: 0.7646 - val_loss: 0.5198 - val_accuracy: 0.7440\n",
            "Epoch 38/100\n",
            "313/313 [==============================] - 13s 40ms/step - loss: 0.4995 - accuracy: 0.7649 - val_loss: 0.5205 - val_accuracy: 0.7480\n",
            "Epoch 39/100\n",
            "313/313 [==============================] - 12s 39ms/step - loss: 0.4983 - accuracy: 0.7652 - val_loss: 0.5233 - val_accuracy: 0.7454\n"
          ]
        }
      ]
    },
    {
      "cell_type": "markdown",
      "source": [
        "여기서 각 Epoch마다 313번 Iteration이 발생함\n",
        "\n",
        "이는 barch_size = 64 이고 입력 데이터 셋인 train_oh의 크기가 (20000,100,300)이기 때문임\n",
        "\n",
        "20000/64 = 312.5 -> 반올림 --> 313"
      ],
      "metadata": {
        "id": "5PAzzwIgNCH8"
      }
    },
    {
      "cell_type": "code",
      "source": [
        "plt.plot(history.history['loss'])\n",
        "plt.plot(history.history['val_loss'])\n",
        "plt.xlabel('epoch')\n",
        "plt.ylabel('loss')\n",
        "plt.legend(['train', 'val'])\n",
        "plt.show()"
      ],
      "metadata": {
        "colab": {
          "base_uri": "https://localhost:8080/",
          "height": 449
        },
        "id": "eXnHSS6ONTJS",
        "outputId": "009e1830-27d2-4ca1-da1d-00ede11b9a34"
      },
      "execution_count": 29,
      "outputs": [
        {
          "output_type": "display_data",
          "data": {
            "text/plain": [
              "<Figure size 640x480 with 1 Axes>"
            ],
            "image/png": "[encoded data removed]"
          },
          "metadata": {}
        }
      ]
    },
    {
      "cell_type": "markdown",
      "source": [
        "**문제점**\n",
        "\n",
        "훈련을 하기 위해 입력 데이터를 원-핫 인코딩으로 변환\n",
        "\n",
        "원-핫 인코딩의 단점은 입력 데이터가 엄청 커진다는 것임\n",
        "\n",
        "실제로 비교해보면 위와 같이 300배 증가했음을 알 수 있음\n",
        "\n",
        "이는 토큰 1개를 300차원으로 늘렸기 때문임"
      ],
      "metadata": {
        "id": "IVlrnGtjNVkU"
      }
    },
    {
      "cell_type": "code",
      "source": [
        "print(train_seq.nbytes,train_oh.nbytes)"
      ],
      "metadata": {
        "colab": {
          "base_uri": "https://localhost:8080/"
        },
        "id": "Yk9qK45qNi-b",
        "outputId": "674c97b1-cb96-4eb1-dfce-de28e8337b04"
      },
      "execution_count": 30,
      "outputs": [
        {
          "output_type": "stream",
          "name": "stdout",
          "text": [
            "8000000 2400000000\n"
          ]
        }
      ]
    },
    {
      "cell_type": "markdown",
      "source": [
        "**단어 임베딩(word embadding)**\n",
        "\n",
        "순환 신경망에서 텍스트를 처리할 때 자주 사용되는 방법\n",
        "\n",
        "각 단어를 고정된 크기의 실수 벡터로 바꿈"
      ],
      "metadata": {
        "id": "w6tQL-LoNiVM"
      }
    },
    {
      "cell_type": "markdown",
      "source": [
        "그림"
      ],
      "metadata": {
        "id": "FN_9zTXxOpgM"
      }
    },
    {
      "cell_type": "markdown",
      "source": [
        "단어 임베딩을 통해 만들어진 벡터는 원-핫 인코딩을 통해 만들어진 벡터보다 더 의미있는 값으로 채워져 있으므로 자연어 처리에서 더 좋은 성능을 내는 경우가 많음\n",
        "\n",
        "-------\n",
        "\n",
        "케라스에서 keras.layers.Embedding 클래스를 통해 단어 임베딩 기능을 이용할 수 있음\n",
        "\n",
        "keras.layers.Embedding 클래스의 첫번쨰 매개변수는 어휘사전의 크기 **(원핫인코딩의 크기가 아님)**\n",
        "\n",
        "두번째 매개변수는 임베딩 벡터의 크기 **(임의로 지정)**\n",
        "\n",
        "input_length 매개변수는 입력 시퀀스의 길이\n",
        "\n",
        "-------\n",
        "\n",
        "이 클래스는 다른 층처럼 모델에 추가함\n",
        "\n",
        "처음에는 모든 벡터가 랜덤하게 초기화된 상태에서 시작하지만 훈련을 통해 데이터에 적합한 벡터를 학습\n",
        "\n",
        "단어 임베딩의 장점은 입력으로 정수 데이터를 받음\n",
        "\n",
        "즉, train_oh가 아닌 train_seq를 사용할 수 있음\n",
        "\n",
        "따라서 메모리를 효율적으로 사용가능\n",
        "\n",
        "원-핫 인코딩과는 달리 훨씬 작은 크기로도 단어를 잘 표현할 수 있음"
      ],
      "metadata": {
        "id": "zgzdWaE3Oqu3"
      }
    },
    {
      "cell_type": "code",
      "source": [
        "model2 = keras.Sequential()\n",
        "#model1.add(keras.layers.SimpleRNN(8, input_shape=(100,300))) # actication='tanh' -> 위에서 섰던 층,, 비교해봐라 이거랑 임베딩이 더 편하다\n",
        "model2.add(keras.layers.Embedding(300, 16, input_length=100))\n",
        "model2.add(keras.layers.SimpleRNN(8))\n",
        "model2.add(keras.layers.Dense(1, activation='sigmoid'))\n",
        "\n",
        "model2.summary()"
      ],
      "metadata": {
        "colab": {
          "base_uri": "https://localhost:8080/"
        },
        "id": "n0iETHiWN4b0",
        "outputId": "3f91d0cd-74e1-48ca-f8dd-f477ea7e34ef"
      },
      "execution_count": 31,
      "outputs": [
        {
          "output_type": "stream",
          "name": "stdout",
          "text": [
            "Model: \"sequential_1\"\n",
            "_________________________________________________________________\n",
            " Layer (type)                Output Shape              Param #   \n",
            "=================================================================\n",
            " embedding (Embedding)       (None, 100, 16)           4800      \n",
            "                                                                 \n",
            " simple_rnn_1 (SimpleRNN)    (None, 8)                 200       \n",
            "                                                                 \n",
            " dense_1 (Dense)             (None, 1)                 9         \n",
            "                                                                 \n",
            "=================================================================\n",
            "Total params: 5009 (19.57 KB)\n",
            "Trainable params: 5009 (19.57 KB)\n",
            "Non-trainable params: 0 (0.00 Byte)\n",
            "_________________________________________________________________\n"
          ]
        }
      ]
    },
    {
      "cell_type": "markdown",
      "source": [
        "IMDB 리뷰 데이터 셋에서 300개의 단어만 사용하도록 설정했으므로 첫번째 매개변수는 300\n",
        "\n",
        "샘플의 길이를 100으로 맞추어 train_seq와 val_seq를 만들었으므로 input_length 매개변수는 100\n",
        "\n",
        "나머지는 기존과 동일\n"
      ],
      "metadata": {
        "id": "_enivIWCGW08"
      }
    },
    {
      "cell_type": "markdown",
      "source": [
        "Embedding 클래스는 300개의 각 토큰의 크기가 16인 벡터로 변경했기 때문에 총 300*16=4800개의 모델 파라미터를 가짐\n",
        "\n",
        "SimpleRNN 층은 임베딩 벡터의 크기가 16이므로 8개의 뉴런과 곱하기 위해 필요한 가중치 16 * 8 = 128개를 가짐 또한 은닉 상태에서 곱해지는 가중치 8 * 8 = 64개가 있으며 추가로 8개의 절편이 있으므로 이 순환층에 있는 전체 모델 파라미터의 개수는 128 + 64 + 8 = 200개\n",
        "\n",
        "Dense층의 가중치는 입력으로 들어오는 SimpleRNN층의 출력 8개에 해당하는 가중치 8개에 하나의 절편이 추가되어 총 9개\n",
        "\n",
        "------------------"
      ],
      "metadata": {
        "id": "fjKUUPoYPtBE"
      }
    },
    {
      "cell_type": "code",
      "source": [
        "rmsprop = keras.optimizers.RMSprop(learning_rate=1e-4)\n",
        "model2.compile(optimizer=rmsprop, loss='binary_crossentropy',\n",
        "               metrics=['accuracy'])\n",
        "\n",
        "checkpoint_cb = keras.callbacks.ModelCheckpoint('best-embedding-model.h5',\n",
        "                                                save_best_only=True)\n",
        "early_stopping_cb = keras.callbacks.EarlyStopping(patience=3,\n",
        "                                                  restore_best_weights=True)\n",
        "\n",
        "history = model2.fit(train_seq, train_target, epochs=100, batch_size=64,\n",
        "                     validation_data=(val_seq, val_target),\n",
        "                     callbacks=[checkpoint_cb, early_stopping_cb])"
      ],
      "metadata": {
        "colab": {
          "base_uri": "https://localhost:8080/"
        },
        "id": "QYnQ5DdcPspO",
        "outputId": "7b441d58-f228-4a39-d407-d49bd897fd68"
      },
      "execution_count": 32,
      "outputs": [
        {
          "output_type": "stream",
          "name": "stdout",
          "text": [
            "Epoch 1/100\n",
            "313/313 [==============================] - 11s 31ms/step - loss: 0.6893 - accuracy: 0.5351 - val_loss: 0.6706 - val_accuracy: 0.5872\n",
            "Epoch 2/100\n",
            "  3/313 [..............................] - ETA: 16s - loss: 0.6521 - accuracy: 0.6562"
          ]
        },
        {
          "output_type": "stream",
          "name": "stderr",
          "text": [
            "/usr/local/lib/python3.10/dist-packages/keras/src/engine/training.py:3079: UserWarning: You are saving your model as an HDF5 file via `model.save()`. This file format is considered legacy. We recommend using instead the native Keras format, e.g. `model.save('my_model.keras')`.\n",
            "  saving_api.save_model(\n"
          ]
        },
        {
          "output_type": "stream",
          "name": "stdout",
          "text": [
            "313/313 [==============================] - 15s 47ms/step - loss: 0.6399 - accuracy: 0.6467 - val_loss: 0.6234 - val_accuracy: 0.6664\n",
            "Epoch 3/100\n",
            "313/313 [==============================] - 8s 25ms/step - loss: 0.6051 - accuracy: 0.6941 - val_loss: 0.6003 - val_accuracy: 0.6948\n",
            "Epoch 4/100\n",
            "313/313 [==============================] - 10s 32ms/step - loss: 0.5831 - accuracy: 0.7172 - val_loss: 0.5888 - val_accuracy: 0.7026\n",
            "Epoch 5/100\n",
            "313/313 [==============================] - 9s 30ms/step - loss: 0.5663 - accuracy: 0.7305 - val_loss: 0.5669 - val_accuracy: 0.7300\n",
            "Epoch 6/100\n",
            "313/313 [==============================] - 8s 24ms/step - loss: 0.5527 - accuracy: 0.7408 - val_loss: 0.5536 - val_accuracy: 0.7356\n",
            "Epoch 7/100\n",
            "313/313 [==============================] - 9s 29ms/step - loss: 0.5410 - accuracy: 0.7475 - val_loss: 0.5422 - val_accuracy: 0.7404\n",
            "Epoch 8/100\n",
            "313/313 [==============================] - 7s 22ms/step - loss: 0.5313 - accuracy: 0.7509 - val_loss: 0.5443 - val_accuracy: 0.7352\n",
            "Epoch 9/100\n",
            "313/313 [==============================] - 9s 29ms/step - loss: 0.5236 - accuracy: 0.7549 - val_loss: 0.5463 - val_accuracy: 0.7238\n",
            "Epoch 10/100\n",
            "313/313 [==============================] - 7s 23ms/step - loss: 0.5177 - accuracy: 0.7578 - val_loss: 0.5377 - val_accuracy: 0.7382\n",
            "Epoch 11/100\n",
            "313/313 [==============================] - 9s 29ms/step - loss: 0.5135 - accuracy: 0.7590 - val_loss: 0.5264 - val_accuracy: 0.7454\n",
            "Epoch 12/100\n",
            "313/313 [==============================] - 7s 21ms/step - loss: 0.5094 - accuracy: 0.7619 - val_loss: 0.5265 - val_accuracy: 0.7422\n",
            "Epoch 13/100\n",
            "313/313 [==============================] - 9s 30ms/step - loss: 0.5056 - accuracy: 0.7641 - val_loss: 0.5207 - val_accuracy: 0.7468\n",
            "Epoch 14/100\n",
            "313/313 [==============================] - 11s 34ms/step - loss: 0.5027 - accuracy: 0.7657 - val_loss: 0.5226 - val_accuracy: 0.7436\n",
            "Epoch 15/100\n",
            "313/313 [==============================] - 7s 24ms/step - loss: 0.4998 - accuracy: 0.7689 - val_loss: 0.5678 - val_accuracy: 0.6992\n",
            "Epoch 16/100\n",
            "313/313 [==============================] - 9s 30ms/step - loss: 0.4977 - accuracy: 0.7677 - val_loss: 0.5155 - val_accuracy: 0.7500\n",
            "Epoch 17/100\n",
            "313/313 [==============================] - 7s 22ms/step - loss: 0.4944 - accuracy: 0.7713 - val_loss: 0.5222 - val_accuracy: 0.7450\n",
            "Epoch 18/100\n",
            "313/313 [==============================] - 9s 30ms/step - loss: 0.4927 - accuracy: 0.7712 - val_loss: 0.5149 - val_accuracy: 0.7486\n",
            "Epoch 19/100\n",
            "313/313 [==============================] - 7s 23ms/step - loss: 0.4905 - accuracy: 0.7730 - val_loss: 0.5138 - val_accuracy: 0.7464\n",
            "Epoch 20/100\n",
            "313/313 [==============================] - 9s 30ms/step - loss: 0.4880 - accuracy: 0.7740 - val_loss: 0.5124 - val_accuracy: 0.7500\n",
            "Epoch 21/100\n",
            "313/313 [==============================] - 7s 22ms/step - loss: 0.4871 - accuracy: 0.7749 - val_loss: 0.5143 - val_accuracy: 0.7488\n",
            "Epoch 22/100\n",
            "313/313 [==============================] - 9s 30ms/step - loss: 0.4847 - accuracy: 0.7775 - val_loss: 0.5148 - val_accuracy: 0.7486\n",
            "Epoch 23/100\n",
            "313/313 [==============================] - 8s 25ms/step - loss: 0.4830 - accuracy: 0.7775 - val_loss: 0.5135 - val_accuracy: 0.7500\n"
          ]
        }
      ]
    },
    {
      "cell_type": "code",
      "source": [
        "plt.plot(history.history['loss'])\n",
        "plt.plot(history.history['val_loss'])\n",
        "plt.xlabel('epoch')\n",
        "plt.ylabel('loss')\n",
        "plt.legend(['train', 'val'])\n",
        "plt.show()"
      ],
      "metadata": {
        "colab": {
          "base_uri": "https://localhost:8080/",
          "height": 449
        },
        "id": "dMH5voE0P3Ge",
        "outputId": "ccab1c36-57fb-42ed-f84b-dd712e4f2767"
      },
      "execution_count": 33,
      "outputs": [
        {
          "output_type": "display_data",
          "data": {
            "text/plain": [
              "<Figure size 640x480 with 1 Axes>"
            ],
            "image/png": "[encoded data removed]"
          },
          "metadata": {}
        }
      ]
    }
  ]
}