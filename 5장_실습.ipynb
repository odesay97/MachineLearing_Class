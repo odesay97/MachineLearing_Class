{
  "nbformat": 4,
  "nbformat_minor": 0,
  "metadata": {
    "colab": {
      "provenance": [],
      "authorship_tag": "ABX9TyNRNzd8jpijvgV3Ynk17jEa",
      "include_colab_link": true
    },
    "kernelspec": {
      "name": "python3",
      "display_name": "Python 3"
    },
    "language_info": {
      "name": "python"
    }
  },
  "cells": [
    {
      "cell_type": "markdown",
      "metadata": {
        "id": "view-in-github",
        "colab_type": "text"
      },
      "source": [
        "<a href=\"https://colab.research.google.com/github/odesay97/MachineLearing_Class/blob/main/5%EC%9E%A5_%EC%8B%A4%EC%8A%B5.ipynb\" target=\"_parent\"><img src=\"https://colab.research.google.com/assets/colab-badge.svg\" alt=\"Open In Colab\"/></a>"
      ]
    },
    {
      "cell_type": "code",
      "execution_count": 4,
      "metadata": {
        "id": "ilqwBCN2XRuA"
      },
      "outputs": [],
      "source": [
        "# 데이터 불러오기 및 전처리\n",
        "\n",
        "import pandas as pd\n",
        "\n",
        "dataset = pd.read_csv(\"https://bit.ly/wine_csv_data\")\n",
        "\n",
        "# dataset.head()\n",
        "# dataset.info()\n",
        "# dataset.describe()\n",
        "\n",
        "import numpy as np\n",
        "\n",
        "train_data = dataset[['alcohol','sugar','pH']]\n",
        "target_data = dataset['class']\n",
        "\n",
        "from sklearn.model_selection import train_test_split, GridSearchCV\n",
        "\n",
        "train_input, test_input, train_target, test_target = train_test_split(train_data,target_data,stratify=target_data,random_state=46)\n",
        "\n",
        "\n",
        "\n",
        "\n",
        "\n",
        "\n"
      ]
    },
    {
      "cell_type": "markdown",
      "source": [
        "결정트리"
      ],
      "metadata": {
        "id": "TcWu0rC1uGhk"
      }
    },
    {
      "cell_type": "code",
      "source": [
        "# 결정트리 최적화\n",
        "from sklearn.tree import DecisionTreeClassifier\n",
        "\n",
        "params = { 'max_depth': np.arange(3,20,1),\n",
        "          'min_impurity_decrease': np.arange(0.0001,0.001,0.0001),\n",
        "          'min_samples_split': np.arange(2,40,3)\n",
        "\n",
        "}\n",
        "\n",
        "gs1 = GridSearchCV(DecisionTreeClassifier(random_state=42),params,n_jobs=1)\n",
        "gs1.fit(train_input,train_target)\n",
        "\n",
        "print(gs1.score(train_input,train_target))\n",
        "print(gs1.score(test_input,test_target))\n",
        "print(gs1.best_params_)\n"
      ],
      "metadata": {
        "colab": {
          "base_uri": "https://localhost:8080/"
        },
        "id": "tHfcDfQIX1fC",
        "outputId": "c98661ce-e58b-4a7a-ef3a-17ce01b8efa5"
      },
      "execution_count": 8,
      "outputs": [
        {
          "output_type": "stream",
          "name": "stdout",
          "text": [
            "0.9084564860426929\n",
            "0.8738461538461538\n",
            "{'max_depth': 13, 'min_impurity_decrease': 0.00030000000000000003, 'min_samples_split': 8}\n"
          ]
        }
      ]
    },
    {
      "cell_type": "code",
      "source": [
        "# 결정트리 만들고 평가\n",
        "dc = DecisionTreeClassifier(random_state=42,max_depth=13,min_impurity_decrease=0.0003,min_samples_split=8)\n",
        "dc.fit(train_input,train_target)\n",
        "\n",
        "print(dc.score(train_input,train_target))\n",
        "print(dc.score(test_input,test_target))"
      ],
      "metadata": {
        "colab": {
          "base_uri": "https://localhost:8080/"
        },
        "id": "wuSR0qCht-mw",
        "outputId": "43526d12-27f4-455a-8dcf-2fc661e004b9"
      },
      "execution_count": 12,
      "outputs": [
        {
          "output_type": "stream",
          "name": "stdout",
          "text": [
            "0.9084564860426929\n",
            "0.8738461538461538\n"
          ]
        }
      ]
    },
    {
      "cell_type": "code",
      "source": [
        "# 랜덤 포레스트"
      ],
      "metadata": {
        "id": "X09dhxlgXcuc"
      },
      "execution_count": null,
      "outputs": []
    },
    {
      "cell_type": "code",
      "source": [
        "# 엑스트라 트리"
      ],
      "metadata": {
        "id": "oJrG1snIXc34"
      },
      "execution_count": null,
      "outputs": []
    },
    {
      "cell_type": "code",
      "source": [
        "# 그레디언트 부스팅"
      ],
      "metadata": {
        "id": "8V_CPRqfXc_z"
      },
      "execution_count": null,
      "outputs": []
    },
    {
      "cell_type": "code",
      "source": [
        "# 히스토그램기반 그래디언트 부스팅"
      ],
      "metadata": {
        "id": "B-1kpR3QXdK9"
      },
      "execution_count": null,
      "outputs": []
    }
  ]
}