{
  "nbformat": 4,
  "nbformat_minor": 0,
  "metadata": {
    "colab": {
      "provenance": [],
      "authorship_tag": "ABX9TyMrUQOFGxykV6a+3HIn0/cq",
      "include_colab_link": true
    },
    "kernelspec": {
      "name": "python3",
      "display_name": "Python 3"
    },
    "language_info": {
      "name": "python"
    }
  },
  "cells": [
    {
      "cell_type": "markdown",
      "metadata": {
        "id": "view-in-github",
        "colab_type": "text"
      },
      "source": [
        "<a href=\"https://colab.research.google.com/github/odesay97/MachineLearing_Class/blob/main/%EA%B3%BC%EC%A0%9C_1.ipynb\" target=\"_parent\"><img src=\"https://colab.research.google.com/assets/colab-badge.svg\" alt=\"Open In Colab\"/></a>"
      ]
    },
    {
      "cell_type": "markdown",
      "source": [
        "모든 모델은 교차검증을 통한 검증데이터를 바탕으로 학습을 하였으며,\n",
        "\n",
        "test_set에서 80% 이상의 정확도를 갖는 것을 목표로 훈련하였습니다"
      ],
      "metadata": {
        "id": "xaXu5_7xwyCu"
      }
    },
    {
      "cell_type": "markdown",
      "source": [
        "<h1>타이타닉 데이터 세트 전처리 </h1>"
      ],
      "metadata": {
        "id": "FE8GESx_gGLE"
      }
    },
    {
      "cell_type": "markdown",
      "source": [
        "대부분의 모델에 기본적으로 들어갈 데이터 전처리를 실행함\n",
        "\n",
        "특수한 전처리가 필요한 경우,\n",
        "이 데이터를 바탕으로 각자의 영역에서 따로 전처리 실행\n",
        "\n",
        "# 데이터 가져오기 및 내용 출력 ( 파악 )"
      ],
      "metadata": {
        "id": "mqKpo5Ydgexb"
      }
    },
    {
      "cell_type": "code",
      "source": [
        "\n",
        "import pandas as pd\n",
        "import numpy as np\n",
        "\n",
        "# 데이터 셋이 3개로 나뉘어져 있음\n",
        "# train.csv는 train을 위한 데이터\n",
        "# test.csv는 test를 위한 데이터 ( 하지만 Survive 여부가 없음 => target이 나누어진 상태 )\n",
        "# gender_submission.csv는 test의 survive 특성( target )이 들어가있음\n",
        "train_data_set = pd.read_csv(\"/content/drive/MyDrive/Colab Notebooks/train.csv\")\n",
        "test_data_set = pd.read_csv(\"/content/drive/MyDrive/Colab Notebooks/test.csv\")\n",
        "test_target_data_set = pd.read_csv(\"/content/drive/MyDrive/Colab Notebooks/gender_submission.csv\")\n",
        "\n",
        "print(train_data_set.info)\n",
        "print(\"//\")\n",
        "print(test_data_set.info)\n",
        "print(\"//\")\n",
        "print(test_target_data_set.info)\n",
        "print(\"//\")\n",
        "\n",
        "print(train_data_set.shape)\n",
        "print(test_data_set.shape)\n",
        "\n",
        "\n"
      ],
      "metadata": {
        "colab": {
          "base_uri": "https://localhost:8080/"
        },
        "id": "mP2V2NDIgUsY",
        "outputId": "e3e87a48-4679-4555-dcbd-a84b32bb735e"
      },
      "execution_count": 24,
      "outputs": [
        {
          "output_type": "stream",
          "name": "stdout",
          "text": [
            "<bound method DataFrame.info of      PassengerId  Survived  Pclass  \\\n",
            "0              1         0       3   \n",
            "1              2         1       1   \n",
            "2              3         1       3   \n",
            "3              4         1       1   \n",
            "4              5         0       3   \n",
            "..           ...       ...     ...   \n",
            "886          887         0       2   \n",
            "887          888         1       1   \n",
            "888          889         0       3   \n",
            "889          890         1       1   \n",
            "890          891         0       3   \n",
            "\n",
            "                                                  Name     Sex   Age  SibSp  \\\n",
            "0                              Braund, Mr. Owen Harris    male  22.0      1   \n",
            "1    Cumings, Mrs. John Bradley (Florence Briggs Th...  female  38.0      1   \n",
            "2                               Heikkinen, Miss. Laina  female  26.0      0   \n",
            "3         Futrelle, Mrs. Jacques Heath (Lily May Peel)  female  35.0      1   \n",
            "4                             Allen, Mr. William Henry    male  35.0      0   \n",
            "..                                                 ...     ...   ...    ...   \n",
            "886                              Montvila, Rev. Juozas    male  27.0      0   \n",
            "887                       Graham, Miss. Margaret Edith  female  19.0      0   \n",
            "888           Johnston, Miss. Catherine Helen \"Carrie\"  female   NaN      1   \n",
            "889                              Behr, Mr. Karl Howell    male  26.0      0   \n",
            "890                                Dooley, Mr. Patrick    male  32.0      0   \n",
            "\n",
            "     Parch            Ticket     Fare Cabin Embarked  \n",
            "0        0         A/5 21171   7.2500   NaN        S  \n",
            "1        0          PC 17599  71.2833   C85        C  \n",
            "2        0  STON/O2. 3101282   7.9250   NaN        S  \n",
            "3        0            113803  53.1000  C123        S  \n",
            "4        0            373450   8.0500   NaN        S  \n",
            "..     ...               ...      ...   ...      ...  \n",
            "886      0            211536  13.0000   NaN        S  \n",
            "887      0            112053  30.0000   B42        S  \n",
            "888      2        W./C. 6607  23.4500   NaN        S  \n",
            "889      0            111369  30.0000  C148        C  \n",
            "890      0            370376   7.7500   NaN        Q  \n",
            "\n",
            "[891 rows x 12 columns]>\n",
            "//\n",
            "<bound method DataFrame.info of      PassengerId  Pclass                                          Name  \\\n",
            "0            892       3                              Kelly, Mr. James   \n",
            "1            893       3              Wilkes, Mrs. James (Ellen Needs)   \n",
            "2            894       2                     Myles, Mr. Thomas Francis   \n",
            "3            895       3                              Wirz, Mr. Albert   \n",
            "4            896       3  Hirvonen, Mrs. Alexander (Helga E Lindqvist)   \n",
            "..           ...     ...                                           ...   \n",
            "413         1305       3                            Spector, Mr. Woolf   \n",
            "414         1306       1                  Oliva y Ocana, Dona. Fermina   \n",
            "415         1307       3                  Saether, Mr. Simon Sivertsen   \n",
            "416         1308       3                           Ware, Mr. Frederick   \n",
            "417         1309       3                      Peter, Master. Michael J   \n",
            "\n",
            "        Sex   Age  SibSp  Parch              Ticket      Fare Cabin Embarked  \n",
            "0      male  34.5      0      0              330911    7.8292   NaN        Q  \n",
            "1    female  47.0      1      0              363272    7.0000   NaN        S  \n",
            "2      male  62.0      0      0              240276    9.6875   NaN        Q  \n",
            "3      male  27.0      0      0              315154    8.6625   NaN        S  \n",
            "4    female  22.0      1      1             3101298   12.2875   NaN        S  \n",
            "..      ...   ...    ...    ...                 ...       ...   ...      ...  \n",
            "413    male   NaN      0      0           A.5. 3236    8.0500   NaN        S  \n",
            "414  female  39.0      0      0            PC 17758  108.9000  C105        C  \n",
            "415    male  38.5      0      0  SOTON/O.Q. 3101262    7.2500   NaN        S  \n",
            "416    male   NaN      0      0              359309    8.0500   NaN        S  \n",
            "417    male   NaN      1      1                2668   22.3583   NaN        C  \n",
            "\n",
            "[418 rows x 11 columns]>\n",
            "//\n",
            "<bound method DataFrame.info of      PassengerId  Survived\n",
            "0            892         0\n",
            "1            893         1\n",
            "2            894         0\n",
            "3            895         0\n",
            "4            896         1\n",
            "..           ...       ...\n",
            "413         1305         0\n",
            "414         1306         1\n",
            "415         1307         0\n",
            "416         1308         0\n",
            "417         1309         0\n",
            "\n",
            "[418 rows x 2 columns]>\n",
            "//\n",
            "(891, 12)\n",
            "(418, 11)\n"
          ]
        }
      ]
    },
    {
      "cell_type": "markdown",
      "source": [
        "# 데이터 상태 분석하기\n",
        "\n",
        "train.csv를 기준으로\n",
        "PassengerID, Survived, Pclass, Name, Sex, Age, SibSP, Parch, Ticket, Fare, Cabin, Enbarked로 속성이 있음\n",
        "\n",
        "* PassengerID = 개인번호\n",
        "* Survived = 생존여부 ( target ) 1 or 0\n",
        "* Pclass = 객실 등급 1 or 2 or 3\n",
        "* Name = 개인 이름\n",
        "* Sex = 성별  male or female\n",
        "* Age = 나이\n",
        "* SibSP = 함께 탑승한 형제 및 배우자 수\n",
        "* Parch = 함께 탑승한 자식 및 부모 수\n",
        "* Ticket = 티켓 번호\n",
        "* Fare = 요금\n",
        "* Cabin = 선실 번호\n",
        "* embarked = 탑승장소 S or C or Q\n",
        "\n",
        "여기서 target은 Survived 속성이며 test데이터에 해당하는 test.csv는 Survived가 gender_submission.csv에 나눠져 있는 상태"
      ],
      "metadata": {
        "id": "bcjVh0hug_cn"
      }
    },
    {
      "cell_type": "markdown",
      "source": [
        "# 유실 데이터 파악하기\n",
        "\n",
        "age 특성과 Cabin 특성에서 많은 유실이 존재\n",
        "\n",
        "Cabin 특성( 방번호 )의 경우 학습에 도움되지 않기 때문에 없앨 것이므로 따로 유실데이터 처리를 하지 않을 것임\n",
        "\n",
        "age, fare, embarked 특성은 학습에 이용할 것이기 때문에 유실을 해결해줘야함"
      ],
      "metadata": {
        "id": "5sfID2_9nnEw"
      }
    },
    {
      "cell_type": "code",
      "source": [
        "print(train_data_set.isnull().sum())\n",
        "print(\"/\")\n",
        "print(test_data_set.isnull().sum())\n",
        "print(\"/\")\n",
        "print(test_target_data_set.isnull().sum())"
      ],
      "metadata": {
        "colab": {
          "base_uri": "https://localhost:8080/"
        },
        "id": "U0S6JrHknuJs",
        "outputId": "18712443-7379-49d3-cc5a-e8deb7aed397"
      },
      "execution_count": 25,
      "outputs": [
        {
          "output_type": "stream",
          "name": "stdout",
          "text": [
            "PassengerId      0\n",
            "Survived         0\n",
            "Pclass           0\n",
            "Name             0\n",
            "Sex              0\n",
            "Age            177\n",
            "SibSp            0\n",
            "Parch            0\n",
            "Ticket           0\n",
            "Fare             0\n",
            "Cabin          687\n",
            "Embarked         2\n",
            "dtype: int64\n",
            "/\n",
            "PassengerId      0\n",
            "Pclass           0\n",
            "Name             0\n",
            "Sex              0\n",
            "Age             86\n",
            "SibSp            0\n",
            "Parch            0\n",
            "Ticket           0\n",
            "Fare             1\n",
            "Cabin          327\n",
            "Embarked         0\n",
            "dtype: int64\n",
            "/\n",
            "PassengerId    0\n",
            "Survived       0\n",
            "dtype: int64\n"
          ]
        }
      ]
    },
    {
      "cell_type": "markdown",
      "source": [
        "# 유실 데이터 해결\n",
        "\n",
        "fillna(method=\"pad\") 를 사용하여 앞의 값으로 채우거나\n",
        "\n",
        "보간법을 사용할수도 있지만, 위의 데이터의 경우 각 행이 독립적( 독립된 개인 ) 이므로 이 방법은 적합하지 않음\n",
        "\n",
        "1. Age : age 특성에 가해지는 영향을 줄이기 위해서 age 특성의 평균치를 넣어줄 것임\n",
        "\n",
        "2. fare : 결측치를 가진 데이터의 Pclass를 조사 ( 해당 인물의 부유함 유추 ), 그 Pclass에 해당하는 데이터들의 fare 평균으로 대체할 것\n",
        "\n",
        "3. Embarked : 유추할 방도가 없으므로 앞의 값으로 채우는 방법 사용\n",
        "\n",
        "4. Cabin : 유의미하지 않은 데이터로 이후에 제거할 것이므로 고려하지 않음"
      ],
      "metadata": {
        "id": "sF9abrS05Mse"
      }
    },
    {
      "cell_type": "code",
      "source": [
        "import numpy as np\n",
        "\n",
        "# train_data에서 Age 특성의 평균값은 29.69911764705882 ( 일반적인 나이는 자연수지만 데이터이므로 상관없음 )\n",
        "print(np.mean(train_data_set[\"Age\"]))\n",
        "# test_data에서 Age 특성의 평균값은 30.272590361445783 ( 일반적인 나이는 자연수지만 데이터이므로 상관없음 )\n",
        "print(np.mean(test_data_set[\"Age\"]))\n",
        "\n",
        "print(\"//\")\n",
        "# Fare가 null인 데이터는 TestSet에만 1개 존재\n",
        "# Fare가 null인 데이터의 PassengerId 는 1044 이며, 해당 데이터의 Pclass는 3 임\n",
        "print(test_data_set[test_data_set[\"Fare\"].isnull() == True])\n",
        "# Pclass = 3인 데이터의 Fare 평균값은 12.459677880184334\n",
        "print(np.mean((test_data_set[test_data_set[\"Pclass\"]==3])[\"Fare\"]))\n",
        "\n",
        "print(\"//\")\n",
        "\n",
        "train_change_data = {'Age':29.69911764705882}\n",
        "test_change_data = {'Age':30.272590361445783, 'Fare':12.459677880184334}\n",
        "\n",
        "# Age, Fare의 실측값 채워줌\n",
        "train_data_set_fill = train_data_set.fillna(value=train_change_data)\n",
        "test_data_set_fill = test_data_set.fillna(value=test_change_data)\n",
        "\n",
        "# Embarked 가 null인 데이터는 train데이터에만 2개 존재하며, 유추할 수 없으므로 이전 값을 그대로 가져올 것\n",
        "# Embarked 실측값 채워줌\n",
        "train_data_set_fill = train_data_set_fill.fillna(method=\"ffill\")\n",
        "\n",
        "print(\"결과\")\n",
        "print(train_data_set_fill)\n",
        "print(\"//\")\n",
        "print(test_data_set_fill)\n",
        "\n",
        "print(\"실측값 갯수\")\n",
        "print(train_data_set_fill.isnull().sum())\n",
        "print(\"//\")\n",
        "print(test_data_set_fill.isnull().sum())\n",
        "\n",
        "# 나중에 지워줄 특성인 Cabin을 제외하곤 실측값이 없어짐\n"
      ],
      "metadata": {
        "colab": {
          "base_uri": "https://localhost:8080/"
        },
        "id": "BCqwveZn6GD7",
        "outputId": "59621cb9-39e8-49af-cefc-16a6a40d76de"
      },
      "execution_count": 26,
      "outputs": [
        {
          "output_type": "stream",
          "name": "stdout",
          "text": [
            "29.69911764705882\n",
            "30.272590361445783\n",
            "//\n",
            "     PassengerId  Pclass                Name   Sex   Age  SibSp  Parch Ticket  \\\n",
            "152         1044       3  Storey, Mr. Thomas  male  60.5      0      0   3701   \n",
            "\n",
            "     Fare Cabin Embarked  \n",
            "152   NaN   NaN        S  \n",
            "12.459677880184334\n",
            "//\n",
            "결과\n",
            "     PassengerId  Survived  Pclass  \\\n",
            "0              1         0       3   \n",
            "1              2         1       1   \n",
            "2              3         1       3   \n",
            "3              4         1       1   \n",
            "4              5         0       3   \n",
            "..           ...       ...     ...   \n",
            "886          887         0       2   \n",
            "887          888         1       1   \n",
            "888          889         0       3   \n",
            "889          890         1       1   \n",
            "890          891         0       3   \n",
            "\n",
            "                                                  Name     Sex        Age  \\\n",
            "0                              Braund, Mr. Owen Harris    male  22.000000   \n",
            "1    Cumings, Mrs. John Bradley (Florence Briggs Th...  female  38.000000   \n",
            "2                               Heikkinen, Miss. Laina  female  26.000000   \n",
            "3         Futrelle, Mrs. Jacques Heath (Lily May Peel)  female  35.000000   \n",
            "4                             Allen, Mr. William Henry    male  35.000000   \n",
            "..                                                 ...     ...        ...   \n",
            "886                              Montvila, Rev. Juozas    male  27.000000   \n",
            "887                       Graham, Miss. Margaret Edith  female  19.000000   \n",
            "888           Johnston, Miss. Catherine Helen \"Carrie\"  female  29.699118   \n",
            "889                              Behr, Mr. Karl Howell    male  26.000000   \n",
            "890                                Dooley, Mr. Patrick    male  32.000000   \n",
            "\n",
            "     SibSp  Parch            Ticket     Fare Cabin Embarked  \n",
            "0        1      0         A/5 21171   7.2500   NaN        S  \n",
            "1        1      0          PC 17599  71.2833   C85        C  \n",
            "2        0      0  STON/O2. 3101282   7.9250   C85        S  \n",
            "3        1      0            113803  53.1000  C123        S  \n",
            "4        0      0            373450   8.0500  C123        S  \n",
            "..     ...    ...               ...      ...   ...      ...  \n",
            "886      0      0            211536  13.0000   C50        S  \n",
            "887      0      0            112053  30.0000   B42        S  \n",
            "888      1      2        W./C. 6607  23.4500   B42        S  \n",
            "889      0      0            111369  30.0000  C148        C  \n",
            "890      0      0            370376   7.7500  C148        Q  \n",
            "\n",
            "[891 rows x 12 columns]\n",
            "//\n",
            "     PassengerId  Pclass                                          Name  \\\n",
            "0            892       3                              Kelly, Mr. James   \n",
            "1            893       3              Wilkes, Mrs. James (Ellen Needs)   \n",
            "2            894       2                     Myles, Mr. Thomas Francis   \n",
            "3            895       3                              Wirz, Mr. Albert   \n",
            "4            896       3  Hirvonen, Mrs. Alexander (Helga E Lindqvist)   \n",
            "..           ...     ...                                           ...   \n",
            "413         1305       3                            Spector, Mr. Woolf   \n",
            "414         1306       1                  Oliva y Ocana, Dona. Fermina   \n",
            "415         1307       3                  Saether, Mr. Simon Sivertsen   \n",
            "416         1308       3                           Ware, Mr. Frederick   \n",
            "417         1309       3                      Peter, Master. Michael J   \n",
            "\n",
            "        Sex       Age  SibSp  Parch              Ticket      Fare Cabin  \\\n",
            "0      male  34.50000      0      0              330911    7.8292   NaN   \n",
            "1    female  47.00000      1      0              363272    7.0000   NaN   \n",
            "2      male  62.00000      0      0              240276    9.6875   NaN   \n",
            "3      male  27.00000      0      0              315154    8.6625   NaN   \n",
            "4    female  22.00000      1      1             3101298   12.2875   NaN   \n",
            "..      ...       ...    ...    ...                 ...       ...   ...   \n",
            "413    male  30.27259      0      0           A.5. 3236    8.0500   NaN   \n",
            "414  female  39.00000      0      0            PC 17758  108.9000  C105   \n",
            "415    male  38.50000      0      0  SOTON/O.Q. 3101262    7.2500   NaN   \n",
            "416    male  30.27259      0      0              359309    8.0500   NaN   \n",
            "417    male  30.27259      1      1                2668   22.3583   NaN   \n",
            "\n",
            "    Embarked  \n",
            "0          Q  \n",
            "1          S  \n",
            "2          Q  \n",
            "3          S  \n",
            "4          S  \n",
            "..       ...  \n",
            "413        S  \n",
            "414        C  \n",
            "415        S  \n",
            "416        S  \n",
            "417        C  \n",
            "\n",
            "[418 rows x 11 columns]\n",
            "실측값 갯수\n",
            "PassengerId    0\n",
            "Survived       0\n",
            "Pclass         0\n",
            "Name           0\n",
            "Sex            0\n",
            "Age            0\n",
            "SibSp          0\n",
            "Parch          0\n",
            "Ticket         0\n",
            "Fare           0\n",
            "Cabin          1\n",
            "Embarked       0\n",
            "dtype: int64\n",
            "//\n",
            "PassengerId      0\n",
            "Pclass           0\n",
            "Name             0\n",
            "Sex              0\n",
            "Age              0\n",
            "SibSp            0\n",
            "Parch            0\n",
            "Ticket           0\n",
            "Fare             0\n",
            "Cabin          327\n",
            "Embarked         0\n",
            "dtype: int64\n"
          ]
        }
      ]
    },
    {
      "cell_type": "markdown",
      "source": [
        "# 필요없는 특성 없애기\n",
        "\n",
        "* PassengerID = 개인번호\n",
        "* Survived = 생존여부 ( target ) 1 or 0\n",
        "* Pclass = 객실 등급 1 or 2 or 3\n",
        "* Name = 개인 이름\n",
        "* Sex = 성별  male or female\n",
        "* Age = 나이\n",
        "* SibSP = 함께 탑승한 형제 및 배우자 수\n",
        "* Parch = 함께 탑승한 자식 및 부모 수\n",
        "* Ticket = 티켓 번호\n",
        "* Fare = 요금\n",
        "* Cabin = 선실 번호\n",
        "* Embarked = 탑승장소 S or C or Q\n",
        "\n",
        "------------------------\n",
        "\n",
        "1. PassengerID, Name, Ticket, Cabin은 학습에 필요없는 특성\n",
        "\n",
        "2. Pclass, Sex, Age, SibSP, Parch, Fare, embarked는 학습에 필요한 특성\n",
        "\n",
        "3. Survived 는 타겟 특성"
      ],
      "metadata": {
        "id": "1qnP961N-ZzL"
      }
    },
    {
      "cell_type": "code",
      "source": [
        "train_data_fill_del = train_data_set_fill[[\"Pclass\",\"Sex\",\"Age\",\"SibSp\",\"Parch\",'Fare','Embarked']]\n",
        "train_target_fill_del = train_data_set_fill[\"Survived\"]\n",
        "test_data_fill_del = test_data_set_fill[[\"Pclass\",\"Sex\",\"Age\",\"SibSp\",\"Parch\",'Fare','Embarked']]\n",
        "test_target_fill_del = test_target_data_set[\"Survived\"]\n",
        "\n",
        "print(train_data_fill_del.head())\n",
        "print(\"//\")\n",
        "print(train_target_fill_del.head())\n",
        "print(\"//\")\n",
        "print(test_data_fill_del.head())\n",
        "print(\"//\")\n",
        "print(test_target_fill_del.head())"
      ],
      "metadata": {
        "colab": {
          "base_uri": "https://localhost:8080/"
        },
        "id": "-xOCqDIB-50p",
        "outputId": "b2bc77be-9d37-415e-ddb5-ed9c9bac4b1c"
      },
      "execution_count": 27,
      "outputs": [
        {
          "output_type": "stream",
          "name": "stdout",
          "text": [
            "   Pclass     Sex   Age  SibSp  Parch     Fare Embarked\n",
            "0       3    male  22.0      1      0   7.2500        S\n",
            "1       1  female  38.0      1      0  71.2833        C\n",
            "2       3  female  26.0      0      0   7.9250        S\n",
            "3       1  female  35.0      1      0  53.1000        S\n",
            "4       3    male  35.0      0      0   8.0500        S\n",
            "//\n",
            "0    0\n",
            "1    1\n",
            "2    1\n",
            "3    1\n",
            "4    0\n",
            "Name: Survived, dtype: int64\n",
            "//\n",
            "   Pclass     Sex   Age  SibSp  Parch     Fare Embarked\n",
            "0       3    male  34.5      0      0   7.8292        Q\n",
            "1       3  female  47.0      1      0   7.0000        S\n",
            "2       2    male  62.0      0      0   9.6875        Q\n",
            "3       3    male  27.0      0      0   8.6625        S\n",
            "4       3  female  22.0      1      1  12.2875        S\n",
            "//\n",
            "0    0\n",
            "1    1\n",
            "2    0\n",
            "3    0\n",
            "4    1\n",
            "Name: Survived, dtype: int64\n"
          ]
        }
      ]
    },
    {
      "cell_type": "markdown",
      "source": [
        "# 문자를 숫자로 인코딩 => 특성 전처리 1\n",
        "\n",
        "문자로 쓰여진 데이터는 숫자로 바꿔줘야함 => 인코딩\n",
        "\n",
        "Sex(성별)와 같이 2개로 나눠어진 경우 0,1 로 나타낼 수 있고,\n",
        "\n",
        "Pclass(객실등급)의 경우에도 숫자에 따른 등급상승이므로 1,2,3이 특성의 대표성을 유지함\n",
        "\n",
        "하지만\n",
        "\n",
        "Embarked와 같이 서로 독립된 값이 3개 이상으로 갈라지는 경우, 수의 연속성에 의한 왜곡이 일어날 수 있음\n",
        "\n",
        "( 예를 들어 Embarked의 경우 Q , S , C 가 각각 0 , 1 , 2로 바뀌었을 때,\n",
        "\n",
        "각각이 서로 연관성이 없음에도 QS , SC 가 비교적 가깝고,  QC가 비교적 먼 것처럼 인식됨  )\n",
        "\n",
        "--> Embarked의 경우, 이후에 특성공학을 통해 다른 표현으로 바꿔줄 것이기 때문에 여기서는 일단 넘어감"
      ],
      "metadata": {
        "id": "DAoPKlghGicZ"
      }
    },
    {
      "cell_type": "code",
      "source": [
        "# 데이터프레임을 복사할때는 copy()를 사용하는 것이 권고됨\n",
        "train_data_encoding = train_data_fill_del.copy()\n",
        "test_data_encoding = test_data_fill_del.copy()\n",
        "\n",
        "# Sex 특성을 0,1 로 인코딩\n",
        "train_data_Sex = train_data_fill_del[\"Sex\"].replace(\"male\",0).replace(\"female\",1)\n",
        "train_data_encoding[\"Sex\"] = train_data_Sex\n",
        "print(train_data_encoding.head())\n",
        "\n",
        "test_data_Sex = test_data_fill_del[\"Sex\"].replace(\"male\",0).replace(\"female\",1)\n",
        "test_data_encoding[\"Sex\"] = test_data_Sex\n",
        "print(test_data_encoding.head())\n",
        "\n"
      ],
      "metadata": {
        "colab": {
          "base_uri": "https://localhost:8080/"
        },
        "id": "HO1C_kP_HeNW",
        "outputId": "02fa7480-11f8-4909-a196-94a689f7312b"
      },
      "execution_count": 28,
      "outputs": [
        {
          "output_type": "stream",
          "name": "stdout",
          "text": [
            "   Pclass  Sex   Age  SibSp  Parch     Fare Embarked\n",
            "0       3    0  22.0      1      0   7.2500        S\n",
            "1       1    1  38.0      1      0  71.2833        C\n",
            "2       3    1  26.0      0      0   7.9250        S\n",
            "3       1    1  35.0      1      0  53.1000        S\n",
            "4       3    0  35.0      0      0   8.0500        S\n",
            "   Pclass  Sex   Age  SibSp  Parch     Fare Embarked\n",
            "0       3    0  34.5      0      0   7.8292        Q\n",
            "1       3    1  47.0      1      0   7.0000        S\n",
            "2       2    0  62.0      0      0   9.6875        Q\n",
            "3       3    0  27.0      0      0   8.6625        S\n",
            "4       3    1  22.0      1      1  12.2875        S\n"
          ]
        }
      ]
    },
    {
      "cell_type": "markdown",
      "source": [
        "# 작업을 위해 넘파이 배열로 변환"
      ],
      "metadata": {
        "id": "FRNHh-5noVlz"
      }
    },
    {
      "cell_type": "code",
      "source": [
        "train_input = train_data_encoding.to_numpy()\n",
        "test_input = test_data_encoding.to_numpy()\n",
        "train_target = train_target_fill_del.to_numpy()\n",
        "test_target = test_target_fill_del.to_numpy()\n",
        "\n",
        "print(train_input.shape)\n",
        "print(train_input[:5])\n",
        "\n",
        "print(test_input.shape)\n",
        "print(test_input[:5])\n"
      ],
      "metadata": {
        "colab": {
          "base_uri": "https://localhost:8080/"
        },
        "id": "Nd9az7iVoUtF",
        "outputId": "a366afac-1431-481a-91d2-2c80a2efb7ea"
      },
      "execution_count": 29,
      "outputs": [
        {
          "output_type": "stream",
          "name": "stdout",
          "text": [
            "(891, 7)\n",
            "[[3 0 22.0 1 0 7.25 'S']\n",
            " [1 1 38.0 1 0 71.2833 'C']\n",
            " [3 1 26.0 0 0 7.925 'S']\n",
            " [1 1 35.0 1 0 53.1 'S']\n",
            " [3 0 35.0 0 0 8.05 'S']]\n",
            "(418, 7)\n",
            "[[3 0 34.5 0 0 7.8292 'Q']\n",
            " [3 1 47.0 1 0 7.0 'S']\n",
            " [2 0 62.0 0 0 9.6875 'Q']\n",
            " [3 0 27.0 0 0 8.6625 'S']\n",
            " [3 1 22.0 1 1 12.2875 'S']]\n"
          ]
        }
      ]
    },
    {
      "cell_type": "markdown",
      "source": [
        "# 특성공학을 통해 적합한 데이터 표현 찾기\n",
        "\n",
        "위에서 말했듯이 Embarked 특성을 0,1,2 로 표현할 경우 수의 연속성에 의한 왜곡이 일어날 수 있다.\n",
        "\n",
        "따라서 특성공학을 통해 데이터에 적합한 다른 방식으로 표현해줄 것이다.\n",
        "\n",
        "( 여기서는 원 핫 인코딩 방식사용 )\n"
      ],
      "metadata": {
        "id": "1-hXcoeb46VA"
      }
    },
    {
      "cell_type": "code",
      "source": [
        "train_Embarked = []\n",
        "test_Embarked = []\n",
        "\n",
        "# 원 핫 인코딩을 위해 Embarked 특성을 배열로 뺌\n",
        "for x in train_input:\n",
        "  train_Embarked.append(x[6])\n",
        "print(train_Embarked[:5])\n",
        "\n",
        "print(np.unique(train_Embarked))\n",
        "\n",
        "for y in test_input:\n",
        "  test_Embarked.append(y[6])\n",
        "print(test_Embarked[:5])\n",
        "\n",
        "print(\"//\")\n",
        "\n",
        "from sklearn.preprocessing import OneHotEncoder, LabelEncoder\n",
        "\n",
        "# Embarked특성 배열에 OneHotEncoder를 사용하기 위해 먼저 숫자로 매핑 -> 1,2,3으로 매핑됌 ( 특성의 종류가 100개 이상이라도 사용할 수 있는 방법 )\n",
        "encoder = LabelEncoder()\n",
        "encoder.fit(train_Embarked)\n",
        "train_labels = encoder.transform(train_Embarked)\n",
        "test_labels = encoder.transform(test_Embarked)\n",
        "\n",
        "# OneHotEncoder에 넣기 전에 ,2차원배열로 변경\n",
        "train_labels = train_labels.reshape(-1,1)\n",
        "test_labels = test_labels.reshape(-1,1)\n",
        "\n",
        "# OneHotEncoder를 통해 특성공학 ==> [1,0,0] , [0,1,0] , [0,0,1] 로 각각 매핑됨\n",
        "oh_encoder = OneHotEncoder()\n",
        "oh_encoder.fit(train_labels)\n",
        "train_ohLabels = oh_encoder.transform(train_labels)\n",
        "test_ohLabels = oh_encoder.transform(test_labels)\n",
        "\n",
        "print(train_ohLabels.toarray())\n",
        "print(\"//\")\n",
        "print(test_ohLabels.toarray())\n",
        "\n",
        "print(\"//\")\n",
        "\n",
        "# Embarked 특성 삭제\n",
        "train_input_d = np.delete(train_input,6,1)\n",
        "test_input_d =np.delete(test_input,6,1)\n",
        "\n",
        "# 새로운 넘파이 배열에 Embarked 특성을 삭제한 배열 + 원힛인코딩으로 Embarked를 재구성한 배열 삽입\n",
        "train_input_h = np.array([])\n",
        "test_input_h = np.array([])\n",
        "\n",
        "train_input_h = np.append(train_input_d,train_ohLabels.toarray(),axis=1)\n",
        "test_input_h = np.append(test_input_d,test_ohLabels.toarray(),axis=1)\n",
        "\n",
        "\n",
        "print(train_input_h)\n",
        "print(\"//\")\n",
        "print(test_input_h)\n"
      ],
      "metadata": {
        "colab": {
          "base_uri": "https://localhost:8080/"
        },
        "id": "QR_Wa1Li5Aer",
        "outputId": "7aec8853-666e-4448-9de4-9b55a68f45af"
      },
      "execution_count": 30,
      "outputs": [
        {
          "output_type": "stream",
          "name": "stdout",
          "text": [
            "['S', 'C', 'S', 'S', 'S']\n",
            "['C' 'Q' 'S']\n",
            "['Q', 'S', 'Q', 'S', 'S']\n",
            "//\n",
            "[[0. 0. 1.]\n",
            " [1. 0. 0.]\n",
            " [0. 0. 1.]\n",
            " ...\n",
            " [0. 0. 1.]\n",
            " [1. 0. 0.]\n",
            " [0. 1. 0.]]\n",
            "//\n",
            "[[0. 1. 0.]\n",
            " [0. 0. 1.]\n",
            " [0. 1. 0.]\n",
            " ...\n",
            " [0. 0. 1.]\n",
            " [0. 0. 1.]\n",
            " [1. 0. 0.]]\n",
            "//\n",
            "[[3 0 22.0 ... 0.0 0.0 1.0]\n",
            " [1 1 38.0 ... 1.0 0.0 0.0]\n",
            " [3 1 26.0 ... 0.0 0.0 1.0]\n",
            " ...\n",
            " [3 1 29.69911764705882 ... 0.0 0.0 1.0]\n",
            " [1 0 26.0 ... 1.0 0.0 0.0]\n",
            " [3 0 32.0 ... 0.0 1.0 0.0]]\n",
            "//\n",
            "[[3 0 34.5 ... 0.0 1.0 0.0]\n",
            " [3 1 47.0 ... 0.0 0.0 1.0]\n",
            " [2 0 62.0 ... 0.0 1.0 0.0]\n",
            " ...\n",
            " [3 0 38.5 ... 0.0 0.0 1.0]\n",
            " [3 0 30.272590361445783 ... 0.0 0.0 1.0]\n",
            " [3 0 30.272590361445783 ... 1.0 0.0 0.0]]\n"
          ]
        }
      ]
    },
    {
      "cell_type": "markdown",
      "source": [
        "# 데이터 정규화\n",
        "\n",
        "Fare와 Age 특성의 편차가 다른 특성에 비해 크기 때문에 정규화가 필요하다.\n"
      ],
      "metadata": {
        "id": "p837KZXEqzUO"
      }
    },
    {
      "cell_type": "code",
      "source": [
        "from sklearn.preprocessing import StandardScaler\n",
        "\n",
        "ss = StandardScaler()\n",
        "ss.fit(train_input_h)\n",
        "\n",
        "train_scaled = ss.transform(train_input_h)\n",
        "test_scaled = ss.transform(test_input_h)\n",
        "\n",
        "print(train_scaled)\n",
        "print(test_scaled)\n"
      ],
      "metadata": {
        "colab": {
          "base_uri": "https://localhost:8080/"
        },
        "id": "dqlypryeqpyD",
        "outputId": "be72a1de-4de1-43ce-9a83-fa8aa6a0d761"
      },
      "execution_count": 31,
      "outputs": [
        {
          "output_type": "stream",
          "name": "stdout",
          "text": [
            "[[ 8.27377244e-01 -7.37695132e-01 -5.92480600e-01 ... -4.83809903e-01\n",
            "  -3.09743377e-01  6.19306364e-01]\n",
            " [-1.56610693e+00  1.35557354e+00  6.38789012e-01 ...  2.06692751e+00\n",
            "  -3.09743377e-01 -1.61470971e+00]\n",
            " [ 8.27377244e-01  1.35557354e+00 -2.84663197e-01 ... -4.83809903e-01\n",
            "  -3.09743377e-01  6.19306364e-01]\n",
            " ...\n",
            " [ 8.27377244e-01  1.35557354e+00  4.37434839e-15 ... -4.83809903e-01\n",
            "  -3.09743377e-01  6.19306364e-01]\n",
            " [-1.56610693e+00 -7.37695132e-01 -2.84663197e-01 ...  2.06692751e+00\n",
            "  -3.09743377e-01 -1.61470971e+00]\n",
            " [ 8.27377244e-01 -7.37695132e-01  1.77062908e-01 ... -4.83809903e-01\n",
            "   3.22847904e+00 -1.61470971e+00]]\n",
            "[[ 0.82737724 -0.73769513  0.36944878 ... -0.4838099   3.22847904\n",
            "  -1.61470971]\n",
            " [ 0.82737724  1.35557354  1.33137817 ... -0.4838099  -0.30974338\n",
            "   0.61930636]\n",
            " [-0.36936484 -0.73769513  2.48569343 ... -0.4838099   3.22847904\n",
            "  -1.61470971]\n",
            " ...\n",
            " [ 0.82737724 -0.73769513  0.67726619 ... -0.4838099  -0.30974338\n",
            "   0.61930636]\n",
            " [ 0.82737724 -0.73769513  0.04413122 ... -0.4838099  -0.30974338\n",
            "   0.61930636]\n",
            " [ 0.82737724 -0.73769513  0.04413122 ...  2.06692751 -0.30974338\n",
            "  -1.61470971]]\n"
          ]
        }
      ]
    },
    {
      "cell_type": "markdown",
      "source": [
        "# 데이터 섞기\n",
        "\n",
        "데이터가 특정 조건에 따라 나뉘어져 있지 않고,\n",
        "\n",
        "PassengerId 번호에 따라 나열되어 있기 때문에 따로 섞을 필요성이 없다.\n",
        "\n"
      ],
      "metadata": {
        "id": "ZjHhbhZzt90p"
      }
    },
    {
      "cell_type": "markdown",
      "source": [
        "# 교차검증 기법 사용\n",
        "\n",
        "아래에서 모두 동일하겠지만,\n",
        "\n",
        "Test 세트에 하이퍼파라미터가 맞춰지는 것을 방지하기 위해서 교차검증기법을 사용하였다.\n",
        "\n",
        "따라서 기본적으로 훈련세트에서 훈련데이터와 검증데이터를 나눠서 진행할 것이며,\n",
        "\n",
        "test 세트는 최종적인 성능확인을 위해서만 사용할 것이다."
      ],
      "metadata": {
        "id": "ewhTsuNt4U5s"
      }
    },
    {
      "cell_type": "markdown",
      "source": [
        "# 특성공학을 통한 특성 늘리기\n",
        "\n",
        "SGD분류 이후 필요성을 느껴 아래에 SGD 분류 이후에 적용해놓았음\n",
        "\n"
      ],
      "metadata": {
        "id": "WIAMQHX0jr0A"
      }
    },
    {
      "cell_type": "markdown",
      "source": [
        "# SGD 분류용 경고문자 없애기\n",
        "\n",
        "경고문자가 계속 떠서 경고를 없애주는 코드입니다."
      ],
      "metadata": {
        "id": "KfQa9grCBKvz"
      }
    },
    {
      "cell_type": "code",
      "source": [
        "from warnings import simplefilter\n",
        "from sklearn.exceptions import ConvergenceWarning\n",
        "simplefilter(\"ignore\", category=ConvergenceWarning)"
      ],
      "metadata": {
        "id": "weIcEbkgBLDX"
      },
      "execution_count": 40,
      "outputs": []
    },
    {
      "cell_type": "markdown",
      "source": [
        "# SGD분류"
      ],
      "metadata": {
        "id": "zvzAwBWE4HTw"
      }
    },
    {
      "cell_type": "code",
      "source": [
        "#기본 SGD 분류\n",
        "from sklearn.linear_model import SGDClassifier\n",
        "from sklearn.model_selection import cross_validate\n",
        "import numpy as np\n",
        "\n",
        "sc = SGDClassifier(loss=\"log_loss\",max_iter=10,random_state=201733922)\n",
        "scores = cross_validate(sc,train_scaled,train_target,return_train_score=True)\n",
        "\n",
        "print(np.mean(scores['train_score']) , np.mean(scores['test_score']))\n"
      ],
      "metadata": {
        "id": "eW1un2pmS2Yn",
        "colab": {
          "base_uri": "https://localhost:8080/"
        },
        "outputId": "f72e8567-af12-49e6-c61a-ebdf5459e65b"
      },
      "execution_count": 41,
      "outputs": [
        {
          "output_type": "stream",
          "name": "stdout",
          "text": [
            "0.7547603101312701 0.7654384533299855\n"
          ]
        }
      ]
    },
    {
      "cell_type": "markdown",
      "source": [
        "현재 과소적합상태로 보임 따라서 일단 max_iter를 늘려 학습량을 늘려야함\n",
        "\n",
        "max_iter의 값에 따른 추이를 보기 위해서 에포크 그래프를 그린다.\n",
        "\n",
        "이떄, epoch의 범위는 epoch를 1000까지 해봤을 때, 100 epoch 언저리에서 바뀌지 않는 양상을 보였었기 때문에 200까지로 제한했다."
      ],
      "metadata": {
        "id": "kfOKK-1OwJu5"
      }
    },
    {
      "cell_type": "code",
      "source": [
        "\n",
        "from sklearn.linear_model import SGDClassifier\n",
        "from sklearn.model_selection import cross_validate\n",
        "import numpy as np\n",
        "import matplotlib.pyplot as plt\n",
        "\n",
        "epoch = np.arange(10,200,1)\n",
        "\n",
        "train_score = []\n",
        "val_score = []\n",
        "\n",
        "for x in epoch:\n",
        "\n",
        "  sc = SGDClassifier(loss=\"log_loss\",max_iter=x,random_state=201733922)\n",
        "  scores = cross_validate(sc,train_scaled,train_target,return_train_score=True)\n",
        "  train_score.append(np.mean(scores[\"train_score\"]))\n",
        "  val_score.append(np.mean(scores[\"test_score\"]))\n",
        "\n",
        "plt.title(\"SDG\")\n",
        "plt.xlabel(\"epoch\")\n",
        "plt.ylabel(\"score\")\n",
        "plt.plot(epoch,train_score)\n",
        "plt.plot(epoch,val_score)\n",
        "\n",
        "\n",
        "print(np.mean(scores['train_score']) , np.mean(scores['test_score']))"
      ],
      "metadata": {
        "colab": {
          "base_uri": "https://localhost:8080/",
          "height": 489
        },
        "id": "dfKdW4Pm1__T",
        "outputId": "cbfeae1b-2870-4502-c9a2-e6b4ff342085"
      },
      "execution_count": 42,
      "outputs": [
        {
          "output_type": "stream",
          "name": "stdout",
          "text": [
            "0.7805864601226027 0.7721298098047831\n"
          ]
        },
        {
          "output_type": "display_data",
          "data": {
            "text/plain": [
              "<Figure size 640x480 with 1 Axes>"
            ],
            "image/png": "[encoded data removed]"
          },
          "metadata": {}
        }
      ]
    },
    {
      "cell_type": "markdown",
      "source": [
        "약 40 ~ 50사이의 max_iter에서 과소적합과 과대적합이 해소되었음,\n",
        "\n",
        "하지만 각 epoch마다 정확도가 너무 들쭉날쭉으로 불안정한 양상이 보임\n",
        "\n",
        "이제 다른 하이퍼파라미터들을 조정하여 진행해야한다\n",
        "\n",
        "다음은 SGD분류 기법에 사용할 수 있는 하이퍼파라미터와 기본값이다.\n",
        "\n",
        "* loss: str = \"hinge\"\n",
        "* penalty: str = \"l2\"\n",
        "* alpha: float = 0.0001\n",
        "* l1_ratio: float = 0.15\n",
        "* fit_intercept: bool = True\n",
        "* max_iter: int = 1000\n",
        "* tol: float = 0.001\n",
        "* shuffle: bool = True\n",
        "* verbose: int = 0\n",
        "* epsilon: float = DEFAULT_EPSILON\n",
        "* n_jobs: Any | None = None\n",
        "* random_state: Any | None = None\n",
        "* learning_rate: str = \"optimal\"\n",
        "* eta0: float = 0, power_t: float = 0.5\n",
        "* early_stopping: bool = False\n",
        "* validation_fraction: float = 0.1\n",
        "* n_iter_no_change: int = 5\n",
        "* class_weight: Any | None = None\n",
        "* warm_start: bool = False\n",
        "* average: bool = False\n",
        "\n",
        "일단 가장 일반적인 하이퍼파라미터인 penalty와 alpha 그리고 loss 함수를 먼저 조정해볼 것이다.\n",
        "\n",
        "일단 데이터가 epoch에 너무 민감한 것처럼 보였기 때문에,\n",
        "\n",
        "먼저 weight에 대한 민감도를 낮추기 위해 loss함수를 l2에서 l1 으로 변경해보았다.\n"
      ],
      "metadata": {
        "id": "_cAa5pA02x_q"
      }
    },
    {
      "cell_type": "code",
      "source": [
        "\n",
        "from sklearn.linear_model import SGDClassifier\n",
        "from sklearn.model_selection import cross_validate\n",
        "import numpy as np\n",
        "import matplotlib.pyplot as plt\n",
        "\n",
        "epoch = np.arange(10,200,1)\n",
        "\n",
        "train_score = []\n",
        "val_score = []\n",
        "\n",
        "for x in epoch:\n",
        "\n",
        "  sc = SGDClassifier(loss=\"log_loss\", penalty=\"l1\", alpha = 0.0001,max_iter=x,random_state=201733922)\n",
        "  scores = cross_validate(sc,train_scaled,train_target,return_train_score=True)\n",
        "  train_score.append(np.mean(scores[\"train_score\"]))\n",
        "  val_score.append(np.mean(scores[\"test_score\"]))\n",
        "\n",
        "plt.title(\"SDG\")\n",
        "plt.xlabel(\"epoch\")\n",
        "plt.ylabel(\"score\")\n",
        "plt.plot(epoch,train_score)\n",
        "plt.plot(epoch,val_score)\n",
        "\n",
        "\n",
        "print(np.mean(scores['train_score']) , np.mean(scores['test_score']))"
      ],
      "metadata": {
        "colab": {
          "base_uri": "https://localhost:8080/",
          "height": 489
        },
        "id": "8VuHPTLlMkbq",
        "outputId": "5296b3fd-ffc6-4332-bd62-764f980079e0"
      },
      "execution_count": 43,
      "outputs": [
        {
          "output_type": "stream",
          "name": "stdout",
          "text": [
            "0.783950155223222 0.7946142740568704\n"
          ]
        },
        {
          "output_type": "display_data",
          "data": {
            "text/plain": [
              "<Figure size 640x480 with 1 Axes>"
            ],
            "image/png": "[encoded data removed]"
          },
          "metadata": {}
        }
      ]
    },
    {
      "cell_type": "markdown",
      "source": [
        "epoch에 대한 민감성 약간 나아졌으며, 성능적인 향상과 함께 과소적합을 보임\n",
        "\n",
        "이번엔 학습에 따른 민감도를 낮추기 위해서 규제 강도 alpha의 값을 0.001로 좀더 높여보았다.\n",
        "\n",
        "또한 epoch가 100 이후로는 유의미하지 않기 때문에 학습속도 향샹알 위해 max_iter의 범위를 10 ~ 100으로 제한하였다.\n",
        "\n",
        " ( SDG의 경우 일정 정확도가 지속적으로 유지될 경우 그 전까지에서 최적의 성능에 자동으로 수렴하기 때문에 정확한 max_iter를 할 필요가 없다. )\n"
      ],
      "metadata": {
        "id": "f2ERspSgOag2"
      }
    },
    {
      "cell_type": "code",
      "source": [
        "from sklearn.linear_model import SGDClassifier\n",
        "from sklearn.model_selection import cross_validate\n",
        "import numpy as np\n",
        "import matplotlib.pyplot as plt\n",
        "\n",
        "epoch = np.arange(10,100,1)\n",
        "\n",
        "train_score = []\n",
        "val_score = []\n",
        "\n",
        "for x in epoch:\n",
        "\n",
        "  sc = SGDClassifier(loss=\"log_loss\", penalty=\"l1\", alpha = 0.0012,max_iter=x,random_state=201733922)\n",
        "  scores = cross_validate(sc,train_scaled,train_target,return_train_score=True)\n",
        "  train_score.append(np.mean(scores[\"train_score\"]))\n",
        "  val_score.append(np.mean(scores[\"test_score\"]))\n",
        "\n",
        "plt.title(\"SDG\")\n",
        "plt.xlabel(\"epoch\")\n",
        "plt.ylabel(\"score\")\n",
        "plt.plot(epoch,train_score)\n",
        "plt.plot(epoch,val_score)\n",
        "\n",
        "\n",
        "print(np.mean(scores['train_score']) , np.mean(scores['test_score']))"
      ],
      "metadata": {
        "colab": {
          "base_uri": "https://localhost:8080/",
          "height": 489
        },
        "id": "2WuB9cVUVOw9",
        "outputId": "20caa57a-8f36-41c6-87f0-6d1360f48194"
      },
      "execution_count": 44,
      "outputs": [
        {
          "output_type": "stream",
          "name": "stdout",
          "text": [
            "0.7982622090549505 0.8069612704789405\n"
          ]
        },
        {
          "output_type": "display_data",
          "data": {
            "text/plain": [
              "<Figure size 640x480 with 1 Axes>"
            ],
            "image/png": "[encoded data removed]"
          },
          "metadata": {}
        }
      ]
    },
    {
      "cell_type": "markdown",
      "source": [
        "성능적인 향상을 보였으나, 과소적합이 해소되지 않았다.\n",
        "\n",
        "loss 함수를 l1에서 다시 l2로 바꾸는 것으로 weight에 대한 민감성을 높여 과소적합을 해소하고자 했다."
      ],
      "metadata": {
        "id": "kehKRwtOVfNM"
      }
    },
    {
      "cell_type": "code",
      "source": [
        "from sklearn.linear_model import SGDClassifier\n",
        "from sklearn.model_selection import cross_validate\n",
        "import numpy as np\n",
        "import matplotlib.pyplot as plt\n",
        "\n",
        "epoch = np.arange(10,100,1)\n",
        "\n",
        "train_score = []\n",
        "val_score = []\n",
        "\n",
        "for x in epoch:\n",
        "\n",
        "  sc = SGDClassifier(loss=\"log_loss\", penalty=\"l2\", alpha = 0.0012,max_iter=x,random_state=201733922)\n",
        "  scores = cross_validate(sc,train_scaled,train_target,return_train_score=True)\n",
        "  train_score.append(np.mean(scores[\"train_score\"]))\n",
        "  val_score.append(np.mean(scores[\"test_score\"]))\n",
        "\n",
        "plt.title(\"SDG\")\n",
        "plt.xlabel(\"epoch\")\n",
        "plt.ylabel(\"score\")\n",
        "plt.plot(epoch,train_score)\n",
        "plt.plot(epoch,val_score)\n",
        "\n",
        "\n",
        "print(np.mean(scores['train_score']) , np.mean(scores['test_score']))"
      ],
      "metadata": {
        "colab": {
          "base_uri": "https://localhost:8080/",
          "height": 489
        },
        "id": "vE-tZUVAW5Fi",
        "outputId": "66aaaff3-2940-4dcb-cd6a-a508acbec3ea"
      },
      "execution_count": 45,
      "outputs": [
        {
          "output_type": "stream",
          "name": "stdout",
          "text": [
            "0.8019068030319744 0.7901198920343984\n"
          ]
        },
        {
          "output_type": "display_data",
          "data": {
            "text/plain": [
              "<Figure size 640x480 with 1 Axes>"
            ],
            "image/png": "[encoded data removed]"
          },
          "metadata": {}
        }
      ]
    },
    {
      "cell_type": "markdown",
      "source": [
        "과소적합이 해소되었으며, 79% 정도의 정확도를 보인다.\n",
        "\n",
        "이제 마지막으로 테스트 세트로 테스트하여 최종 점수를 확인할 것이다."
      ],
      "metadata": {
        "id": "ySxBdPCeW_Lf"
      }
    },
    {
      "cell_type": "code",
      "source": [
        "from sklearn.linear_model import SGDClassifier\n",
        "from sklearn.model_selection import cross_validate\n",
        "import numpy as np\n",
        "import matplotlib.pyplot as plt\n",
        "\n",
        "\n",
        "sc = SGDClassifier(loss=\"log_loss\", penalty=\"l2\", alpha = 0.0012,max_iter=100,random_state=201733922)\n",
        "sc.fit(train_scaled,train_target)\n",
        "\n",
        "print(sc.score(train_scaled,train_target))\n",
        "print(sc.score(test_scaled,test_target))\n"
      ],
      "metadata": {
        "colab": {
          "base_uri": "https://localhost:8080/"
        },
        "id": "MiR8uEdAXXJ3",
        "outputId": "1a526788-f8bf-46dc-a8bb-f2e932dadb99"
      },
      "execution_count": 46,
      "outputs": [
        {
          "output_type": "stream",
          "name": "stdout",
          "text": [
            "0.8035914702581369\n",
            "0.916267942583732\n"
          ]
        }
      ]
    },
    {
      "cell_type": "markdown",
      "source": [
        "데이터 상으로는 과소적합 상태로 보이지만,\n",
        "\n",
        "교차 검증을 통한 검증데이터로 모니터링한 모델이고,\n",
        "\n",
        "하이퍼파라미터에 test데이터가 영향을 미치지 않았었기 때문에 절대적인 데이터 갯수에 의한 최소적합일 확률이 높다.\n"
      ],
      "metadata": {
        "id": "L_jrzoUzaYoo"
      }
    },
    {
      "cell_type": "code",
      "source": [
        "from sklearn.linear_model import SGDClassifier\n",
        "from sklearn.model_selection import cross_validate\n",
        "import numpy as np\n",
        "import matplotlib.pyplot as plt\n",
        "\n",
        "\n",
        "sc = SGDClassifier(loss=\"log_loss\", penalty=\"l2\", alpha = 0.0012,max_iter=100,random_state=201733922)\n",
        "sc.fit(test_scaled,test_target)\n",
        "\n",
        "print(sc.score(test_scaled,test_target))\n",
        "print(sc.score(train_scaled,train_target))\n"
      ],
      "metadata": {
        "colab": {
          "base_uri": "https://localhost:8080/"
        },
        "id": "Jnrs7NbhbuRJ",
        "outputId": "1c0b9b1d-8308-445d-80a3-071ebd2601fd"
      },
      "execution_count": 47,
      "outputs": [
        {
          "output_type": "stream",
          "name": "stdout",
          "text": [
            "1.0\n",
            "0.7867564534231201\n"
          ]
        }
      ]
    },
    {
      "cell_type": "markdown",
      "source": [
        "테스트 세트를 통해 훈련을 진행하고, 훈련 세트를 통해 테스트를 진행했을 때, 다음과 같은결과가 나온것으로 보아\n",
        "\n",
        "전처리한 데이터의 특성이 그냥 test 데이터 세트에 속해있던 데이터를 더 잘 구분해내는 것 같다.\n",
        "\n",
        "근본적으로는 데이터의 양이 적어서 발생한 문제라고 볼 수 있지만, 타이타닉 생존자 데이터를 늘릴수는 없는만큼\n",
        "\n",
        "최대한 해결하기 위해서 특성공학을 통해 특성을 늘린다음 진행해보았다.\n",
        "\n"
      ],
      "metadata": {
        "id": "2A_KVNWRcCiU"
      }
    },
    {
      "cell_type": "code",
      "source": [
        "# 온 힛 인코딩을 한 직후의 데이터 ( 정규화 이전 )\n",
        "train_input_h_1 = train_input_h\n",
        "test_input_h_1 = test_input_h\n",
        "\n",
        "# 특성공학을 통해 특성 늘리기\n",
        "from sklearn.preprocessing import PolynomialFeatures\n",
        "\n",
        "poly = PolynomialFeatures(degree = 4)\n",
        "poly.fit(train_input_h_1)\n",
        "\n",
        "train_poly = poly.transform(train_input_h_1)\n",
        "test_poly = poly.transform(test_input_h_1)\n",
        "\n",
        "# 정규화\n",
        "from sklearn.preprocessing import StandardScaler\n",
        "\n",
        "ss = StandardScaler()\n",
        "ss.fit(train_poly)\n",
        "\n",
        "train_poly_scaled = ss.transform(train_poly)\n",
        "test_poly_scaled = ss.transform(test_poly)\n",
        "\n",
        "# SDG 학습 기본\n",
        "from sklearn.linear_model import SGDClassifier\n",
        "from sklearn.model_selection import cross_validate\n",
        "import numpy as np\n",
        "\n",
        "\n",
        "sc = SGDClassifier(loss=\"log_loss\", penalty=\"l2\", alpha = 0.0012,max_iter=100,random_state=201733922)\n",
        "scores = cross_validate(sc,train_poly_scaled,train_target,return_train_score=True)\n",
        "\n",
        "print(np.mean(scores['train_score']), np.mean(scores['test_score']))\n",
        "print(\"//\")\n",
        "\n",
        "sc.fit(train_poly_scaled,train_target)\n",
        "\n",
        "print(sc.score(train_poly_scaled,train_target))\n",
        "print(sc.score(test_poly_scaled,test_target))"
      ],
      "metadata": {
        "colab": {
          "base_uri": "https://localhost:8080/"
        },
        "id": "jJ2xsxaadLjY",
        "outputId": "f73ec67a-95f3-42b4-9da2-7ff0d0c6e411"
      },
      "execution_count": 48,
      "outputs": [
        {
          "output_type": "stream",
          "name": "stdout",
          "text": [
            "0.8395098255511606 0.8047642960266147\n",
            "//\n",
            "0.8204264870931538\n",
            "0.8086124401913876\n"
          ]
        }
      ]
    },
    {
      "cell_type": "markdown",
      "source": [
        "간단한 특성공학만으로 성능이 많이 올랐고 과소적합도 해결되었다.\n",
        "\n",
        "결론적으로 80% 수준의 정확도를 나타내고 있다."
      ],
      "metadata": {
        "id": "-mVBfsAWgmWN"
      }
    },
    {
      "cell_type": "markdown",
      "source": [
        "# 특성공학을 통한 특성 늘리기\n",
        "\n",
        "SGD분류 문제에서 경험한 결과, 현재 Input 데이터가 현저히 적기 때문에 이후의 모델에서도 동일한 문제가 발생할 수 있음을 인식하였다\n",
        "\n",
        "따라서 특성공학을 미리 적용하여 최대한 데이터의 유효성을 높이는 것이 옳다고 판단했다"
      ],
      "metadata": {
        "id": "8Dv-clk9jBLZ"
      }
    },
    {
      "cell_type": "code",
      "source": [
        "# 온 힛 인코딩을 한 직후의 데이터 ( 정규화 이전 )\n",
        "train_input_h_1 = train_input_h\n",
        "test_input_h_1 = test_input_h\n",
        "\n",
        "# 특성공학을 통해 특성 늘리기\n",
        "from sklearn.preprocessing import PolynomialFeatures\n",
        "\n",
        "poly = PolynomialFeatures(degree = 3)\n",
        "poly.fit(train_input_h_1)\n",
        "\n",
        "train_poly = poly.transform(train_input_h_1)\n",
        "test_poly = poly.transform(test_input_h_1)\n",
        "\n",
        "# 정규화\n",
        "from sklearn.preprocessing import StandardScaler\n",
        "\n",
        "ss = StandardScaler()\n",
        "ss.fit(train_poly)\n",
        "\n",
        "train_poly_scaled = ss.transform(train_poly)\n",
        "test_poly_scaled = ss.transform(test_poly)"
      ],
      "metadata": {
        "id": "svMUuerwjaKo"
      },
      "execution_count": null,
      "outputs": []
    },
    {
      "cell_type": "markdown",
      "source": [
        "# 결정트리\n",
        "\n"
      ],
      "metadata": {
        "id": "QxliB0ur4Ltp"
      }
    },
    {
      "cell_type": "code",
      "source": [
        "#기본 결정트리\n",
        "from sklearn.tree import DecisionTreeClassifier\n",
        "from sklearn.model_selection import cross_validate\n",
        "import numpy as np\n",
        "\n",
        "dc = DecisionTreeClassifier(random_state=201733922,)\n",
        "scores = cross_validate(dc,train_poly_scaled,train_target,return_train_score=True)\n",
        "\n",
        "print(np.mean(scores['train_score']) , np.mean(scores['test_score']))"
      ],
      "metadata": {
        "colab": {
          "base_uri": "https://localhost:8080/"
        },
        "id": "ZF43Ag3rlccv",
        "outputId": "b44d3d24-f88e-40ad-85e1-fde276512789"
      },
      "execution_count": null,
      "outputs": [
        {
          "output_type": "stream",
          "name": "stdout",
          "text": [
            "0.9845678963707707 0.7565061829138158\n"
          ]
        }
      ]
    },
    {
      "cell_type": "markdown",
      "source": [
        "과대적합 상태 -> 결정트리의 특징에 따라 강하게 과적합된 것으로 보인다.\n",
        "\n",
        "결정트리의 경우, 각 노드가 1개의 특성을 기준으로 분기하기 때문에 각 특성의 범위 편차에 따른 왜곡이 없어 정규화 필요성이 없지만, 편의상 위에서 이미 만들어 놓은 train_poly_scaled를 이용할 것이다. ( 할 필요는 없지만, 해도 상관없음 )\n",
        "\n",
        "결정트리의 하이퍼파라미터 및 기본값은 다음과 같다.\n",
        "\n",
        "* criterion: str = \"gini\"\n",
        "* splitter: str = \"best\"\n",
        "* max_depth: Any | None = None\n",
        "* min_samples_split: int = 2\n",
        "* min_samples_leaf: int = 1\n",
        "* min_weight_fraction_leaf: float = 0\n",
        "* max_features: Any | None = None\n",
        "* random_state: Any | None = None\n",
        "* max_leaf_nodes: Any | None = None\n",
        "* min_impurity_decrease: float = 0\n",
        "* class_weight: Any | None = None\n",
        "* ccp_alpha: float = 0) -> None\n",
        "\n",
        "결정트리의 과대적합을 완화해주기 위해선\n",
        "\n",
        "먼저 트리가 너무 깊게 분할하지 못하도록 하이퍼파라미터를 조정할 필요가 있다.\n",
        "\n",
        "max_depth, min_samples_split, max_features, min_samples_leaf, criterion, min_impurity_decrease을 조정할 것이다.\n",
        "\n",
        "* max_depth ->  최대 깊이를 제한하여 과대적합을 방지한다.\n",
        "\n",
        "* min_samples_split -> 각 노드에 분할하기 위한 최소 샘플수를 설정한다. ( 이 값이 높을 수록 분할을 위한 최소샘플이 많이 필요해지며, 결과적으로 과도하게 깊어지는 것을 방지한다. )\n",
        "\n",
        "* max_features -> 각 노드에서 사용할 최대 특성의 수를 제한한다. auto(-> 현재 \"sqrt\"로 바뀜)로 할 경우, 랜덤포레스트에서처럼 각 노드에서의 특성수가 제한되어 각 특성이 골고루 중요성을 나눠갖게 된다.\n",
        "\n",
        "* min_samples_leaf -> 분할될 때 왼쪽 오른쪽 리프노드에서 가져야할 최소 샘플 데이터 수 -> min_samples_split과 비슷하지만, 이쪽은 한쪽 노드로 샘플이 극단적으로 몰아질 경우에도 분할하지 않는다는 특징이 있다.\n",
        "\n",
        "* crierion => 제곱을 이용하여 불순도를 계산하는 지니불순도와 제곱근을 이용하여 불순도를 계산하는 엔트로피불순도를 선택하는 파라미터로, 일반적으로 지니불순도보다 엔트로피불순도가 성능이 좋다고 알려져있지만, 연산이 더 오래걸린다.\n",
        "\n",
        "* min_impurity_decrease => 최소불순도를 조절하여, 노드가 분할하기 위한 불순도 최소량을 지정함"
      ],
      "metadata": {
        "id": "-YrZ54ayoI0l"
      }
    },
    {
      "cell_type": "markdown",
      "source": [
        "-------------------------\n",
        "\n",
        "변경할 파라미터가 많기 때문에 그리드서치를 사용하여 하이퍼파라미터튜닝을 해줄 예정이다.\n",
        "\n",
        "먼저 GridSearchCV는 자체적으로 교차검증을 지원하기 때문에 따로 scross_validate를 사용할 필요가 없다.\n",
        "\n",
        "범위 선정 기준은 -> 기본적으로 특성의 기본값이 가장 범용적인 성능을 가져온다고 알고 있기 때문에, 기본값을 기준으로 위아래로 일정 범주를 설정했다.\n",
        "\n",
        "단, 기본값이 없는 경우, 구글링을 통해 일반적인 수치를 파악한 뒤 범주화했다."
      ],
      "metadata": {
        "id": "XFPQFXrR59iQ"
      }
    },
    {
      "cell_type": "code",
      "source": [
        "from sklearn.tree import DecisionTreeClassifier\n",
        "from sklearn.model_selection import GridSearchCV\n",
        "import numpy as np\n",
        "\n",
        "params = {\n",
        "    'max_depth':np.arange(1,20,1),\n",
        "    'min_samples_split':np.arange(2,11,1),\n",
        "    'min_samples_leaf':np.arange(1,11,1),\n",
        "    'criterion':['gini','entropy'],\n",
        "    'min_impurity_decrease':np.arange(0.0001,0.001,0.0001)\n",
        "}\n",
        "\n",
        "# 데이터가 많지 않기 때문에 cv=10으로 10 fold 교차검증으로 설정하여 -> 훈련데이터를 그나마 늘려준다.\n",
        "# max_features를 auto로 설정하여, 특성공학으로 늘린 특성들의 중요도를 그나마 평균화시켜준다.\n",
        "gs = GridSearchCV(DecisionTreeClassifier(random_state=201733922, max_features='sqrt'),param_grid=params,cv = 10, n_jobs=-1, error_score='raise')\n",
        "\n",
        "gs.fit(train_poly_scaled,train_target)\n",
        "print(gs.best_params_)\n",
        "print(np.max(gs.cv_results_['mean_test_score']))\n"
      ],
      "metadata": {
        "colab": {
          "base_uri": "https://localhost:8080/"
        },
        "id": "oqPe4RRH59GZ",
        "outputId": "47a12e0f-c8c2-4561-cecd-e3ac194b4672"
      },
      "execution_count": null,
      "outputs": [
        {
          "output_type": "stream",
          "name": "stdout",
          "text": [
            "{'criterion': 'entropy', 'max_depth': 6, 'min_impurity_decrease': 0.0006000000000000001, 'min_samples_leaf': 1, 'min_samples_split': 4}\n",
            "0.8361548064918851\n"
          ]
        }
      ]
    },
    {
      "cell_type": "markdown",
      "source": [
        "해당 파라미터로 학습 및 평가"
      ],
      "metadata": {
        "id": "7G_Y6HEKfth5"
      }
    },
    {
      "cell_type": "code",
      "source": [
        "gs_dt = gs.best_estimator_\n",
        "\n",
        "print(gs_dt.score(train_poly_scaled,train_target), gs_dt.score(test_poly_scaled,test_target))\n"
      ],
      "metadata": {
        "colab": {
          "base_uri": "https://localhost:8080/"
        },
        "id": "2FQ5iW3pfty8",
        "outputId": "6772e03b-b854-4b18-a383-28bc33625fd6"
      },
      "execution_count": null,
      "outputs": [
        {
          "output_type": "stream",
          "name": "stdout",
          "text": [
            "0.8653198653198653 0.8397129186602871\n"
          ]
        }
      ]
    },
    {
      "cell_type": "markdown",
      "source": [
        "과대적합 문제가 해소되었고 약 84%의 정확도를 보임\n",
        "\n",
        "그러나 아래와 같이 특성 중요도를 살펴보면, 중요하게 사용되는 특성은 얼마되지 않는 것처럼 보임"
      ],
      "metadata": {
        "id": "H4O6Ha8luvw3"
      }
    },
    {
      "cell_type": "code",
      "source": [
        "print(gs_dt.feature_importances_)"
      ],
      "metadata": {
        "colab": {
          "base_uri": "https://localhost:8080/"
        },
        "id": "hIV7ouzd0VlZ",
        "outputId": "3e2b4302-5f16-4d7c-a05d-f29a0ba8bf15"
      },
      "execution_count": null,
      "outputs": [
        {
          "output_type": "stream",
          "name": "stdout",
          "text": [
            "[0.         0.03422146 0.         0.         0.03426938 0.\n",
            " 0.04693257 0.         0.         0.         0.         0.\n",
            " 0.01172881 0.         0.         0.03824268 0.         0.\n",
            " 0.         0.         0.00323331 0.         0.         0.\n",
            " 0.         0.         0.         0.         0.         0.\n",
            " 0.         0.         0.         0.02867231 0.         0.\n",
            " 0.         0.         0.         0.         0.         0.00686962\n",
            " 0.         0.         0.         0.03972524 0.         0.01396077\n",
            " 0.         0.         0.         0.         0.         0.\n",
            " 0.         0.         0.         0.         0.00178751 0.\n",
            " 0.00477684 0.         0.         0.         0.13792682 0.00933044\n",
            " 0.         0.         0.         0.         0.         0.\n",
            " 0.00323331 0.         0.         0.03230932 0.         0.\n",
            " 0.00256479 0.         0.00576461 0.         0.         0.\n",
            " 0.         0.01047798 0.02528511 0.         0.         0.\n",
            " 0.         0.         0.         0.         0.         0.\n",
            " 0.         0.         0.         0.         0.         0.\n",
            " 0.         0.         0.         0.         0.         0.\n",
            " 0.4190104  0.         0.00375618 0.         0.         0.\n",
            " 0.         0.         0.         0.         0.         0.\n",
            " 0.         0.         0.         0.         0.         0.\n",
            " 0.         0.         0.         0.         0.         0.\n",
            " 0.         0.         0.         0.         0.         0.\n",
            " 0.00789374 0.00842651 0.         0.         0.01098902 0.\n",
            " 0.00702853 0.00864228 0.         0.         0.         0.\n",
            " 0.         0.01295731 0.         0.         0.00314091 0.00745113\n",
            " 0.         0.         0.         0.         0.         0.\n",
            " 0.         0.         0.         0.         0.         0.\n",
            " 0.         0.         0.         0.         0.         0.\n",
            " 0.         0.         0.         0.         0.         0.\n",
            " 0.         0.         0.         0.         0.         0.\n",
            " 0.         0.         0.         0.         0.         0.\n",
            " 0.         0.         0.         0.         0.         0.\n",
            " 0.         0.         0.         0.01200215 0.         0.\n",
            " 0.00738896 0.         0.         0.         0.         0.\n",
            " 0.         0.         0.         0.         0.         0.\n",
            " 0.         0.         0.         0.        ]\n"
          ]
        }
      ]
    },
    {
      "cell_type": "markdown",
      "source": [
        "# 랜덤포레스트"
      ],
      "metadata": {
        "id": "OzY_3vJM4N_Q"
      }
    },
    {
      "cell_type": "markdown",
      "source": [
        "특성 공학을 통해 특성 늘리기"
      ],
      "metadata": {
        "id": "3LJPHM21-Fko"
      }
    },
    {
      "cell_type": "code",
      "source": [
        "# 온 힛 인코딩을 한 직후의 데이터 ( 정규화 이전 )\n",
        "train_input_h_1 = train_input_h\n",
        "test_input_h_1 = test_input_h\n",
        "\n",
        "# 특성공학을 통해 특성 늘리기\n",
        "from sklearn.preprocessing import PolynomialFeatures\n",
        "\n",
        "poly = PolynomialFeatures(degree = 3)\n",
        "poly.fit(train_input_h_1)\n",
        "\n",
        "train_poly = poly.transform(train_input_h_1)\n",
        "test_poly = poly.transform(test_input_h_1)\n",
        "\n",
        "# 정규화\n",
        "from sklearn.preprocessing import StandardScaler\n",
        "\n",
        "ss = StandardScaler()\n",
        "ss.fit(train_poly)\n",
        "\n",
        "train_poly_scaled = ss.transform(train_poly)\n",
        "test_poly_scaled = ss.transform(test_poly)"
      ],
      "metadata": {
        "id": "53qUwVK3-KbE"
      },
      "execution_count": null,
      "outputs": []
    },
    {
      "cell_type": "code",
      "source": [
        "#기본 랜덤포레스트\n",
        "from sklearn.ensemble import RandomForestClassifier\n",
        "from sklearn.model_selection import cross_validate\n",
        "import numpy as np\n",
        "\n",
        "rf = RandomForestClassifier(random_state=201733922,n_jobs=-1,oob_score=True,)\n",
        "scores = cross_validate(rf,train_poly_scaled,train_target,return_train_score=True,n_jobs=-1)\n",
        "\n",
        "print(np.mean(scores['train_score']) , np.mean(scores['test_score']))\n",
        "rf.fit(train_poly_scaled,train_target)\n"
      ],
      "metadata": {
        "colab": {
          "base_uri": "https://localhost:8080/",
          "height": 92
        },
        "id": "aQAwYo8VyRR6",
        "outputId": "4389acd8-37e5-4caa-b179-ec842ba884a3"
      },
      "execution_count": null,
      "outputs": [
        {
          "output_type": "stream",
          "name": "stdout",
          "text": [
            "0.9845678963707707 0.8126169104262131\n"
          ]
        },
        {
          "output_type": "execute_result",
          "data": {
            "text/plain": [
              "RandomForestClassifier(n_jobs=-1, oob_score=True, random_state=201733922)"
            ],
            "text/html": [
              "<style>#sk-container-id-1 {color: black;background-color: white;}#sk-container-id-1 pre{padding: 0;}#sk-container-id-1 div.sk-toggleable {background-color: white;}#sk-container-id-1 label.sk-toggleable__label {cursor: pointer;display: block;width: 100%;margin-bottom: 0;padding: 0.3em;box-sizing: border-box;text-align: center;}#sk-container-id-1 label.sk-toggleable__label-arrow:before {content: \"▸\";float: left;margin-right: 0.25em;color: #696969;}#sk-container-id-1 label.sk-toggleable__label-arrow:hover:before {color: black;}#sk-container-id-1 div.sk-estimator:hover label.sk-toggleable__label-arrow:before {color: black;}#sk-container-id-1 div.sk-toggleable__content {max-height: 0;max-width: 0;overflow: hidden;text-align: left;background-color: #f0f8ff;}#sk-container-id-1 div.sk-toggleable__content pre {margin: 0.2em;color: black;border-radius: 0.25em;background-color: #f0f8ff;}#sk-container-id-1 input.sk-toggleable__control:checked~div.sk-toggleable__content {max-height: 200px;max-width: 100%;overflow: auto;}#sk-container-id-1 input.sk-toggleable__control:checked~label.sk-toggleable__label-arrow:before {content: \"▾\";}#sk-container-id-1 div.sk-estimator input.sk-toggleable__control:checked~label.sk-toggleable__label {background-color: #d4ebff;}#sk-container-id-1 div.sk-label input.sk-toggleable__control:checked~label.sk-toggleable__label {background-color: #d4ebff;}#sk-container-id-1 input.sk-hidden--visually {border: 0;clip: rect(1px 1px 1px 1px);clip: rect(1px, 1px, 1px, 1px);height: 1px;margin: -1px;overflow: hidden;padding: 0;position: absolute;width: 1px;}#sk-container-id-1 div.sk-estimator {font-family: monospace;background-color: #f0f8ff;border: 1px dotted black;border-radius: 0.25em;box-sizing: border-box;margin-bottom: 0.5em;}#sk-container-id-1 div.sk-estimator:hover {background-color: #d4ebff;}#sk-container-id-1 div.sk-parallel-item::after {content: \"\";width: 100%;border-bottom: 1px solid gray;flex-grow: 1;}#sk-container-id-1 div.sk-label:hover label.sk-toggleable__label {background-color: #d4ebff;}#sk-container-id-1 div.sk-serial::before {content: \"\";position: absolute;border-left: 1px solid gray;box-sizing: border-box;top: 0;bottom: 0;left: 50%;z-index: 0;}#sk-container-id-1 div.sk-serial {display: flex;flex-direction: column;align-items: center;background-color: white;padding-right: 0.2em;padding-left: 0.2em;position: relative;}#sk-container-id-1 div.sk-item {position: relative;z-index: 1;}#sk-container-id-1 div.sk-parallel {display: flex;align-items: stretch;justify-content: center;background-color: white;position: relative;}#sk-container-id-1 div.sk-item::before, #sk-container-id-1 div.sk-parallel-item::before {content: \"\";position: absolute;border-left: 1px solid gray;box-sizing: border-box;top: 0;bottom: 0;left: 50%;z-index: -1;}#sk-container-id-1 div.sk-parallel-item {display: flex;flex-direction: column;z-index: 1;position: relative;background-color: white;}#sk-container-id-1 div.sk-parallel-item:first-child::after {align-self: flex-end;width: 50%;}#sk-container-id-1 div.sk-parallel-item:last-child::after {align-self: flex-start;width: 50%;}#sk-container-id-1 div.sk-parallel-item:only-child::after {width: 0;}#sk-container-id-1 div.sk-dashed-wrapped {border: 1px dashed gray;margin: 0 0.4em 0.5em 0.4em;box-sizing: border-box;padding-bottom: 0.4em;background-color: white;}#sk-container-id-1 div.sk-label label {font-family: monospace;font-weight: bold;display: inline-block;line-height: 1.2em;}#sk-container-id-1 div.sk-label-container {text-align: center;}#sk-container-id-1 div.sk-container {/* jupyter's `normalize.less` sets `[hidden] { display: none; }` but bootstrap.min.css set `[hidden] { display: none !important; }` so we also need the `!important` here to be able to override the default hidden behavior on the sphinx rendered scikit-learn.org. See: https://github.com/scikit-learn/scikit-learn/issues/21755 */display: inline-block !important;position: relative;}#sk-container-id-1 div.sk-text-repr-fallback {display: none;}</style><div id=\"sk-container-id-1\" class=\"sk-top-container\"><div class=\"sk-text-repr-fallback\"><pre>RandomForestClassifier(n_jobs=-1, oob_score=True, random_state=201733922)</pre><b>In a Jupyter environment, please rerun this cell to show the HTML representation or trust the notebook. <br />On GitHub, the HTML representation is unable to render, please try loading this page with nbviewer.org.</b></div><div class=\"sk-container\" hidden><div class=\"sk-item\"><div class=\"sk-estimator sk-toggleable\"><input class=\"sk-toggleable__control sk-hidden--visually\" id=\"sk-estimator-id-1\" type=\"checkbox\" checked><label for=\"sk-estimator-id-1\" class=\"sk-toggleable__label sk-toggleable__label-arrow\">RandomForestClassifier</label><div class=\"sk-toggleable__content\"><pre>RandomForestClassifier(n_jobs=-1, oob_score=True, random_state=201733922)</pre></div></div></div></div></div>"
            ]
          },
          "metadata": {},
          "execution_count": 12
        }
      ]
    },
    {
      "cell_type": "markdown",
      "source": [
        "과대적합 상태\n",
        "\n",
        "기본 설정만으로도 81% 정도의 적중률을 보여주고 있음\n",
        "\n",
        "아래의 특성 중요도를 위의 결정트리와 비교해보면,\n",
        "\n",
        "더 많은 특성에 훈련기여를 부여하는 것으로 특성 중요도를 골고루 분배하는 랜덤포레스트의 특징을 볼 수 있음"
      ],
      "metadata": {
        "id": "NRZEKPJ90tQE"
      }
    },
    {
      "cell_type": "code",
      "source": [
        "print(rf.feature_importances_)"
      ],
      "metadata": {
        "colab": {
          "base_uri": "https://localhost:8080/"
        },
        "id": "CwpCIj6T0-ZE",
        "outputId": "edff5897-5abe-4de4-d5d8-16f8237b6ecd"
      },
      "execution_count": null,
      "outputs": [
        {
          "output_type": "stream",
          "name": "stdout",
          "text": [
            "[0.00000000e+00 8.05068129e-03 5.25955470e-03 1.62706802e-02\n",
            " 2.57154593e-03 1.17775261e-03 2.03787056e-02 5.45443144e-04\n",
            " 1.56991547e-04 2.66480307e-04 7.03475123e-03 2.24094533e-02\n",
            " 1.90777580e-02 2.82018578e-03 1.52089695e-03 1.53409360e-02\n",
            " 1.13929119e-03 1.82078628e-04 5.38064890e-03 1.78821318e-02\n",
            " 1.93172657e-02 2.32309095e-03 2.84101152e-04 2.17299263e-02\n",
            " 2.60574719e-03 0.00000000e+00 2.65462068e-03 1.82227628e-02\n",
            " 3.11343469e-03 2.01633265e-03 2.08010765e-02 2.88438840e-03\n",
            " 1.37702037e-03 1.04774754e-02 1.54259302e-03 1.30767564e-03\n",
            " 4.04000631e-03 7.44047681e-04 2.88074587e-04 1.79007671e-03\n",
            " 6.20847301e-04 2.30971515e-03 4.23965042e-04 4.15213484e-04\n",
            " 5.96984331e-04 1.65302298e-02 4.08936755e-03 8.46728321e-04\n",
            " 9.51189088e-03 5.04958484e-04 0.00000000e+00 0.00000000e+00\n",
            " 1.57074376e-04 0.00000000e+00 2.59587623e-04 7.04326278e-03\n",
            " 2.39410237e-02 2.29666982e-02 4.16395041e-03 4.43469527e-03\n",
            " 1.42947348e-02 7.24518820e-04 5.77710931e-05 8.97714971e-03\n",
            " 2.07442474e-02 3.26964082e-02 1.46778879e-03 1.75663729e-03\n",
            " 9.63722734e-03 2.20187730e-03 2.35960410e-04 6.62826572e-03\n",
            " 1.89569835e-02 4.27074826e-03 4.17075518e-03 2.10073889e-02\n",
            " 3.24704867e-03 1.29325273e-03 1.66473672e-02 3.86282154e-03\n",
            " 2.09350949e-03 4.53873857e-03 1.00965947e-03 2.75150514e-04\n",
            " 3.72984023e-03 2.30875871e-03 3.55544228e-03 1.05532229e-03\n",
            " 1.93286776e-04 1.64749084e-03 1.61013901e-02 4.29635402e-03\n",
            " 9.70429354e-04 9.08298309e-03 1.14384877e-03 0.00000000e+00\n",
            " 0.00000000e+00 1.64364032e-04 0.00000000e+00 6.05235071e-03\n",
            " 4.10381160e-03 2.85625840e-02 5.06522553e-04 7.45645261e-04\n",
            " 2.25428308e-02 4.84930839e-04 2.99384177e-05 5.00268207e-03\n",
            " 1.88245396e-02 1.84496585e-03 1.19198751e-03 4.08224240e-02\n",
            " 1.26182859e-03 4.87987672e-04 2.53410678e-03 4.29536903e-04\n",
            " 8.24519108e-04 1.42171093e-03 1.32625110e-05 1.27877601e-06\n",
            " 5.17649749e-04 8.37518081e-04 9.34153212e-04 0.00000000e+00\n",
            " 9.60674590e-05 2.70416898e-04 3.14750193e-02 3.08839632e-03\n",
            " 4.07382685e-04 6.85316587e-03 2.61977034e-03 0.00000000e+00\n",
            " 0.00000000e+00 8.74021988e-04 0.00000000e+00 2.24530708e-03\n",
            " 1.57851937e-02 2.97408507e-03 2.60894513e-03 1.68941760e-02\n",
            " 3.07591317e-03 1.22005724e-03 1.10241452e-02 6.50748342e-03\n",
            " 1.64443842e-03 4.19971548e-03 1.24517419e-03 8.17447932e-04\n",
            " 3.27662190e-03 1.77898990e-03 2.66595833e-03 1.02872976e-03\n",
            " 3.35337735e-04 1.63374276e-03 2.27968053e-02 5.68038890e-03\n",
            " 9.86749099e-04 1.46598461e-02 2.39760580e-03 0.00000000e+00\n",
            " 0.00000000e+00 1.15420749e-03 0.00000000e+00 1.01183689e-02\n",
            " 1.08331908e-03 2.41931413e-03 4.13763146e-03 2.94795808e-04\n",
            " 2.17948009e-04 9.77379357e-04 1.74895117e-03 1.66287302e-03\n",
            " 3.94905630e-04 2.01348484e-04 2.47130179e-03 3.68119084e-03\n",
            " 1.45875168e-03 2.85541951e-04 3.34537119e-03 2.29044366e-05\n",
            " 0.00000000e+00 0.00000000e+00 1.61094752e-04 0.00000000e+00\n",
            " 1.25727866e-03 1.01452508e-03 2.23868106e-03 7.29578925e-04\n",
            " 3.08407107e-04 7.08450330e-04 1.83914624e-03 1.79405151e-03\n",
            " 6.64331132e-04 1.74089864e-03 6.94935959e-04 0.00000000e+00\n",
            " 0.00000000e+00 1.59907596e-04 0.00000000e+00 1.22578421e-03\n",
            " 1.68516627e-02 6.07517616e-03 1.17858763e-03 8.42600091e-03\n",
            " 4.17842433e-03 0.00000000e+00 0.00000000e+00 8.37113466e-04\n",
            " 0.00000000e+00 9.34795797e-03 3.83801250e-04 0.00000000e+00\n",
            " 0.00000000e+00 0.00000000e+00 0.00000000e+00 0.00000000e+00\n",
            " 2.18604679e-04 0.00000000e+00 0.00000000e+00 2.96233515e-04]\n"
          ]
        }
      ]
    },
    {
      "cell_type": "markdown",
      "source": [
        "랜덤포레스트의 OOB 점수를 뽑아보면, 위의 검증데이터 적중률과 거의 일치함"
      ],
      "metadata": {
        "id": "2IX-Jjn41gaO"
      }
    },
    {
      "cell_type": "code",
      "source": [
        "print(rf.oob_score_)"
      ],
      "metadata": {
        "colab": {
          "base_uri": "https://localhost:8080/"
        },
        "id": "EknKk9n61o79",
        "outputId": "cb736d44-7800-4b79-bd27-882fbe2bea67"
      },
      "execution_count": null,
      "outputs": [
        {
          "output_type": "stream",
          "name": "stdout",
          "text": [
            "0.8125701459034792\n"
          ]
        }
      ]
    },
    {
      "cell_type": "markdown",
      "source": [
        "랜덤포레스트의 하이퍼파라미터와 각 기본값은 아래와 같다.\n",
        "\n",
        "* n_estimators: int = 100,\n",
        "* criterion: str = \"gini\"\n",
        "* max_depth: Any | None = None\n",
        "* min_samples_split: int = 2\n",
        "* min_samples_leaf: int = 1\n",
        "* min_weight_fraction_leaf: float = 0\n",
        "* max_features: str = \"sqrt\"\n",
        "* max_leaf_nodes: Any | None = None\n",
        "* min_impurity_decrease: float = 0\n",
        "* bootstrap: bool = True\n",
        "* oob_score: bool = False\n",
        "* n_jobs: Any | None = None\n",
        "* random_state: Any | None = None\n",
        "* verbose: int = 0\n",
        "* warm_start: bool = False\n",
        "* class_weight: Any | None = None\n",
        "* ccp_alpha: float = 0\n",
        "* max_samples: Any | None = None\n",
        "\n",
        "----------------\n",
        "\n",
        "일단 과대적합 문제를 해결해야 하며, 가능하면 87% 에 근접한 정확도를 만들기 위해 하이퍼 파라미터를 조정할 것이다.\n",
        "\n",
        "여기서는 n_estimators, criterion, max_depth, min_samples_split, min_samples_leaf, min_impurity_decrease, max_leaf_nodes 의 하이퍼파라미터를 조정할 것이다.\n",
        "\n",
        "n_estimators의 경우, 트리의 개수를 증가시키므로, 성능을 향상시키지만, 필요한 연산이 늘어나고( 시간이 오래걸림 ) 일정량 이상에서부터는 향상의 폭이 적어지므로, 적절한 값을 찾아야한다.\n",
        "\n",
        "criterion의 경우 결정트리와 동일하게 불순도 계산에 의한 것인데, 일반적으로는 지니불순도가 유리하지만, 엔트로피 불순도가 유리한 경우가 분명히 있기 때문에 직접 해봐야한다.\n",
        "\n",
        "max_depth의 경우, 증가할수록 트리가 깊어지기 때문에 더 많은 패턴을 잡아낼 수 있지만, 그만큼 과적합될 수 있으므로, 어느정도 제한해야한다.\n",
        "\n",
        "이외의 min_samples_split, min_samples_leaf, min_impurity_decrease 하이퍼파라미터는 노드의 생성에 대한 제약을 늘려주는 파라미터들로 일반적으로 값이 커질수록 노드에 가해지는 제약이 증가하여 노드가 적게 생성되며, 결과적으로 모델의 단순성을 증가시키고, 일부 정보의 손실을 발생시키지만, 그만큼 노이즈가 적어지고 과대적합에서 멀어질 수 있다.\n",
        "\n",
        "* min_samples_split : 노드 분할을 위한 최소 샘플 수\n",
        "* min_samples_leaf : 리프노드가 가져야할 최소 샘플 수 ( 만족하지 않으면 분할하지 않음 )\n",
        "* min_impurity_decrease : 노드 분할을 위한 최소 불순도 ( 트리는 불순도를 감소시키는 방향으로 뻗어나감 -> 불순도가 지정한 양보다 적은 비율로 감소한다면 노드를 분할하지 않음 )\n",
        "\n",
        "------------------\n",
        "\n",
        "위와 같은 이유들을 근거로 해당 하이퍼파리미터들을 기준으로 그리드서치를 실행할 것입니다.\n",
        "\n",
        "------------\n",
        "\n",
        "n_estimators -> 연산속도에 직접적인 영향이 있는 파라미터이면서 대략적인 양만 충족하면 되므로 -> 범위를 범주화하고, 20씩 건너뛰게 설정\n",
        "\n",
        "max_depth -> 노드의 깊이에 대한 부분이므로 꼼꼼히 짚어야함,\n",
        "따라서 3 ~ 20 의 범위에서 1씩 증가하도록 설정\n",
        "\n",
        "min_samples_split,min_samples_leaf -> 경험적으로 확인해야하는 노드이지만, 최소값이기 때문에 10을 벗어나면 안된다고 생각함\n",
        "따라서 2 ~ 10 범위에서 1씩 증가하도록 설정\n",
        "\n",
        "min_impurity_decrease -> 불순도감소량이라는 감소량과 관련된 수치이기 때문에 아주 작은 양부터 천천히 올려야함 ( 올리는 이유는 제약을 늘려서 과대적합에서 벗어나기 위해서 ) 0.0001에서 0.001까지 0.0001씩 올라가도록 설정\n",
        "\n",
        "\n",
        "\n"
      ],
      "metadata": {
        "id": "pxQbrFBB2JQR"
      }
    },
    {
      "cell_type": "code",
      "source": [
        "from sklearn.model_selection import GridSearchCV\n",
        "from sklearn.ensemble import RandomForestClassifier\n",
        "import numpy as np\n",
        "\n",
        "params = {\n",
        "    'n_estimators': np.arange(50,200,20),\n",
        "    'criterion':['gini','entropy'],\n",
        "    'max_depth': np.arange(3,20,1),\n",
        "    'min_samples_split': np.arange(2,11,1),\n",
        "    'min_samples_leaf': np.arange(1,11,1),\n",
        "    'min_impurity_decrease': np.arange(0.0001,0.0011,0.0001)\n",
        "}\n",
        "\n",
        "gs = GridSearchCV(RandomForestClassifier(random_state=201733922,n_jobs=-1,oob_score = True),params,n_jobs=-1)\n",
        "\n",
        "gs.fit(train_poly_scaled,train_target)\n",
        "\n",
        "print(gs.best_params_)\n",
        "print(np.max(gs.cv_results_['mean_test_score']))\n"
      ],
      "metadata": {
        "id": "ykOneIAd_gJ5"
      },
      "execution_count": null,
      "outputs": []
    },
    {
      "cell_type": "markdown",
      "source": [
        "이 상태로 훈련을 하려고 했는데, 너무 오래 걸려서, 영향이 적을것으로 예상되는 하이퍼파라미터를 몇개 빼기로 함\n",
        "\n",
        "( 1초에 한개의 모델이 나온다고 했을 때, 68시간 걸림 )"
      ],
      "metadata": {
        "id": "7aNXOcX4xzvL"
      }
    },
    {
      "cell_type": "code",
      "source": [
        "from sklearn.model_selection import GridSearchCV\n",
        "from sklearn.ensemble import RandomForestClassifier\n",
        "import numpy as np\n",
        "\n",
        "params = {\n",
        "    'n_estimators': np.arange(50,200,20),\n",
        "    'criterion':['gini','entropy'],\n",
        "    'max_depth': np.arange(3,20,1),\n",
        "    'min_impurity_decrease': np.arange(0.0001,0.0011,0.0001)\n",
        "}\n",
        "\n",
        "gs = GridSearchCV(RandomForestClassifier(random_state=201733922,n_jobs=-1,oob_score = True),params,n_jobs=-1)\n",
        "\n",
        "gs.fit(train_poly_scaled,train_target)\n",
        "\n",
        "print(gs.best_params_)\n",
        "print(np.max(gs.cv_results_['mean_test_score']))\n",
        "\n",
        "# 결과값 - 훈련시간이 너무 오래 걸려서 미리 기록 (1시간 30분 걸림)\n",
        "# {'criterion': 'gini', 'max_depth': 7, 'min_impurity_decrease': 0.0005, 'n_estimators': 70}\n",
        "# 0.8417613458037788"
      ],
      "metadata": {
        "colab": {
          "base_uri": "https://localhost:8080/"
        },
        "id": "9OrApjKPyBsp",
        "outputId": "5de610d7-51c1-4fee-c32b-b0beb36d23fb"
      },
      "execution_count": null,
      "outputs": [
        {
          "output_type": "stream",
          "name": "stdout",
          "text": [
            "{'criterion': 'gini', 'max_depth': 7, 'min_impurity_decrease': 0.0005, 'n_estimators': 70}\n",
            "0.8417613458037788\n"
          ]
        }
      ]
    },
    {
      "cell_type": "markdown",
      "source": [
        "튜닝한 하이퍼파라미터로 학습 및 확인"
      ],
      "metadata": {
        "id": "Of7j8mr8JsTH"
      }
    },
    {
      "cell_type": "code",
      "source": [
        "from sklearn.ensemble import RandomForestClassifier\n",
        "import numpy as np\n",
        "\n",
        "rf = RandomForestClassifier(random_state=201733922,n_jobs=-1,oob_score = True, criterion = 'gini',max_depth=7,min_impurity_decrease=0.0005,n_estimators=70)\n",
        "\n",
        "rf.fit(train_poly_scaled,train_target)\n",
        "\n",
        "print(rf.score(train_poly_scaled,train_target))\n",
        "print(rf.score(test_poly_scaled,test_target))"
      ],
      "metadata": {
        "colab": {
          "base_uri": "https://localhost:8080/"
        },
        "id": "P3YrlkpbKtmL",
        "outputId": "61544173-3828-40d7-8e84-a17b586db1a8"
      },
      "execution_count": null,
      "outputs": [
        {
          "output_type": "stream",
          "name": "stdout",
          "text": [
            "0.9046015712682379\n",
            "0.8803827751196173\n"
          ]
        }
      ]
    },
    {
      "cell_type": "markdown",
      "source": [
        "과대적합이 해결되었으며,\n",
        "\n",
        "test 세트에 대해 88%의 적중률을 보였다."
      ],
      "metadata": {
        "id": "QDfZYzQaLiAT"
      }
    },
    {
      "cell_type": "markdown",
      "source": [
        "# 히스토그램기반 그래디언트 부스팅"
      ],
      "metadata": {
        "id": "WxFmDVu-4PLg"
      }
    },
    {
      "cell_type": "markdown",
      "source": [
        "특성공학을 통해 특성 늘리기"
      ],
      "metadata": {
        "id": "FVDjXUrk-Oet"
      }
    },
    {
      "cell_type": "code",
      "source": [
        "# 온 힛 인코딩을 한 직후의 데이터 ( 정규화 이전 )\n",
        "train_input_h_1 = train_input_h\n",
        "test_input_h_1 = test_input_h\n",
        "\n",
        "# 특성공학을 통해 특성 늘리기\n",
        "from sklearn.preprocessing import PolynomialFeatures\n",
        "\n",
        "poly = PolynomialFeatures(degree = 3)\n",
        "poly.fit(train_input_h_1)\n",
        "\n",
        "train_poly = poly.transform(train_input_h_1)\n",
        "test_poly = poly.transform(test_input_h_1)\n",
        "\n",
        "# 정규화\n",
        "from sklearn.preprocessing import StandardScaler\n",
        "\n",
        "ss = StandardScaler()\n",
        "ss.fit(train_poly)\n",
        "\n",
        "train_poly_scaled = ss.transform(train_poly)\n",
        "test_poly_scaled = ss.transform(test_poly)"
      ],
      "metadata": {
        "id": "MwrAUf_e-Oz3"
      },
      "execution_count": 11,
      "outputs": []
    },
    {
      "cell_type": "code",
      "source": [
        "#기본 히스토그램기반 그래디언트 부스팅\n",
        "from sklearn.ensemble import HistGradientBoostingClassifier\n",
        "from sklearn.model_selection import cross_validate\n",
        "import numpy as np\n",
        "\n",
        "hg = HistGradientBoostingClassifier(random_state=201733922,)\n",
        "scores = cross_validate(hg,train_poly_scaled,train_target,return_train_score=True,n_jobs=-1)\n",
        "\n",
        "print(np.mean(scores['train_score']) , np.mean(scores['test_score']))"
      ],
      "metadata": {
        "colab": {
          "base_uri": "https://localhost:8080/"
        },
        "id": "8DLbUXInWWHg",
        "outputId": "097dcc93-2114-4ec6-f142-5bcf57179a70"
      },
      "execution_count": 10,
      "outputs": [
        {
          "output_type": "stream",
          "name": "stdout",
          "text": [
            "0.984006886553099 0.8069612704789403\n"
          ]
        }
      ]
    },
    {
      "cell_type": "markdown",
      "source": [
        "과대적합상태이며,\n",
        "\n",
        "기본 랜덤포레스트 모델와 비교해보았을 때, 정확도가 아주 약간 떨어진다.\n",
        "\n",
        "----------\n",
        "\n",
        "히스토그램기반 그래디언트 부스팅의 하이퍼파라미터 및 그 기본값은 다음과 같다.\n",
        "\n",
        "* loss: str = \"log_loss\"\n",
        "* learning_rate: float = 0.1\n",
        "* max_iter: int = 100\n",
        "* max_leaf_nodes: int = 31\n",
        "* max_depth: Any | None = None\n",
        "* min_samples_leaf: int = 20\n",
        "* l2_regularization: float = 0\n",
        "* max_bins: int = 255\n",
        "* categorical_features: Any | None = None\n",
        "* monotonic_cst: Any | None = None\n",
        "* interaction_cst: Any | None = None\n",
        "* warm_start: bool = False\n",
        "* early_stopping: str = \"auto\"\n",
        "* scoring: str = \"loss\"\n",
        "* validation_fraction: float = 0.1\n",
        "* n_iter_no_change: int = 10\n",
        "* tol: float = 1e-7\n",
        "* verbose: int = 0\n",
        "* random_state: Any | None = None\n",
        "* class_weight: Any | None = None\n",
        "\n",
        "---------------\n",
        "\n",
        "위의 하이퍼파라미터에서 learning_rate,max_iter, max_depth,l2_regularization, max_bins의 값을 변경하여 과대적합을 없애볼 것이다.\n",
        "\n",
        "learning_rate의 경우, 경사하강법과 유사하게 현재 학습의 가중치가 다음 학습의 가중치에 영향을 미치는 정도라고 볼 수 있으며, 이를 0.01에서 0.1 사이의 범위로 축소시켜 모델의 성능을 높일 것이다.\n",
        "\n",
        "max_iter의 경우, 몇번의 반복학습을 할 것인가를 정하는 것으로, 일정량까지는 성능이 크게 오르지만, 어느 순간부터 특정 성능에 수렴하기 때문에 적당히 70~ 130 사이를 20 간격으로 늘려나갈 예정이다.\n",
        "\n",
        "max_depth의 경우, 트리의 최대 깊이를 의미하는 것으로, 과대적합을 줄이기 위해서 3~11까지 1씩 증가시킬 예정이다. ( 데이터의 양이 적기 때문에 애초에 깊게 내려가지 못한다. )\n",
        "\n",
        "l2_regularization의 경우, l2 규제를 추가하는 것으로 과대적합을 낮추기 위하여 사용할 것이다. 어느정도의 영향을 미칠지 아직 모르기 때문에 (0.01,0.001)로 넣어볼 예정이다.\n",
        "\n",
        "max_bins의 경우, 특성을 분할하는 범위에 대한 내용으로 100에서 255 까지 20씩 증가시켜볼 것이다.\n",
        "\n",
        "-------------\n",
        "\n",
        "동시에 돌릴 경우 너무 오래 걸리기 때문에, 가장 범위가 넓은 max_bins를 빼놓고 나머지로 돌려보기로 함"
      ],
      "metadata": {
        "id": "LIUZ0ns-XTaE"
      }
    },
    {
      "cell_type": "code",
      "source": [
        "from sklearn.model_selection import GridSearchCV\n",
        "from sklearn.ensemble import HistGradientBoostingClassifier\n",
        "import numpy as np\n",
        "\n",
        "params = {\n",
        "    'learning_rate': np.arange(0.01,0.15,0.01),\n",
        "    'max_iter':[70,90,110,130],\n",
        "    'max_depth': np.arange(3,12,1),\n",
        "    'l2_regularization': [0.01,0.001],\n",
        "}\n",
        "\n",
        "gs = GridSearchCV(HistGradientBoostingClassifier(random_state=201733922),params,n_jobs=-1)\n",
        "\n",
        "gs.fit(train_poly_scaled,train_target)\n",
        "\n",
        "print(gs.best_params_)\n",
        "print(np.max(gs.cv_results_['mean_test_score']))\n",
        "\n",
        "# 너무 오래 걸리기 때문에, 출력값을 기록해놓았음\n",
        "# {'l2_regularization': 0.001, 'learning_rate': 0.060000000000000005, 'max_depth': 10, 'max_iter': 110}\n",
        "# 0.8372606867114432\n"
      ],
      "metadata": {
        "id": "2lyMw5f6n2qA",
        "colab": {
          "base_uri": "https://localhost:8080/"
        },
        "outputId": "b3b3f1b3-4d6b-47b6-e775-ddbbe8a40635"
      },
      "execution_count": 19,
      "outputs": [
        {
          "output_type": "stream",
          "name": "stdout",
          "text": [
            "{'l2_regularization': 0.001, 'learning_rate': 0.060000000000000005, 'max_depth': 10, 'max_iter': 110}\n",
            "0.8372606867114432\n"
          ]
        }
      ]
    },
    {
      "cell_type": "markdown",
      "source": [
        "하이퍼파라미터로 지정된 값을 기준으로 max_bins의 하이퍼파라미터를 확인\n"
      ],
      "metadata": {
        "id": "wZVFKQndP_gn"
      }
    },
    {
      "cell_type": "code",
      "source": [
        "from sklearn.model_selection import GridSearchCV\n",
        "from sklearn.ensemble import HistGradientBoostingClassifier\n",
        "import numpy as np\n",
        "\n",
        "params = {\n",
        "    'max_bins' : [150,170,190,210,230,250,255]\n",
        "}\n",
        "\n",
        "gs = GridSearchCV(HistGradientBoostingClassifier(random_state=201733922,learning_rate=0.06,max_iter=110,max_depth=10,l2_regularization=0.001),params,n_jobs=-1)\n",
        "\n",
        "gs.fit(train_poly_scaled,train_target)\n",
        "\n",
        "print(gs.best_params_)\n",
        "print(np.max(gs.cv_results_['mean_test_score']))\n"
      ],
      "metadata": {
        "colab": {
          "base_uri": "https://localhost:8080/"
        },
        "id": "xnoJmUQSIGT_",
        "outputId": "b6e57d76-96e5-44ff-ea7d-3f724cef536b"
      },
      "execution_count": 22,
      "outputs": [
        {
          "output_type": "stream",
          "name": "stdout",
          "text": [
            "{'max_bins': 255}\n",
            "0.8372606867114432\n"
          ]
        }
      ]
    },
    {
      "cell_type": "markdown",
      "source": [
        "max_bins은 기본값은 255에서 최대 정확도를 보였다.\n",
        "\n",
        "하이퍼파라미터 튜닝으로 최적화된 모델을 test세트에 평가해보았다."
      ],
      "metadata": {
        "id": "O-7obtdh_sd9"
      }
    },
    {
      "cell_type": "code",
      "source": [
        "hg = gs.best_estimator_\n",
        "\n",
        "print(hg.score(train_poly_scaled,train_target))\n",
        "print(hg.score(test_poly_scaled,test_target))"
      ],
      "metadata": {
        "id": "Y0eN-Vkw5MDT",
        "colab": {
          "base_uri": "https://localhost:8080/"
        },
        "outputId": "8d85f1a7-3549-4083-e361-235ac8587632"
      },
      "execution_count": 23,
      "outputs": [
        {
          "output_type": "stream",
          "name": "stdout",
          "text": [
            "0.941638608305275\n",
            "0.84688995215311\n"
          ]
        }
      ]
    },
    {
      "cell_type": "markdown",
      "source": [
        "정확도는 85%의 높은 수치를 보이지만, 약간 과대적합의 징후도 같이 보인다.\n",
        "\n",
        "과대적합을 줄이기 위해 min_samples_leaf 와 max_leaf_nodes를 조정해볼 것이다."
      ],
      "metadata": {
        "id": "kgZkOlvY8oiw"
      }
    },
    {
      "cell_type": "code",
      "source": [
        "from sklearn.model_selection import GridSearchCV\n",
        "from sklearn.ensemble import HistGradientBoostingClassifier\n",
        "import numpy as np\n",
        "\n",
        "params = {\n",
        "    'min_samples_leaf' : np.arange(20,40,1),\n",
        "    'max_leaf_nodes' : np.arange(20,32,1)\n",
        "}\n",
        "\n",
        "gs = GridSearchCV(HistGradientBoostingClassifier(random_state=201733922,learning_rate=0.06,max_iter=110,max_depth=10,l2_regularization=0.001),params,n_jobs=-1)\n",
        "\n",
        "gs.fit(train_poly_scaled,train_target)\n",
        "\n",
        "print(gs.best_params_)\n",
        "print(np.max(gs.cv_results_['mean_test_score']))"
      ],
      "metadata": {
        "colab": {
          "base_uri": "https://localhost:8080/"
        },
        "id": "DN6gCOUOcMic",
        "outputId": "8c618089-cc83-4bd2-fcf8-255bdd684e7c"
      },
      "execution_count": 24,
      "outputs": [
        {
          "output_type": "stream",
          "name": "stdout",
          "text": [
            "{'max_leaf_nodes': 21, 'min_samples_leaf': 21}\n",
            "0.8372606867114432\n"
          ]
        }
      ]
    },
    {
      "cell_type": "markdown",
      "source": [
        "두 하이퍼파라미터 모두 범위내에 최소값으로 설정된 것으로 보아 범위가 잘못된 것일수도 있다고 생각했다."
      ],
      "metadata": {
        "id": "BdFFLuxriax3"
      }
    },
    {
      "cell_type": "code",
      "source": [
        "from sklearn.model_selection import GridSearchCV\n",
        "from sklearn.ensemble import HistGradientBoostingClassifier\n",
        "import numpy as np\n",
        "\n",
        "params = {\n",
        "    'min_samples_leaf' : np.arange(10,30,1),\n",
        "    'max_leaf_nodes' : np.arange(5,30,1)\n",
        "}\n",
        "\n",
        "gs = GridSearchCV(HistGradientBoostingClassifier(random_state=201733922,learning_rate=0.06,max_iter=110,max_depth=10,l2_regularization=0.001),params,n_jobs=-1)\n",
        "\n",
        "gs.fit(train_poly_scaled,train_target)\n",
        "\n",
        "print(gs.best_params_)\n",
        "print(np.max(gs.cv_results_['mean_test_score']))"
      ],
      "metadata": {
        "colab": {
          "base_uri": "https://localhost:8080/"
        },
        "id": "m4c2_sfniU-f",
        "outputId": "e2af5009-ea73-4f14-bb15-abcf745c63bc"
      },
      "execution_count": 27,
      "outputs": [
        {
          "output_type": "stream",
          "name": "stdout",
          "text": [
            "{'max_leaf_nodes': 21, 'min_samples_leaf': 21}\n",
            "0.8372606867114432\n"
          ]
        }
      ]
    },
    {
      "cell_type": "markdown",
      "source": [
        "범위를 바꿔도 동일한 것으로 보아 범위 문제가 아니라, 해당 파라미터가 근본적인 원인이 아닌 듯 보인다.\n",
        "\n",
        "현재 하이퍼파라미터가 나름 적당선이라는 전제하에 각 파라미터의 변화추이를 모니터링 해봐야 할 것 같다."
      ],
      "metadata": {
        "id": "6B3OzzCEusXl"
      }
    },
    {
      "cell_type": "code",
      "source": [
        "import matplotlib.pyplot as plt\n",
        "from sklearn.ensemble import HistGradientBoostingClassifier\n",
        "import numpy as np\n",
        "from sklearn.model_selection import train_test_split\n",
        "\n",
        "# 과대적합을 확인하기 위해 검증세트를 나눔\n",
        "exm_input,val_input,exm_target,val_target = train_test_split(train_poly_scaled, train_target,test_size=0.2,random_state=201733922,stratify=train_target)\n",
        "\n",
        "learning_rate_param = np.arange(0.01,0.3,0.01)\n",
        "max_iter_param = np.arange(50,500,5)\n",
        "l2_regularization_param = np.arange(0.001,0.01,0.001)\n",
        "max_depth_param = np.arange(2,30,1)\n",
        "\n",
        "# learning_rate\n",
        "train_score = []\n",
        "val_score = []\n",
        "for x in learning_rate_param:\n",
        "  hgb = HistGradientBoostingClassifier(random_state=201733922,learning_rate=x,max_iter=110,max_depth=10,l2_regularization=0.001)\n",
        "  hgb.fit(exm_input,exm_target)\n",
        "\n",
        "  train_score.append(hgb.score(exm_input,exm_target))\n",
        "  val_score.append(hgb.score(val_input,val_target))\n",
        "\n",
        "plt.subplot(221)\n",
        "plt.title(\"learning_rate\")\n",
        "plt.xlabel(\"learning_rate\")\n",
        "plt.ylabel(\"score\")\n",
        "plt.plot(learning_rate_param,train_score)\n",
        "plt.plot(learning_rate_param,val_score)\n",
        "\n",
        "# max_iter\n",
        "train_score = []\n",
        "val_score = []\n",
        "for x in max_iter_param:\n",
        "  hgb = HistGradientBoostingClassifier(random_state=201733922,learning_rate=0.06,max_iter=x,max_depth=10,l2_regularization=0.001)\n",
        "  hgb.fit(exm_input,exm_target)\n",
        "\n",
        "  train_score.append(hgb.score(exm_input,exm_target))\n",
        "  val_score.append(hgb.score(val_input,val_target))\n",
        "\n",
        "plt.subplot(222)\n",
        "plt.title(\"max_iter\")\n",
        "plt.xlabel(\"max_iter\")\n",
        "plt.ylabel(\"score\")\n",
        "plt.plot(max_iter_param,train_score)\n",
        "plt.plot(max_iter_param,val_score)\n",
        "\n",
        "# l2_regularization\n",
        "train_score = []\n",
        "val_score = []\n",
        "for x in l2_regularization_param:\n",
        "  hgb = HistGradientBoostingClassifier(random_state=201733922,learning_rate=0.06,max_iter=110,max_depth=10,l2_regularization=x)\n",
        "  hgb.fit(exm_input,exm_target)\n",
        "\n",
        "  train_score.append(hgb.score(exm_input,exm_target))\n",
        "  val_score.append(hgb.score(val_input,val_target))\n",
        "\n",
        "plt.subplot(223)\n",
        "plt.title(\"l2_regularization\")\n",
        "plt.xlabel(\"l2_regularization\")\n",
        "plt.ylabel(\"score\")\n",
        "plt.plot(l2_regularization_param,train_score)\n",
        "plt.plot(l2_regularization_param,val_score)\n",
        "\n",
        "# max_depth\n",
        "train_score = []\n",
        "val_score = []\n",
        "for x in max_depth_param:\n",
        "  hgb = HistGradientBoostingClassifier(random_state=201733922,learning_rate=0.06,max_iter=110,max_depth=x,l2_regularization=0.001)\n",
        "  hgb.fit(exm_input,exm_target)\n",
        "\n",
        "  train_score.append(hgb.score(exm_input,exm_target))\n",
        "  val_score.append(hgb.score(val_input,val_target))\n",
        "\n",
        "plt.subplot(224)\n",
        "plt.title(\"max_depth\")\n",
        "plt.xlabel(\"max_depth\")\n",
        "plt.ylabel(\"score\")\n",
        "plt.plot(max_depth_param,train_score)\n",
        "plt.plot(max_depth_param,val_score)"
      ],
      "metadata": {
        "colab": {
          "base_uri": "https://localhost:8080/",
          "height": 489
        },
        "id": "oN9Wh25cvNQI",
        "outputId": "b52b98da-237d-4578-a652-cb709b89cdcc"
      },
      "execution_count": 16,
      "outputs": [
        {
          "output_type": "execute_result",
          "data": {
            "text/plain": [
              "[<matplotlib.lines.Line2D at 0x7a1a17f56230>]"
            ]
          },
          "metadata": {},
          "execution_count": 16
        },
        {
          "output_type": "display_data",
          "data": {
            "text/plain": [
              "<Figure size 640x480 with 4 Axes>"
            ],
            "image/png": "[encoded data removed]"
          },
          "metadata": {}
        }
      ]
    },
    {
      "cell_type": "markdown",
      "source": [
        "l2_regularization은 이 모델에서 과대적합과 크게 연관성이 없는 것으로 보임\n",
        "\n",
        "learning_rate, max_depth, max_iter 특성들은 범위의 값을 낮추는 것으로 새로운 규칙을 볼 수 있을 것으로 보임\n",
        "\n",
        "\n",
        "\n",
        "-----------\n",
        "\n",
        "위의 사실을 적용하여 범위를 하향 조정함\n"
      ],
      "metadata": {
        "id": "9DiIJdUoxy5y"
      }
    },
    {
      "cell_type": "code",
      "source": [
        "import matplotlib.pyplot as plt\n",
        "from sklearn.ensemble import HistGradientBoostingClassifier\n",
        "import numpy as np\n",
        "from sklearn.model_selection import train_test_split\n",
        "\n",
        "# 과대적합을 확인하기 위해 검증세트를 나눔\n",
        "exm_input,val_input,exm_target,val_target = train_test_split(train_poly_scaled, train_target,test_size=0.2,random_state=201733922,stratify=train_target)\n",
        "\n",
        "learning_rate_param = np.arange(0.001,0.05,0.005)\n",
        "max_iter_param = np.arange(5,100,5)\n",
        "max_depth_param = np.arange(2,10,1)\n",
        "\n",
        "# learning_rate\n",
        "train_score = []\n",
        "val_score = []\n",
        "for x in learning_rate_param:\n",
        "  hgb = HistGradientBoostingClassifier(random_state=201733922,learning_rate=x,max_iter=110,max_depth=10,l2_regularization=0.001)\n",
        "  hgb.fit(exm_input,exm_target)\n",
        "\n",
        "  train_score.append(hgb.score(exm_input,exm_target))\n",
        "  val_score.append(hgb.score(val_input,val_target))\n",
        "\n",
        "plt.subplot(221)\n",
        "plt.title(\"learning_rate\")\n",
        "plt.xlabel(\"learning_rate\")\n",
        "plt.ylabel(\"score\")\n",
        "plt.plot(learning_rate_param,train_score)\n",
        "plt.plot(learning_rate_param,val_score)\n",
        "\n",
        "# max_iter\n",
        "train_score = []\n",
        "val_score = []\n",
        "for x in max_iter_param:\n",
        "  hgb = HistGradientBoostingClassifier(random_state=201733922,learning_rate=0.06,max_iter=x,max_depth=10,l2_regularization=0.001)\n",
        "  hgb.fit(exm_input,exm_target)\n",
        "\n",
        "  train_score.append(hgb.score(exm_input,exm_target))\n",
        "  val_score.append(hgb.score(val_input,val_target))\n",
        "\n",
        "plt.subplot(222)\n",
        "plt.title(\"max_iter\")\n",
        "plt.xlabel(\"max_iter\")\n",
        "plt.ylabel(\"score\")\n",
        "plt.plot(max_iter_param,train_score)\n",
        "plt.plot(max_iter_param,val_score)\n",
        "\n",
        "# max_depth\n",
        "train_score = []\n",
        "val_score = []\n",
        "for x in max_depth_param:\n",
        "  hgb = HistGradientBoostingClassifier(random_state=201733922,learning_rate=0.06,max_iter=110,max_depth=x,l2_regularization=0.001)\n",
        "  hgb.fit(exm_input,exm_target)\n",
        "\n",
        "  train_score.append(hgb.score(exm_input,exm_target))\n",
        "  val_score.append(hgb.score(val_input,val_target))\n",
        "\n",
        "plt.subplot(224)\n",
        "plt.title(\"max_depth\")\n",
        "plt.xlabel(\"max_depth\")\n",
        "plt.ylabel(\"score\")\n",
        "plt.plot(max_depth_param,train_score)\n",
        "plt.plot(max_depth_param,val_score)"
      ],
      "metadata": {
        "colab": {
          "base_uri": "https://localhost:8080/",
          "height": 489
        },
        "id": "S48uBkHIwv9e",
        "outputId": "32b021e7-774e-4646-800f-f00a4f32c94e"
      },
      "execution_count": 17,
      "outputs": [
        {
          "output_type": "execute_result",
          "data": {
            "text/plain": [
              "[<matplotlib.lines.Line2D at 0x7a1a17b2c370>]"
            ]
          },
          "metadata": {},
          "execution_count": 17
        },
        {
          "output_type": "display_data",
          "data": {
            "text/plain": [
              "<Figure size 640x480 with 3 Axes>"
            ],
            "image/png": "[encoded data removed]"
          },
          "metadata": {}
        }
      ]
    },
    {
      "cell_type": "code",
      "source": [
        "from google.colab import drive\n",
        "drive.mount('/content/drive')"
      ],
      "metadata": {
        "id": "_-gVyUfG83oQ"
      },
      "execution_count": null,
      "outputs": []
    },
    {
      "cell_type": "markdown",
      "source": [
        "learning_rate(학습률)은 0.005 지점에서 과대적합이 가장 적음\n",
        "\n",
        "max_iter는 20 지점에서 과대적합이 가장 적음\n",
        "\n",
        "max_depth는 2 지점에서 과대적합이 가장 적음\n",
        "\n",
        "------\n",
        "\n",
        "--> 이중에서  max_iter가 20인 지점과 learning_rate가 0.025인 지점의 평가를 비교하여 더 높은 모델을 최종적으로 선택할 것이다."
      ],
      "metadata": {
        "id": "2yVGVuGK5wve"
      }
    },
    {
      "cell_type": "markdown",
      "source": [
        "learning_rate가 0.025인 모델을 통해 평가"
      ],
      "metadata": {
        "id": "T6-ltWda7dUe"
      }
    },
    {
      "cell_type": "code",
      "source": [
        "from sklearn.ensemble import HistGradientBoostingClassifier\n",
        "import numpy as np\n",
        "\n",
        "hgb = HistGradientBoostingClassifier(random_state=201733922,learning_rate=0.025,max_iter=110,max_depth=10,l2_regularization=0.001)\n",
        "\n",
        "hgb.fit(train_poly_scaled,train_target)\n",
        "\n",
        "print(hgb.score(train_poly_scaled,train_target))\n",
        "print(hgb.score(test_poly_scaled,test_target))"
      ],
      "metadata": {
        "colab": {
          "base_uri": "https://localhost:8080/"
        },
        "id": "1FQwBcC_6S5H",
        "outputId": "18d94d4b-f0a9-4d8d-c457-937c8e1bcbe6"
      },
      "execution_count": 19,
      "outputs": [
        {
          "output_type": "stream",
          "name": "stdout",
          "text": [
            "0.9057239057239057\n",
            "0.8588516746411483\n"
          ]
        }
      ]
    },
    {
      "cell_type": "markdown",
      "source": [
        "max_iter가 20인 모델을 통해 평가"
      ],
      "metadata": {
        "id": "9pqEbPSP7pZl"
      }
    },
    {
      "cell_type": "code",
      "source": [
        "from sklearn.ensemble import HistGradientBoostingClassifier\n",
        "import numpy as np\n",
        "\n",
        "hgb = HistGradientBoostingClassifier(random_state=201733922,learning_rate=0.06,max_iter=20,max_depth=10,l2_regularization=0.001)\n",
        "\n",
        "hgb.fit(train_poly_scaled,train_target)\n",
        "\n",
        "print(hgb.score(train_poly_scaled,train_target))\n",
        "print(hgb.score(test_poly_scaled,test_target))"
      ],
      "metadata": {
        "colab": {
          "base_uri": "https://localhost:8080/"
        },
        "id": "aRyuT0157tBQ",
        "outputId": "941e3cbe-dce2-46e0-94e1-61fdd303bce1"
      },
      "execution_count": 20,
      "outputs": [
        {
          "output_type": "stream",
          "name": "stdout",
          "text": [
            "0.8731762065095399\n",
            "0.8636363636363636\n"
          ]
        }
      ]
    },
    {
      "cell_type": "markdown",
      "source": [
        "비교해보았을 때,\n",
        "\n",
        "max_iter가 20인 모델쪽이 과대적합도 훨씬 덜 되었고, 정답률도 더 높게 나왔다.\n",
        "\n",
        "따라서 max_iter가 20인 모델을 최종적으로 선택하였다.\n",
        "\n",
        "이 모델은 과대적합이 거의 일어나지 않았으며, 86% 정도의 정확도를 가진다."
      ],
      "metadata": {
        "id": "M8_4A6Gs72Rh"
      }
    }
  ]
}