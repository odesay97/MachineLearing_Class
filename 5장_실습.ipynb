{
  "nbformat": 4,
  "nbformat_minor": 0,
  "metadata": {
    "colab": {
      "provenance": [],
      "authorship_tag": "ABX9TyNyTM+4hZs0Vf6dHqWDtZNt",
      "include_colab_link": true
    },
    "kernelspec": {
      "name": "python3",
      "display_name": "Python 3"
    },
    "language_info": {
      "name": "python"
    }
  },
  "cells": [
    {
      "cell_type": "markdown",
      "metadata": {
        "id": "view-in-github",
        "colab_type": "text"
      },
      "source": [
        "<a href=\"https://colab.research.google.com/github/odesay97/MachineLearing_Class/blob/main/5%EC%9E%A5_%EC%8B%A4%EC%8A%B5.ipynb\" target=\"_parent\"><img src=\"https://colab.research.google.com/assets/colab-badge.svg\" alt=\"Open In Colab\"/></a>"
      ]
    },
    {
      "cell_type": "code",
      "execution_count": 7,
      "metadata": {
        "id": "ilqwBCN2XRuA"
      },
      "outputs": [],
      "source": [
        "# 데이터 불러오기 및 전처리\n",
        "\n",
        "import pandas as pd\n",
        "\n",
        "dataset = pd.read_csv(\"https://bit.ly/wine_csv_data\")\n",
        "\n",
        "# dataset.head()\n",
        "# dataset.info()\n",
        "# dataset.describe()\n",
        "\n",
        "import numpy as np\n",
        "\n",
        "train_data = dataset[['alcohol','sugar','pH']]\n",
        "target_data = dataset['class']\n",
        "\n",
        "from sklearn.model_selection import train_test_split, GridSearchCV\n",
        "\n",
        "train_input, test_input, train_target, test_target = train_test_split(train_data,target_data,stratify=target_data,random_state=46,test_size=0.2)\n",
        "\n",
        "from sklearn.preprocessing import StandardScaler\n",
        "\n",
        "ss = StandardScaler()\n",
        "ss.fit(train_input)\n",
        "\n",
        "train_scaled = ss.transform(train_input)\n",
        "test_scaled = ss.transform(test_input)\n",
        "\n",
        "\n",
        "\n",
        "\n"
      ]
    },
    {
      "cell_type": "markdown",
      "source": [
        "결정트리"
      ],
      "metadata": {
        "id": "TcWu0rC1uGhk"
      }
    },
    {
      "cell_type": "code",
      "source": [
        "# 결정트리 최적화\n",
        "from sklearn.tree import DecisionTreeClassifier\n",
        "\n",
        "params = { 'max_depth': np.arange(3,20,1),\n",
        "          'min_impurity_decrease': np.arange(0.0001,0.001,0.0001),\n",
        "          'min_samples_split': np.arange(2,40,3),\n",
        "}\n",
        "\n",
        "gs1 = GridSearchCV(DecisionTreeClassifier(random_state=42),params,n_jobs=1)\n",
        "\n",
        "gs1.fit(train_input,train_target)\n",
        "\n",
        "dt = gs1.best_estimator_\n",
        "\n",
        "print(gs1.best_params_)\n",
        "print(dt.score(train_input,train_target))\n",
        "print(dt.score(test_input,test_target))\n"
      ],
      "metadata": {
        "colab": {
          "base_uri": "https://localhost:8080/"
        },
        "id": "tHfcDfQIX1fC",
        "outputId": "919c3232-9db6-4d03-f986-2a8555274867"
      },
      "execution_count": 4,
      "outputs": [
        {
          "output_type": "stream",
          "name": "stdout",
          "text": [
            "{'max_depth': 13, 'min_impurity_decrease': 0.00030000000000000003, 'min_samples_split': 8}\n",
            "0.9084564860426929\n",
            "0.8738461538461538\n"
          ]
        }
      ]
    },
    {
      "cell_type": "code",
      "source": [
        "# 가장 높은 중요성을 가진 sugar특성만을 가지고, 특성 공학을 사용하여 나타내보기\n",
        "\n",
        "from sklearn.model_selection import train_test_split\n",
        "\n",
        "import numpy as np\n",
        "\n",
        "train_data_A = dataset[[\"sugar\"]].to_numpy()\n",
        "target_data_A = dataset[\"class\"].to_numpy()\n",
        "\n",
        "from sklearn.model_selection import train_test_split\n",
        "\n",
        "train_input_A, test_input_A, train_target_A, test_target_A = train_test_split(train_data_A,target_data_A,random_state=55)\n",
        "\n",
        "\n",
        "from sklearn.preprocessing import PolynomialFeatures, StandardScaler\n",
        "\n",
        "\n",
        "pf = PolynomialFeatures(degree=3)\n",
        "pf.fit(train_input_A)\n",
        "train_poly = pf.transform(train_input_A)\n",
        "test_poly = pf.transform(test_input_A)\n",
        "\n",
        "ss = StandardScaler()\n",
        "ss.fit(train_poly)\n",
        "\n",
        "train_poly_scaled = ss.transform(train_poly)\n",
        "test_poly_scaled = ss.transform(test_poly)\n",
        "\n",
        "############\n",
        "from sklearn.tree import DecisionTreeClassifier\n",
        "\n",
        "params = { 'max_depth': np.arange(3,20,1),\n",
        "          'min_impurity_decrease': np.arange(0.0001,0.001,0.0001),\n",
        "          'min_samples_split': np.arange(2,40,3),\n",
        "}\n",
        "\n",
        "gs1 = GridSearchCV(DecisionTreeClassifier(random_state=42),params,n_jobs=1)\n",
        "gs1.fit(train_poly_scaled,train_target_A)\n",
        "\n",
        "print(gs1.score(train_poly_scaled,train_target_A))\n",
        "print(gs1.score(test_poly_scaled,test_target_A))\n",
        "print(gs1.best_params_)\n",
        "\n",
        "# 위의 방식보다 격차는 줄었지만 성능이 떨어졌음 -> 좋지 않은 시도로 보임"
      ],
      "metadata": {
        "colab": {
          "base_uri": "https://localhost:8080/"
        },
        "id": "ZqER4euGwKV5",
        "outputId": "29b554e1-a816-41f3-c1fe-2d0f0b73fd68"
      },
      "execution_count": null,
      "outputs": [
        {
          "output_type": "stream",
          "name": "stdout",
          "text": [
            "0.8399014778325123\n",
            "0.8283076923076923\n",
            "{'max_depth': 5, 'min_impurity_decrease': 0.0001, 'min_samples_split': 2}\n"
          ]
        }
      ]
    },
    {
      "cell_type": "code",
      "source": [
        "# 엔트로피 불순도를 사용하여 최적화\n",
        "from sklearn.tree import DecisionTreeClassifier\n",
        "\n",
        "params = { 'max_depth': np.arange(3,20,1),\n",
        "          'min_impurity_decrease': np.arange(0.0001,0.001,0.0001),\n",
        "          'min_samples_split': np.arange(2,40,3)\n",
        "}\n",
        "\n",
        "gs1 = GridSearchCV(DecisionTreeClassifier(random_state=42, criterion='entropy'),params,n_jobs=1)\n",
        "gs1.fit(train_input,train_target)\n",
        "\n",
        "dt = gs1.best_estimator_\n",
        "\n",
        "print(dt.score(train_input,train_target))\n",
        "print(dt.score(test_input,test_target))\n",
        "print(gs1.best_params_)\n",
        "\n",
        "# 과대적합이 조금 더 해결됨"
      ],
      "metadata": {
        "colab": {
          "base_uri": "https://localhost:8080/"
        },
        "id": "CpjRvnqun8pf",
        "outputId": "fcd15a33-264b-4856-cab0-10038e0460b0"
      },
      "execution_count": 5,
      "outputs": [
        {
          "output_type": "stream",
          "name": "stdout",
          "text": [
            "0.8840311986863711\n",
            "0.8707692307692307\n",
            "{'max_depth': 9, 'min_impurity_decrease': 0.0009000000000000001, 'min_samples_split': 2}\n"
          ]
        }
      ]
    },
    {
      "cell_type": "markdown",
      "source": [
        "랜덤 포레스트"
      ],
      "metadata": {
        "id": "8DLkWRW0yGVa"
      }
    },
    {
      "cell_type": "code",
      "source": [
        "# 랜덤 포레스트\n",
        "\n",
        "from sklearn.model_selection import cross_validate\n",
        "from sklearn.ensemble import RandomForestClassifier\n",
        "\n",
        "rf = RandomForestClassifier(n_jobs=-1,random_state=49,oob_score=True)\n",
        "scores = cross_validate(rf,train_input,train_target,return_train_score=True,n_jobs=-1)\n",
        "\n",
        "import numpy as np\n",
        "print(scores)\n",
        "print(np.mean(scores['train_score']), np.mean(scores['test_score']))\n",
        "\n",
        "# 과대적합 상태\n"
      ],
      "metadata": {
        "id": "X09dhxlgXcuc",
        "colab": {
          "base_uri": "https://localhost:8080/"
        },
        "outputId": "e5c664ad-0cd4-441f-b52e-0aec4b06e269"
      },
      "execution_count": 9,
      "outputs": [
        {
          "output_type": "stream",
          "name": "stdout",
          "text": [
            "{'fit_time': array([1.4081924 , 1.30694771, 1.2198329 , 1.11660886, 0.85328317]), 'score_time': array([0.12243986, 0.10814619, 0.07639885, 0.10161257, 0.0811007 ]), 'test_score': array([0.87788462, 0.9       , 0.88354187, 0.88065448, 0.89316651]), 'train_score': array([0.99759442, 0.99663219, 0.9968735 , 0.998557  , 0.9978355 ])}\n",
            "0.9974985197982551 0.8870494928555563\n"
          ]
        }
      ]
    },
    {
      "cell_type": "code",
      "source": [
        "# 그리드 서치를 통해 하이퍼파라미터 튜닝 후 학습\n",
        "\n",
        "from sklearn.ensemble import RandomForestClassifier\n",
        "from sklearn.model_selection import GridSearchCV\n",
        "import numpy as np\n",
        "\n",
        "params = {\n",
        "    'max_depth': np.arange(2,11,1),\n",
        "    'min_impurity_decrease':np.arange(0.0001,0.001,0.0001),\n",
        "    'min_samples_split' : np.arange(2,20,2)\n",
        "}\n",
        "\n",
        "gs1 = GridSearchCV(RandomForestClassifier(n_jobs=-1,random_state=42),params,n_jobs=-1)\n",
        "gs1.fit(train_input,train_target)\n",
        "rf = gs1.best_estimator_\n",
        "\n",
        "print(rf.score(train_input,train_target))\n",
        "print(rf.score(test_input,test_target))\n",
        "print(gs1.best_params_)\n",
        "\n",
        "# 과대적합이 많이 개선됨\n"
      ],
      "metadata": {
        "id": "caP8D2NTtEwF",
        "colab": {
          "base_uri": "https://localhost:8080/"
        },
        "outputId": "0f3c7613-2e82-4018-93e5-208466b54016"
      },
      "execution_count": 14,
      "outputs": [
        {
          "output_type": "stream",
          "name": "stdout",
          "text": [
            "0.9101404656532615\n",
            "0.8807692307692307\n",
            "{'max_depth': 10, 'min_impurity_decrease': 0.0001, 'min_samples_split': 8}\n"
          ]
        }
      ]
    },
    {
      "cell_type": "code",
      "source": [
        "# 그리드 서치를 통해 하이퍼파라미터 튜닝 후 학습 (엔트로피)\n",
        "\n",
        "from sklearn.ensemble import RandomForestClassifier\n",
        "from sklearn.model_selection import GridSearchCV\n",
        "import numpy as np\n",
        "\n",
        "params = {\n",
        "    'max_depth': np.arange(2,11,1),\n",
        "    'min_impurity_decrease':np.arange(0.0001,0.001,0.0001),\n",
        "    'min_samples_split' : np.arange(2,20,2)\n",
        "}\n",
        "\n",
        "gs1 = GridSearchCV(RandomForestClassifier(n_jobs=-1,random_state=42, criterion='entropy'),params,n_jobs=-1)\n",
        "gs1.fit(train_input,train_target)\n",
        "rf = gs1.best_estimator_\n",
        "\n",
        "print(rf.score(train_input,train_target))\n",
        "print(rf.score(test_input,test_target))\n",
        "print(gs1.best_params_)\n",
        "\n",
        "# 성능의 미묘한 향상이 있음 -> 크게 유의미하진 않음"
      ],
      "metadata": {
        "colab": {
          "base_uri": "https://localhost:8080/"
        },
        "id": "DTeJyzNVxbMV",
        "outputId": "07c6a945-791a-490d-d22a-8e51a245a696"
      },
      "execution_count": 15,
      "outputs": [
        {
          "output_type": "stream",
          "name": "stdout",
          "text": [
            "0.9097556282470656\n",
            "0.8823076923076923\n",
            "{'max_depth': 10, 'min_impurity_decrease': 0.0002, 'min_samples_split': 6}\n"
          ]
        }
      ]
    },
    {
      "cell_type": "markdown",
      "source": [
        "엑스트라 트리"
      ],
      "metadata": {
        "id": "TGYs0ODzyIpg"
      }
    },
    {
      "cell_type": "code",
      "source": [
        "# 엑스트라 트리\n",
        "from sklearn.model_selection import cross_validate\n",
        "from sklearn.ensemble import ExtraTreesClassifier\n",
        "\n",
        "et = ExtraTreesClassifier(n_jobs=-1,random_state=49,oob_score=True)\n",
        "scores = cross_validate(et,train_input,train_target,return_train_score=True,n_jobs=-1)\n",
        "\n",
        "import numpy as np\n",
        "print(scores)\n",
        "print(np.mean(scores['train_score']), np.mean(scores['test_score']))\n"
      ],
      "metadata": {
        "id": "oJrG1snIXc34",
        "colab": {
          "base_uri": "https://localhost:8080/",
          "height": 636
        },
        "outputId": "16b1d0ae-0217-4b3a-9010-0d5e80c5e87e"
      },
      "execution_count": 16,
      "outputs": [
        {
          "output_type": "error",
          "ename": "ValueError",
          "evalue": "ignored",
          "traceback": [
            "\u001b[0;31m---------------------------------------------------------------------------\u001b[0m",
            "\u001b[0;31mValueError\u001b[0m                                Traceback (most recent call last)",
            "\u001b[0;32m<ipython-input-16-4a8a2f64756c>\u001b[0m in \u001b[0;36m<cell line: 6>\u001b[0;34m()\u001b[0m\n\u001b[1;32m      4\u001b[0m \u001b[0;34m\u001b[0m\u001b[0m\n\u001b[1;32m      5\u001b[0m \u001b[0met\u001b[0m \u001b[0;34m=\u001b[0m \u001b[0mExtraTreesClassifier\u001b[0m\u001b[0;34m(\u001b[0m\u001b[0mn_jobs\u001b[0m\u001b[0;34m=\u001b[0m\u001b[0;34m-\u001b[0m\u001b[0;36m1\u001b[0m\u001b[0;34m,\u001b[0m\u001b[0mrandom_state\u001b[0m\u001b[0;34m=\u001b[0m\u001b[0;36m49\u001b[0m\u001b[0;34m,\u001b[0m\u001b[0moob_score\u001b[0m\u001b[0;34m=\u001b[0m\u001b[0;32mTrue\u001b[0m\u001b[0;34m)\u001b[0m\u001b[0;34m\u001b[0m\u001b[0;34m\u001b[0m\u001b[0m\n\u001b[0;32m----> 6\u001b[0;31m \u001b[0mscores\u001b[0m \u001b[0;34m=\u001b[0m \u001b[0mcross_validate\u001b[0m\u001b[0;34m(\u001b[0m\u001b[0met\u001b[0m\u001b[0;34m,\u001b[0m\u001b[0mtrain_input\u001b[0m\u001b[0;34m,\u001b[0m\u001b[0mtrain_target\u001b[0m\u001b[0;34m,\u001b[0m\u001b[0mreturn_train_score\u001b[0m\u001b[0;34m=\u001b[0m\u001b[0;32mTrue\u001b[0m\u001b[0;34m,\u001b[0m\u001b[0mn_jobs\u001b[0m\u001b[0;34m=\u001b[0m\u001b[0;34m-\u001b[0m\u001b[0;36m1\u001b[0m\u001b[0;34m)\u001b[0m\u001b[0;34m\u001b[0m\u001b[0;34m\u001b[0m\u001b[0m\n\u001b[0m\u001b[1;32m      7\u001b[0m \u001b[0;34m\u001b[0m\u001b[0m\n\u001b[1;32m      8\u001b[0m \u001b[0;32mimport\u001b[0m \u001b[0mnumpy\u001b[0m \u001b[0;32mas\u001b[0m \u001b[0mnp\u001b[0m\u001b[0;34m\u001b[0m\u001b[0;34m\u001b[0m\u001b[0m\n",
            "\u001b[0;32m/usr/local/lib/python3.10/dist-packages/sklearn/model_selection/_validation.py\u001b[0m in \u001b[0;36mcross_validate\u001b[0;34m(estimator, X, y, groups, scoring, cv, n_jobs, verbose, fit_params, pre_dispatch, return_train_score, return_estimator, error_score)\u001b[0m\n\u001b[1;32m    283\u001b[0m     )\n\u001b[1;32m    284\u001b[0m \u001b[0;34m\u001b[0m\u001b[0m\n\u001b[0;32m--> 285\u001b[0;31m     \u001b[0m_warn_or_raise_about_fit_failures\u001b[0m\u001b[0;34m(\u001b[0m\u001b[0mresults\u001b[0m\u001b[0;34m,\u001b[0m \u001b[0merror_score\u001b[0m\u001b[0;34m)\u001b[0m\u001b[0;34m\u001b[0m\u001b[0;34m\u001b[0m\u001b[0m\n\u001b[0m\u001b[1;32m    286\u001b[0m \u001b[0;34m\u001b[0m\u001b[0m\n\u001b[1;32m    287\u001b[0m     \u001b[0;31m# For callabe scoring, the return type is only know after calling. If the\u001b[0m\u001b[0;34m\u001b[0m\u001b[0;34m\u001b[0m\u001b[0m\n",
            "\u001b[0;32m/usr/local/lib/python3.10/dist-packages/sklearn/model_selection/_validation.py\u001b[0m in \u001b[0;36m_warn_or_raise_about_fit_failures\u001b[0;34m(results, error_score)\u001b[0m\n\u001b[1;32m    365\u001b[0m                 \u001b[0;34mf\"Below are more details about the failures:\\n{fit_errors_summary}\"\u001b[0m\u001b[0;34m\u001b[0m\u001b[0;34m\u001b[0m\u001b[0m\n\u001b[1;32m    366\u001b[0m             )\n\u001b[0;32m--> 367\u001b[0;31m             \u001b[0;32mraise\u001b[0m \u001b[0mValueError\u001b[0m\u001b[0;34m(\u001b[0m\u001b[0mall_fits_failed_message\u001b[0m\u001b[0;34m)\u001b[0m\u001b[0;34m\u001b[0m\u001b[0;34m\u001b[0m\u001b[0m\n\u001b[0m\u001b[1;32m    368\u001b[0m \u001b[0;34m\u001b[0m\u001b[0m\n\u001b[1;32m    369\u001b[0m         \u001b[0;32melse\u001b[0m\u001b[0;34m:\u001b[0m\u001b[0;34m\u001b[0m\u001b[0;34m\u001b[0m\u001b[0m\n",
            "\u001b[0;31mValueError\u001b[0m: \nAll the 5 fits failed.\nIt is very likely that your model is misconfigured.\nYou can try to debug the error by setting error_score='raise'.\n\nBelow are more details about the failures:\n--------------------------------------------------------------------------------\n5 fits failed with the following error:\nTraceback (most recent call last):\n  File \"/usr/local/lib/python3.10/dist-packages/sklearn/model_selection/_validation.py\", line 686, in _fit_and_score\n    estimator.fit(X_train, y_train, **fit_params)\n  File \"/usr/local/lib/python3.10/dist-packages/sklearn/ensemble/_forest.py\", line 434, in fit\n    raise ValueError(\"Out of bag estimation only available if bootstrap=True\")\nValueError: Out of bag estimation only available if bootstrap=True\n"
          ]
        }
      ]
    },
    {
      "cell_type": "markdown",
      "source": [
        "그레디언트 부스팅"
      ],
      "metadata": {
        "id": "HD-BqpKOyKVQ"
      }
    },
    {
      "cell_type": "code",
      "source": [
        "# 그레디언트 부스팅"
      ],
      "metadata": {
        "id": "8V_CPRqfXc_z"
      },
      "execution_count": null,
      "outputs": []
    },
    {
      "cell_type": "markdown",
      "source": [
        "히스토그램기반 그레디언트 부스팅"
      ],
      "metadata": {
        "id": "h3XJaUmzyMjg"
      }
    },
    {
      "cell_type": "code",
      "source": [
        "# 히스토그램기반 그래디언트 부스팅"
      ],
      "metadata": {
        "id": "B-1kpR3QXdK9"
      },
      "execution_count": null,
      "outputs": []
    }
  ]
}